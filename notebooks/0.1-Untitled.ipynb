{
 "cells": [
  {
   "cell_type": "code",
   "execution_count": 84,
   "id": "60e1ee1b-fd9d-49f3-8212-e69c4d7aeb57",
   "metadata": {},
   "outputs": [],
   "source": [
    "from scipy import stats\n",
    "import seaborn as sns\n",
    "import pandas as pd\n",
    "import pingouin as pt"
   ]
  },
  {
   "cell_type": "code",
   "execution_count": 56,
   "id": "29d95460-9e39-455c-8f9e-ab10f6c1c658",
   "metadata": {},
   "outputs": [],
   "source": [
    "pre = [135,142,137,122,147,151,131,117,154,143,133]\n",
    "post = [127,145,131,125,132,147,119,125,132,139,122]\n",
    "c = [1,2,3,4,5,5,5,5,6,7,8,90]"
   ]
  },
  {
   "cell_type": "code",
   "execution_count": 123,
   "id": "e311d66f-e41c-4003-a1fa-2651cde3c5ba",
   "metadata": {},
   "outputs": [
    {
     "data": {
      "text/plain": [
       "<AxesSubplot:xlabel='test', ylabel='score'>"
      ]
     },
     "execution_count": 123,
     "metadata": {},
     "output_type": "execute_result"
    },
    {
     "data": {
      "image/png": "[encoded data removed]",
      "text/plain": [
       "<Figure size 432x288 with 1 Axes>"
      ]
     },
     "metadata": {
      "needs_background": "light"
     },
     "output_type": "display_data"
    }
   ],
   "source": [
    "sns.boxplot(x='test',y='score',data=df)"
   ]
  },
  {
   "cell_type": "markdown",
   "id": "7298d578-2d0e-4766-b62f-1fe9b0f0ef46",
   "metadata": {},
   "source": [
    "Our observations are the distances of n methods (norm)\n",
    "Null hypotheses $h_{0}$: the true mean difference is equal to zero (between the observations). In other words, the embeddings are useless because there is no difference between 2 methods.\n",
    "Alternative hypotheses: the true mean difference is not equal to zero (two-tailed), so our embeddings are useful"
   ]
  },
  {
   "cell_type": "code",
   "execution_count": 111,
   "id": "5fe1c548-5140-44da-96a3-d8cccdc765d6",
   "metadata": {},
   "outputs": [],
   "source": [
    "df = pd.concat([pd.DataFrame({'test': 'pre', 'score': pre}), pd.DataFrame({'test': 'post', 'score': post})])"
   ]
  },
  {
   "cell_type": "code",
   "execution_count": 112,
   "id": "967d8802-3465-4861-a190-b10e7da11ef3",
   "metadata": {},
   "outputs": [
    {
     "data": {
      "text/html": [
       "<div>\n",
       "<style scoped>\n",
       "    .dataframe tbody tr th:only-of-type {\n",
       "        vertical-align: middle;\n",
       "    }\n",
       "\n",
       "    .dataframe tbody tr th {\n",
       "        vertical-align: top;\n",
       "    }\n",
       "\n",
       "    .dataframe thead th {\n",
       "        text-align: right;\n",
       "    }\n",
       "</style>\n",
       "<table border=\"1\" class=\"dataframe\">\n",
       "  <thead>\n",
       "    <tr style=\"text-align: right;\">\n",
       "      <th></th>\n",
       "      <th>test</th>\n",
       "      <th>score</th>\n",
       "    </tr>\n",
       "  </thead>\n",
       "  <tbody>\n",
       "    <tr>\n",
       "      <th>0</th>\n",
       "      <td>pre</td>\n",
       "      <td>135</td>\n",
       "    </tr>\n",
       "    <tr>\n",
       "      <th>1</th>\n",
       "      <td>pre</td>\n",
       "      <td>142</td>\n",
       "    </tr>\n",
       "    <tr>\n",
       "      <th>2</th>\n",
       "      <td>pre</td>\n",
       "      <td>137</td>\n",
       "    </tr>\n",
       "    <tr>\n",
       "      <th>3</th>\n",
       "      <td>pre</td>\n",
       "      <td>122</td>\n",
       "    </tr>\n",
       "    <tr>\n",
       "      <th>4</th>\n",
       "      <td>pre</td>\n",
       "      <td>147</td>\n",
       "    </tr>\n",
       "    <tr>\n",
       "      <th>5</th>\n",
       "      <td>pre</td>\n",
       "      <td>151</td>\n",
       "    </tr>\n",
       "    <tr>\n",
       "      <th>6</th>\n",
       "      <td>pre</td>\n",
       "      <td>131</td>\n",
       "    </tr>\n",
       "    <tr>\n",
       "      <th>7</th>\n",
       "      <td>pre</td>\n",
       "      <td>117</td>\n",
       "    </tr>\n",
       "    <tr>\n",
       "      <th>8</th>\n",
       "      <td>pre</td>\n",
       "      <td>154</td>\n",
       "    </tr>\n",
       "    <tr>\n",
       "      <th>9</th>\n",
       "      <td>pre</td>\n",
       "      <td>143</td>\n",
       "    </tr>\n",
       "    <tr>\n",
       "      <th>10</th>\n",
       "      <td>pre</td>\n",
       "      <td>133</td>\n",
       "    </tr>\n",
       "    <tr>\n",
       "      <th>0</th>\n",
       "      <td>post</td>\n",
       "      <td>127</td>\n",
       "    </tr>\n",
       "    <tr>\n",
       "      <th>1</th>\n",
       "      <td>post</td>\n",
       "      <td>145</td>\n",
       "    </tr>\n",
       "    <tr>\n",
       "      <th>2</th>\n",
       "      <td>post</td>\n",
       "      <td>131</td>\n",
       "    </tr>\n",
       "    <tr>\n",
       "      <th>3</th>\n",
       "      <td>post</td>\n",
       "      <td>125</td>\n",
       "    </tr>\n",
       "    <tr>\n",
       "      <th>4</th>\n",
       "      <td>post</td>\n",
       "      <td>132</td>\n",
       "    </tr>\n",
       "    <tr>\n",
       "      <th>5</th>\n",
       "      <td>post</td>\n",
       "      <td>147</td>\n",
       "    </tr>\n",
       "    <tr>\n",
       "      <th>6</th>\n",
       "      <td>post</td>\n",
       "      <td>119</td>\n",
       "    </tr>\n",
       "    <tr>\n",
       "      <th>7</th>\n",
       "      <td>post</td>\n",
       "      <td>125</td>\n",
       "    </tr>\n",
       "    <tr>\n",
       "      <th>8</th>\n",
       "      <td>post</td>\n",
       "      <td>132</td>\n",
       "    </tr>\n",
       "    <tr>\n",
       "      <th>9</th>\n",
       "      <td>post</td>\n",
       "      <td>139</td>\n",
       "    </tr>\n",
       "    <tr>\n",
       "      <th>10</th>\n",
       "      <td>post</td>\n",
       "      <td>122</td>\n",
       "    </tr>\n",
       "  </tbody>\n",
       "</table>\n",
       "</div>"
      ],
      "text/plain": [
       "    test  score\n",
       "0    pre    135\n",
       "1    pre    142\n",
       "2    pre    137\n",
       "3    pre    122\n",
       "4    pre    147\n",
       "5    pre    151\n",
       "6    pre    131\n",
       "7    pre    117\n",
       "8    pre    154\n",
       "9    pre    143\n",
       "10   pre    133\n",
       "0   post    127\n",
       "1   post    145\n",
       "2   post    131\n",
       "3   post    125\n",
       "4   post    132\n",
       "5   post    147\n",
       "6   post    119\n",
       "7   post    125\n",
       "8   post    132\n",
       "9   post    139\n",
       "10  post    122"
      ]
     },
     "execution_count": 112,
     "metadata": {},
     "output_type": "execute_result"
    }
   ],
   "source": [
    "df"
   ]
  },
  {
   "cell_type": "code",
   "execution_count": 113,
   "id": "a0029f65-2ac5-4b20-a6b8-6f80734cb136",
   "metadata": {},
   "outputs": [],
   "source": [
    "b = df.query('test == \"pre\"')['score']\n",
    "a = df.query('test == \"post\"')['score']"
   ]
  },
  {
   "cell_type": "code",
   "execution_count": 114,
   "id": "761bc5aa-d6d8-4835-add3-878f519b21a1",
   "metadata": {},
   "outputs": [
    {
     "data": {
      "text/plain": [
       "0     127\n",
       "1     145\n",
       "2     131\n",
       "3     125\n",
       "4     132\n",
       "5     147\n",
       "6     119\n",
       "7     125\n",
       "8     132\n",
       "9     139\n",
       "10    122\n",
       "Name: score, dtype: int64"
      ]
     },
     "execution_count": 114,
     "metadata": {},
     "output_type": "execute_result"
    }
   ],
   "source": [
    "a"
   ]
  },
  {
   "cell_type": "code",
   "execution_count": 119,
   "id": "ec36f929-105c-428e-81df-fbadf205656f",
   "metadata": {},
   "outputs": [
    {
     "data": {
      "text/plain": [
       "Ttest_relResult(statistic=-2.340102067923402, pvalue=0.041332369365550854)"
      ]
     },
     "execution_count": 119,
     "metadata": {},
     "output_type": "execute_result"
    }
   ],
   "source": [
    "stats.ttest_rel(a,b)"
   ]
  },
  {
   "cell_type": "code",
   "execution_count": 51,
   "id": "7573c565-9b46-4260-ab29-827972c9f93b",
   "metadata": {},
   "outputs": [
    {
     "data": {
      "text/plain": [
       "ShapiroResult(statistic=0.9713608026504517, pvalue=0.8999244570732117)"
      ]
     },
     "execution_count": 51,
     "metadata": {},
     "output_type": "execute_result"
    }
   ],
   "source": [
    "stats.shapiro(a)"
   ]
  },
  {
   "cell_type": "code",
   "execution_count": 57,
   "id": "dba43186-3871-48e8-aecc-c1e457b70612",
   "metadata": {},
   "outputs": [
    {
     "data": {
      "text/plain": [
       "ShapiroResult(statistic=0.40182769298553467, pvalue=3.6397555049916264e-06)"
      ]
     },
     "execution_count": 57,
     "metadata": {},
     "output_type": "execute_result"
    }
   ],
   "source": [
    "stats.shapiro(c)"
   ]
  },
  {
   "cell_type": "code",
   "execution_count": 118,
   "id": "8722b0cc-17a3-40d8-a5c2-20c6dec7ebcf",
   "metadata": {},
   "outputs": [
    {
     "data": {
      "text/plain": [
       "Ttest_relResult(statistic=-2.340102067923402, pvalue=0.041332369365550854)"
      ]
     },
     "execution_count": 118,
     "metadata": {},
     "output_type": "execute_result"
    }
   ],
   "source": [
    "stats.ttest_rel(a,b,alternative='two-sided')"
   ]
  },
  {
   "cell_type": "code",
   "execution_count": 121,
   "id": "650b355b-37f7-4e18-a5af-bc9d4c4e7a47",
   "metadata": {},
   "outputs": [
    {
     "data": {
      "text/plain": [
       "Ttest_relResult(statistic=-2.340102067923402, pvalue=0.020666184682775427)"
      ]
     },
     "execution_count": 121,
     "metadata": {},
     "output_type": "execute_result"
    }
   ],
   "source": [
    "stats.ttest_rel(a,b,alternative='less')"
   ]
  },
  {
   "cell_type": "code",
   "execution_count": 120,
   "id": "c53cd095-524d-4aaf-9eb1-169e8d94dbde",
   "metadata": {},
   "outputs": [
    {
     "data": {
      "text/plain": [
       "Ttest_relResult(statistic=-2.340102067923402, pvalue=0.9793338153172246)"
      ]
     },
     "execution_count": 120,
     "metadata": {},
     "output_type": "execute_result"
    }
   ],
   "source": [
    "stats.ttest_rel(a,b,alternative='greater')"
   ]
  },
  {
   "cell_type": "code",
   "execution_count": null,
   "id": "0de71059-6cd3-4b69-99af-30ed46bcb090",
   "metadata": {},
   "outputs": [],
   "source": []
  }
 ],
 "metadata": {
  "kernelspec": {
   "display_name": "Python 3 (ipykernel)",
   "language": "python",
   "name": "python3"
  },
  "language_info": {
   "codemirror_mode": {
    "name": "ipython",
    "version": 3
   },
   "file_extension": ".py",
   "mimetype": "text/x-python",
   "name": "python",
   "nbconvert_exporter": "python",
   "pygments_lexer": "ipython3",
   "version": "3.9.7"
  }
 },
 "nbformat": 4,
 "nbformat_minor": 5
}
