{
 "cells": [
  {
   "cell_type": "markdown",
   "id": "69ecf92d",
   "metadata": {
    "tags": []
   },
   "source": [
    "# TraceBERT\n",
    "### Objective\n",
    "In this notebook, we aim to train a BERT-style model using standard MLM on an _abstracted_ Java trace dataset consisting of two datasets generated from Commonsio and Nettyio.\n",
    "\n",
    "To achieve this and evaluate our performance, we apply the following methodology:\n",
    "1. Train a tokenizer specifically designed for our data, which occurs in the form\n",
    "```\n",
    "performExpensiveLogSetup [ENTRY] void [CALL] java.io.PrintStream println java.lang.String void [CALL] java.lang.Math pow double|double double [CALL] java.lang.Math sqrt double double [CALL] java.io.PrintStream println java.lang.String void [EXIT]\n",
    "```\n",
    "\n",
    "We want each token to be either the method name e.g. _performExpensiveLogSetup_ or an event in the trace _[EXIT]_. This allows us to represent long traces without using a fancy transformer.\n",
    "\n",
    "2. We define a model based on BERT, but somewhat smaller.\n",
    "\n",
    "| Hyperparameter               | Value |\n",
    "|------------------------------|-------|\n",
    "| vocab_size                   | 9582  |\n",
    "| max_position_embeddings      | 768   |\n",
    "| intermediate_size            | 2048  |\n",
    "| hidden_size                  | 512   |\n",
    "| num_attention_heads          | 8     |\n",
    "| num_hidden_layers            | 6     |\n",
    "| type_vocab_size              | 5     |\n",
    "| hidden_dropout_prob          | 0.1   |\n",
    "| attention_probs_dropout_prob | 0.1   |\n",
    "\n",
    "3. We load our dataset (Commonsio traces) and split by train/dev/test (dev overlaps with train, dev does not).\n",
    "\n",
    "4. We tokenize our dataset, and proceed to inspect it to see some of the most frequent function names across the train/dev/test split.\n",
    "\n",
    "5. We define a trainer class to pretrain a BERT model from scratch. During training, we evaluate our performance on the dev set and plot our loss curve for a heldout slice of the training dataset.\n",
    "\n",
    "6. We begin our model interpretation by loading a new dataset consisting of Nettyio traces. This serves as a true evaluation set, as presumably Nettyio traces are more distant from Commonsio traces. We extract all examples of the `compare` method. We do the same for our Commonsio training dataset, and slice the datasets such that their lengths are equal (i.e. if there are 1500 examples from Commonsio, and 200 from Nettyio, we select the first 200 from Commonsio).\n",
    "\n",
    "7. We proceed to define a function to extract the embedding of the [CLS] token from the trained model. We then extract the embeddings for ten thousand examples from Commonsio, the Commonsio and Nettyio `compare` examples, and extract embeddings for another Commonsio function, `checkPositionIndexes`.\n",
    "\n",
    "8. We then construct various FAISS (vector search) indexes on the first 10k examples from Commonsio (compute reasons). These indexes allow us to search in the vector space for similar embeddings based on Inner Product and Euclidean distances. We show that embeddings are able to find similar functions in the space. We also calculate cosine similarities, and perform a t-test on a sample of distances of embeddings of the same function, and another sample of embeddings from a different function.\n",
    "\n",
    "9. We then proceed to perform a similar analysis using tSNE projection/clustering, showing that functions of the same name cluster, and different functions cluster elsewhere. We also cluster ten thousand traces from Commonsio.\n",
    "\n",
    "10. As a toy, we demonstrate that TraceBERT is able to recover missing calls and function names."
   ]
  },
  {
   "cell_type": "markdown",
   "id": "83ee5bc6-535e-4bec-b97e-b59e26a1666e",
   "metadata": {},
   "source": [
    "Re-calc embeddings without function"
   ]
  },
  {
   "cell_type": "markdown",
   "id": "3b8ecd55",
   "metadata": {},
   "source": [
    "### Generic imports"
   ]
  },
  {
   "cell_type": "code",
   "execution_count": null,
   "id": "54212ae2-9ad7-43bd-944d-37da478db771",
   "metadata": {},
   "outputs": [],
   "source": [
    "# Force tokenizers to run in parallel\n",
    "%env TOKENIZERS_PARALLELISM=true\n",
    "%env HF_DATASETS_CACHE=hf_cache\n",
    "%env NCCL_DEBUG=INFO\n",
    "%env CUDA_VISIBLE_DEVICES=2,4,5\n",
    "import wandb\n",
    "import torch\n",
    "import numpy as np\n",
    "import faiss\n",
    "from collections import Counter\n",
    "import matplotlib.pyplot as plt\n",
    "\n",
    "# Check if CUDA is available (Docker attached correctly)\n",
    "print(f\"CUDA: {torch.cuda.is_available()}\")"
   ]
  },
  {
   "cell_type": "code",
   "execution_count": null,
   "id": "95621fe3-a92d-4a8b-8618-1948c0d6a1db",
   "metadata": {},
   "outputs": [],
   "source": [
    "print(torch.cuda.device_count())"
   ]
  },
  {
   "cell_type": "code",
   "execution_count": null,
   "id": "032b3f9b-46de-4007-9fe1-41f9d625c322",
   "metadata": {},
   "outputs": [],
   "source": [
    "wandb.login() # log in weights & biases"
   ]
  },
  {
   "cell_type": "markdown",
   "id": "6364a8e4",
   "metadata": {},
   "source": [
    "### Trace Tokenizer"
   ]
  },
  {
   "cell_type": "code",
   "execution_count": null,
   "id": "a53d77ce",
   "metadata": {},
   "outputs": [],
   "source": [
    "from tokenizers import Tokenizer, Regex\n",
    "from tokenizers.models import WordLevel\n",
    "from tokenizers.processors import BertProcessing\n",
    "from tokenizers.trainers import WordLevelTrainer\n",
    "from tokenizers.pre_tokenizers import Split\n",
    "from tokenizers.normalizers import Strip"
   ]
  },
  {
   "cell_type": "markdown",
   "id": "40a5ab07",
   "metadata": {},
   "source": [
    "#### Tokenizer set up"
   ]
  },
  {
   "cell_type": "code",
   "execution_count": null,
   "id": "8359f48f",
   "metadata": {},
   "outputs": [],
   "source": [
    "exp = Regex(\"(^((\\w)+(?=\\s)))|((\\[ENTRY\\]\\ (\\w|\\||\\.)+)\\s)|((\\[CALL\\]\\ (\\w|\\||\\.|\\s)+)(?=\\ \\[))+|(\\[EXIT\\])\")\n",
    "\n",
    "trace_tokenizer = Tokenizer(WordLevel(unk_token=\"[UNK]\"))\n",
    "trace_tokenizer.add_special_tokens([\"[UNK]\", \"[CLS]\", \"[SEP]\", \"[PAD]\", \"[MASK]\"])#, \"[ENTRY]\", \"[EXIT]\", \"[CALL]\")\n",
    "trace_tokenizer.normalizer = Strip()\n",
    "trace_tokenizer.pre_tokenizer = Split(pattern=exp, behavior=\"removed\",invert=True)\n",
    "trace_tokenizer.post_processor = BertProcessing(sep=(\"[SEP]\", 0),cls=(\"[CLS]\", 1))\n",
    "VOCAB_SIZE = 10000\n",
    "trainer = WordLevelTrainer(\n",
    "    vocab_size=VOCAB_SIZE, special_tokens=[\"[UNK]\", \"[CLS]\", \"[SEP]\", \"[PAD]\", \"[MASK]\"]\n",
    ")"
   ]
  },
  {
   "cell_type": "code",
   "execution_count": null,
   "id": "d909d198",
   "metadata": {},
   "outputs": [],
   "source": [
    "# Sanity check on the pre_tokenizer\n",
    "trace_tokenizer.pre_tokenizer.pre_tokenize_str(\n",
    "        (\n",
    "        \"[ENTRY] void \"\n",
    "        \"[CALL] java.io.PrintStream println java.lang.String void \"\n",
    "        \"[CALL] java.lang.Math pow double|double double \"\n",
    "        \"[CALL] java.lang.Math sqrt double double \"\n",
    "        \"[CALL] java.io.PrintStream println java.lang.String void \"\n",
    "        \"[EXIT]\")\n",
    "    )\n"
   ]
  },
  {
   "cell_type": "markdown",
   "id": "514f7702",
   "metadata": {},
   "source": [
    "#### Train tokenizer"
   ]
  },
  {
   "cell_type": "code",
   "execution_count": null,
   "id": "9fc21d4b-3d3a-44d1-892e-531afdb8bb89",
   "metadata": {},
   "outputs": [],
   "source": [
    "#t = Tokenizer.from_file(\"trace_tokenizer_google.json\")\n",
    "import re"
   ]
  },
  {
   "cell_type": "code",
   "execution_count": null,
   "id": "71d85c5c-cde0-455d-9857-667300134b81",
   "metadata": {
    "tags": []
   },
   "outputs": [],
   "source": [
    "dict(filter(lambda elem: re.search('^(?!\\[ENTRY\\]).*',elem[0]),trace_tokenizer.get_vocab().items()))"
   ]
  },
  {
   "cell_type": "code",
   "execution_count": null,
   "id": "fb720936-1d3c-4816-a136-c8b9bf5ef216",
   "metadata": {
    "tags": []
   },
   "outputs": [],
   "source": [
    "{k: v for k, v in sorted(t.get_vocab().items(), reverse=True, key=lambda item: item[1])}"
   ]
  },
  {
   "cell_type": "code",
   "execution_count": null,
   "id": "f18e1973-967c-437c-ad73-36d4cf7ec1d0",
   "metadata": {
    "tags": []
   },
   "outputs": [],
   "source": [
    "trace_tokenizer.get_vocab_size()"
   ]
  },
  {
   "cell_type": "code",
   "execution_count": null,
   "id": "fee5a6e4-0ab9-424d-a5a6-3e2bcdf9490c",
   "metadata": {},
   "outputs": [],
   "source": [
    "# Sanity check on the pre_tokenizer\n",
    "t.pre_tokenizer.pre_tokenize_str(\n",
    "        (\n",
    "        \"[ENTRY] void \"\n",
    "        \"[CALL] java.io.PrintStream println java.lang.String void \"\n",
    "        \"[CALL] java.lang.Math pow double|double double \"\n",
    "        \"[CALL] java.lang.Math sqrt double double \"\n",
    "        \"[CALL] java.io.PrintStream println java.lang.String void \"\n",
    "        \"[EXIT]\")\n",
    "    )"
   ]
  },
  {
   "cell_type": "code",
   "execution_count": null,
   "id": "c533fd48",
   "metadata": {},
   "outputs": [],
   "source": [
    "files = [\"../projsplit/google_for_vocab.txt\"] # Define files to train on\n",
    "trace_tokenizer.train(files, trainer)\n",
    "trace_tokenizer.save(\"trace_tokenizer_google_no_method_s.json\") # Save tokenizer"
   ]
  },
  {
   "cell_type": "code",
   "execution_count": null,
   "id": "373f4f2d-8b6b-4cc2-ac34-db9004de4463",
   "metadata": {
    "tags": []
   },
   "outputs": [],
   "source": [
    "trace_tokenizer.get_vocab()"
   ]
  },
  {
   "cell_type": "markdown",
   "id": "c775657e",
   "metadata": {},
   "source": [
    "# TraceBERT Model"
   ]
  },
  {
   "cell_type": "markdown",
   "id": "b11ba2d6",
   "metadata": {},
   "source": [
    "### Load pretrained tokenizer fast"
   ]
  },
  {
   "cell_type": "markdown",
   "id": "1a681b98",
   "metadata": {},
   "source": [
    "HuggingFace nicely provided a high performance Rust implementation, let's use it."
   ]
  },
  {
   "cell_type": "code",
   "execution_count": null,
   "id": "3b4a8640",
   "metadata": {},
   "outputs": [],
   "source": [
    "from transformers import PreTrainedTokenizerFast, BertTokenizerFast\n",
    "fast_tokenizer = BertTokenizerFast(\n",
    "                                        tokenizer_file=\"trace_tokenizer_google_no_method_s.json\",\n",
    "                                        return_special_tokens_mask=True,\n",
    "                                        return_token_type_ids=True\n",
    "                                    )"
   ]
  },
  {
   "cell_type": "markdown",
   "id": "30470da5",
   "metadata": {},
   "source": [
    "### Define TraceBERT config"
   ]
  },
  {
   "cell_type": "markdown",
   "id": "21660320",
   "metadata": {},
   "source": [
    "There *is* a reason for defining the config so early in the notebook: when we encode our dataset we want to perform truncation/padding based on our model's size, so it is easier to know this in advance."
   ]
  },
  {
   "cell_type": "code",
   "execution_count": null,
   "id": "1875c470",
   "metadata": {},
   "outputs": [],
   "source": [
    "from transformers import BertConfig"
   ]
  },
  {
   "cell_type": "code",
   "execution_count": null,
   "id": "c25742b5",
   "metadata": {},
   "outputs": [],
   "source": [
    "scale_factor = 1 \n",
    "\n",
    "tracebert_config = BertConfig(\n",
    "    # VOCAB_SIZE plus some extra for special tokens\n",
    "    vocab_size=(fast_tokenizer.vocab_size + 3),\n",
    "    max_position_embeddings=int(768*scale_factor),\n",
    "    intermediate_size=int(2048*scale_factor),\n",
    "    hidden_size=int(512*scale_factor),\n",
    "    num_attention_heads=8,\n",
    "    num_hidden_layers=6,\n",
    "    type_vocab_size=5,\n",
    "    hidden_dropout_prob=0.1,\n",
    "    attention_probs_dropout_prob=0.1,\n",
    "    output_hidden_states=True,\n",
    "    return_dict=True\n",
    ")"
   ]
  },
  {
   "cell_type": "markdown",
   "id": "9ed2d59d",
   "metadata": {},
   "source": [
    "#### Sanity check tokenizer"
   ]
  },
  {
   "cell_type": "code",
   "execution_count": null,
   "id": "7a97b975",
   "metadata": {},
   "outputs": [],
   "source": [
    "fast_tokenizer.decode(fast_tokenizer.encode(\"[EXIT]\"))"
   ]
  },
  {
   "cell_type": "code",
   "execution_count": null,
   "id": "5c8721eb",
   "metadata": {},
   "outputs": [],
   "source": [
    "fast_tokenizer.vocab_size"
   ]
  },
  {
   "cell_type": "markdown",
   "id": "7cb188cd",
   "metadata": {},
   "source": [
    "## Load datasets"
   ]
  },
  {
   "cell_type": "code",
   "execution_count": null,
   "id": "4d8c4eef",
   "metadata": {},
   "outputs": [],
   "source": [
    "from datasets import load_dataset\n",
    "import datasets"
   ]
  },
  {
   "cell_type": "markdown",
   "id": "9068f157",
   "metadata": {},
   "source": [
    "#### Train"
   ]
  },
  {
   "cell_type": "code",
   "execution_count": null,
   "id": "41bc3728",
   "metadata": {},
   "outputs": [],
   "source": [
    "google_train_dataset = load_dataset(\n",
    "                        'text',\n",
    "                        data_files='../projsplit/google.txt',\n",
    "                        split='train[:40%]' # Load first 5% of dataset\n",
    "                    )"
   ]
  },
  {
   "cell_type": "code",
   "execution_count": null,
   "id": "39d16d50",
   "metadata": {},
   "outputs": [],
   "source": [
    "# Sanity check\n",
    "google_train_dataset"
   ]
  },
  {
   "cell_type": "markdown",
   "id": "59c393a4",
   "metadata": {},
   "source": [
    "#### Dev"
   ]
  },
  {
   "cell_type": "code",
   "execution_count": null,
   "id": "3c889b6c",
   "metadata": {
    "scrolled": true,
    "tags": []
   },
   "outputs": [],
   "source": [
    "google_dev_dataset = load_dataset(\n",
    "                        'text',\n",
    "                        data_files='../projsplit/google.txt',\n",
    "                        split='train[:1500]' # WARNING: we are loading the first 1.5k rows for dev\n",
    "                    )"
   ]
  },
  {
   "cell_type": "code",
   "execution_count": null,
   "id": "a23f39ea",
   "metadata": {
    "tags": []
   },
   "outputs": [],
   "source": [
    "# Sanity check\n",
    "google_dev_dataset"
   ]
  },
  {
   "cell_type": "markdown",
   "id": "992b5ce3",
   "metadata": {},
   "source": [
    "#### Test"
   ]
  },
  {
   "cell_type": "code",
   "execution_count": null,
   "id": "3d7a68a6",
   "metadata": {},
   "outputs": [],
   "source": [
    "google_test_dataset = load_dataset(\n",
    "                        'text',\n",
    "                        data_files='../projsplit/google.txt',\n",
    "                        split='train[40%:44%]' # Load 3k rows for test\n",
    "                    )"
   ]
  },
  {
   "cell_type": "code",
   "execution_count": null,
   "id": "90a676d6",
   "metadata": {},
   "outputs": [],
   "source": [
    "# Sanity check\n",
    "google_test_dataset"
   ]
  },
  {
   "cell_type": "markdown",
   "id": "0f10a5ee",
   "metadata": {},
   "source": [
    "## Tokenize/encode datasets"
   ]
  },
  {
   "cell_type": "code",
   "execution_count": null,
   "id": "d393d3f0",
   "metadata": {},
   "outputs": [],
   "source": [
    "# Define tokenization function\n",
    "# Max length: length of model\n",
    "# Truncation: true (defaults to max example length)\n",
    "# Padding: true (until truncation length)\n",
    "def tokenize_trace(examples):\n",
    "    return {\n",
    "        **fast_tokenizer(\n",
    "            examples['method_body'],\n",
    "            max_length = tracebert_config.hidden_size,\n",
    "            truncation=True,\n",
    "            padding=True\n",
    "        )\n",
    "    }\n",
    "\n",
    "def extract_trace(examples):\n",
    "        return { 'method_name': [ t[:t.index(' ')] for t in examples['text'] ],\n",
    "        'method_body': [ t[t.index(' ')+1:] for t in examples['text'] ] }"
   ]
  },
  {
   "cell_type": "markdown",
   "id": "3cb5f4d6",
   "metadata": {},
   "source": [
    "#### Tokenize training dataset"
   ]
  },
  {
   "cell_type": "code",
   "execution_count": null,
   "id": "a2011a62",
   "metadata": {},
   "outputs": [],
   "source": [
    "google_train_dataset_enc = (google_train_dataset\n",
    "                            .map(\n",
    "                                            extract_trace,\n",
    "                                            batched=True\n",
    "                                        )\n",
    "                            .remove_columns('text')\n",
    "                            .map(\n",
    "                                            tokenize_trace,\n",
    "                                            batched=True,\n",
    "                                num_proc=32\n",
    "                                        )\n",
    "                           )"
   ]
  },
  {
   "cell_type": "code",
   "execution_count": null,
   "id": "eefc82b1",
   "metadata": {},
   "outputs": [],
   "source": [
    "# Sanity check\n",
    "google_train_dataset_enc[0]"
   ]
  },
  {
   "cell_type": "code",
   "execution_count": null,
   "id": "0937cc53",
   "metadata": {},
   "outputs": [],
   "source": [
    "# Save tokenized version\n",
    "google_train_dataset_enc.save_to_disk('datasets/google_train_dataset_enc_no_name_27m')"
   ]
  },
  {
   "cell_type": "markdown",
   "id": "d40a701b",
   "metadata": {},
   "source": [
    "#### Tokenize dev dataset"
   ]
  },
  {
   "cell_type": "code",
   "execution_count": null,
   "id": "bc7c244b",
   "metadata": {
    "scrolled": true,
    "tags": []
   },
   "outputs": [],
   "source": [
    "google_dev_dataset_enc = google_dev_dataset.map(\n",
    "                                            extract_trace,\n",
    "                                            batched=True\n",
    "                                        ).remove_columns('text')"
   ]
  },
  {
   "cell_type": "code",
   "execution_count": null,
   "id": "b6549b6a",
   "metadata": {},
   "outputs": [],
   "source": [
    "# Sanity check\n",
    "google_dev_dataset_enc.to_csv('google_dev_dataset_test')#, num_proc=64)"
   ]
  },
  {
   "cell_type": "code",
   "execution_count": null,
   "id": "b729a699",
   "metadata": {},
   "outputs": [],
   "source": [
    "# Save tokenized version\n",
    "google_dev_dataset_enc.save_to_disk('datasets/google_dev_dataset_enc')"
   ]
  },
  {
   "cell_type": "markdown",
   "id": "620161cb",
   "metadata": {},
   "source": [
    "#### Tokenize test dataset"
   ]
  },
  {
   "cell_type": "code",
   "execution_count": null,
   "id": "40c9d956",
   "metadata": {},
   "outputs": [],
   "source": [
    "google_test_dataset_enc = (google_test_dataset.map(\n",
    "                                            extract_trace,\n",
    "                                            batched=True\n",
    "                                        ).remove_columns('text')\n",
    "                            .map(\n",
    "                                            tokenize_trace,\n",
    "                                            batched=True,\n",
    "                                num_proc=32\n",
    "                                        )\n",
    "                           )"
   ]
  },
  {
   "cell_type": "code",
   "execution_count": null,
   "id": "81023403",
   "metadata": {},
   "outputs": [],
   "source": [
    "# Sanity check\n",
    "google_test_dataset_enc"
   ]
  },
  {
   "cell_type": "code",
   "execution_count": null,
   "id": "cef5f602",
   "metadata": {},
   "outputs": [],
   "source": [
    "# Save tokenized version\n",
    "google_test_dataset_enc.save_to_disk('datasets/google_test_dataset_enc_no_2_7m')"
   ]
  },
  {
   "cell_type": "markdown",
   "id": "8ffc2627",
   "metadata": {},
   "source": [
    "### Load tokenized datasets (if already saved)"
   ]
  },
  {
   "cell_type": "code",
   "execution_count": null,
   "id": "6aad51c0",
   "metadata": {},
   "outputs": [],
   "source": [
    "google_train_dataset_enc = datasets.load_from_disk('datasets/google_train_dataset_enc_no_name')\n",
    "#google_dev_dataset_enc = datasets.load_from_disk('datasets/google_dev_dataset_enc')\n",
    "google_test_dataset_enc = datasets.load_from_disk('datasets/google_test_dataset_enc_no_name')\n"
   ]
  },
  {
   "cell_type": "markdown",
   "id": "8ef1e645",
   "metadata": {},
   "source": [
    "## Inspect datasets"
   ]
  },
  {
   "cell_type": "code",
   "execution_count": null,
   "id": "29ba5f8f",
   "metadata": {},
   "outputs": [],
   "source": [
    "train_func_frequencies = Counter(google_train_dataset_enc['method_name']).most_common()"
   ]
  },
  {
   "cell_type": "code",
   "execution_count": null,
   "id": "59976574-a079-433e-8efe-c11c268359ba",
   "metadata": {
    "scrolled": true,
    "tags": []
   },
   "outputs": [],
   "source": [
    "train_func_frequencies"
   ]
  },
  {
   "cell_type": "code",
   "execution_count": null,
   "id": "caf0fbf3",
   "metadata": {},
   "outputs": [],
   "source": [
    "dev_func_frequencies = Counter(google_dev_dataset_enc['func_name']).most_common()"
   ]
  },
  {
   "cell_type": "code",
   "execution_count": null,
   "id": "e4e4f845",
   "metadata": {},
   "outputs": [],
   "source": [
    "test_func_frequencies = Counter(google_test_dataset_enc['func_name']).most_common()"
   ]
  },
  {
   "cell_type": "code",
   "execution_count": null,
   "id": "0b5ce309",
   "metadata": {},
   "outputs": [],
   "source": [
    "def plot_freq(counter):\n",
    "    counts = [ (index, value[1]) for index, value in enumerate(counter) ]\n",
    "    plt.scatter(*zip(*counts))\n",
    "    plt.show()"
   ]
  },
  {
   "cell_type": "code",
   "execution_count": null,
   "id": "4d6b199f",
   "metadata": {},
   "outputs": [],
   "source": [
    "plot_freq(train_func_frequencies[:100])\n",
    "print(train_func_frequencies[:15])"
   ]
  },
  {
   "cell_type": "markdown",
   "id": "c82b677b",
   "metadata": {},
   "source": [
    "## Define Trainer for experiment"
   ]
  },
  {
   "cell_type": "code",
   "execution_count": null,
   "id": "e6a495d1",
   "metadata": {},
   "outputs": [],
   "source": [
    "from transformers import TrainingArguments, DataCollatorForWholeWordMask, Trainer, BertForMaskedLM"
   ]
  },
  {
   "cell_type": "markdown",
   "id": "c23570ee",
   "metadata": {},
   "source": [
    "We define our model from the BertForMaskedLM class"
   ]
  },
  {
   "cell_type": "code",
   "execution_count": null,
   "id": "adcafc4f",
   "metadata": {},
   "outputs": [],
   "source": [
    "tracebert_model = BertForMaskedLM.from_pretrained(\"tracebert_009\")#BertForMaskedLM(tracebert_config)"
   ]
  },
  {
   "cell_type": "code",
   "execution_count": null,
   "id": "31a341a7",
   "metadata": {},
   "outputs": [],
   "source": [
    "# performs masking\n",
    "data_collator = DataCollatorForWholeWordMask(\n",
    "                    tokenizer=fast_tokenizer,\n",
    "                    mlm=True,\n",
    "                    mlm_probability=0.15\n",
    "                )\n",
    "\n",
    "training_args = TrainingArguments(\n",
    "    \"tracebert_009\", # Model name/directory\n",
    "    run_name='tracebert_20220201_1', # experiment name\n",
    "    # group_by_length=True, # minimize padding\n",
    "    # overwrite the content of the output directory\n",
    "    # continue training if output_dir points to a checkpoint directory.\n",
    "    overwrite_output_dir=True,\n",
    "    report_to = 'wandb',\n",
    "    #num_train_epochs=3, # defaults to 3\n",
    "    prediction_loss_only=False, # only return loss during eval\n",
    "    save_steps=500, # save checkpoint every 5k steps\n",
    "    save_total_limit=3, # save only last 3 checkpoints (we're low on space ☹️)\n",
    "    #eval_accumulation_steps=1000, # number of steps to accumulate before moving to CPU, enable if running out of CUDA RAM\n",
    "    logging_steps=300, # num steps before train loss is logged\n",
    "    eval_steps=1000, # num steps before eval loss is calculated\n",
    "    # max_steps=1000, # max number of steps to train\n",
    "    save_strategy='steps',\n",
    "    evaluation_strategy='steps',\n",
    "    per_device_train_batch_size=44, # increase batch size\n",
    "    per_device_eval_batch_size=16, # increase batch size\n",
    ")\n",
    "\n",
    "\n",
    "trainer = Trainer(\n",
    "    model=tracebert_model,\n",
    "    tokenizer=fast_tokenizer,\n",
    "    data_collator=data_collator,\n",
    "    args=training_args,\n",
    "    train_dataset=google_train_dataset_enc, # DEFINE DATASETS !!!\n",
    "    eval_dataset=google_test_dataset_enc,\n",
    "    #bf16=True,\n",
    "    #fp16=False,\n",
    "    #fp16_opt_level='01', # [‘O0’, ‘O1’, ‘O2’, and ‘O3’]\n",
    "    #half_precision_backend='auto', # apex or amp\n",
    "    #bf16_full_eval=False,\n",
    "    #fp16_full_eval=False,\n",
    "    #sharded_ddp=False,\n",
    "    #deepspeed=None, # json file or dict or json\n",
    "    #compute_metrics=compute_metric, # if custom metric function available\n",
    ")"
   ]
  },
  {
   "cell_type": "code",
   "execution_count": null,
   "id": "fff05c93-e254-4258-8f2d-eb70f313ead5",
   "metadata": {},
   "outputs": [],
   "source": [
    "google_train_dataset_enc"
   ]
  },
  {
   "cell_type": "markdown",
   "id": "04399b34",
   "metadata": {},
   "source": [
    "#### Train model"
   ]
  },
  {
   "cell_type": "markdown",
   "id": "90fe7952-90ba-4e13-8083-3f59577b9ede",
   "metadata": {},
   "source": [
    "# Currently does 52 steps/min\n",
    "***** Running training *****\n",
    "  Num examples = 3376066\n",
    "  Num Epochs = 3\n",
    "  Instantaneous batch size per device = 32\n",
    "  Total train batch size (w. parallel, distributed & accumulation) = 128\n",
    "  Gradient Accumulation steps = 1\n",
    "  Total optimization steps = 79128"
   ]
  },
  {
   "cell_type": "code",
   "execution_count": null,
   "id": "a920c4fe-1e1a-4ad3-88a3-c97212665697",
   "metadata": {
    "tags": []
   },
   "outputs": [],
   "source": [
    "torch.cuda.empty_cache()"
   ]
  },
  {
   "cell_type": "code",
   "execution_count": null,
   "id": "bc76e47c",
   "metadata": {
    "scrolled": true,
    "tags": []
   },
   "outputs": [],
   "source": [
    "%%wandb\n",
    "trainer.train(resume_from_checkpoint=False)"
   ]
  },
  {
   "cell_type": "code",
   "execution_count": null,
   "id": "8b088152-592b-4635-8df9-7b3a47bfb90e",
   "metadata": {
    "tags": []
   },
   "outputs": [],
   "source": [
    "wandb.finish()"
   ]
  },
  {
   "cell_type": "code",
   "execution_count": null,
   "id": "421d36ea",
   "metadata": {},
   "outputs": [],
   "source": [
    "# Save model manually if needed\n",
    "trainer.save_model()"
   ]
  },
  {
   "cell_type": "code",
   "execution_count": null,
   "id": "e67e0ae5-3f11-47d5-baaf-05d4fadb9d18",
   "metadata": {},
   "outputs": [],
   "source": [
    "trainer.evaluate()"
   ]
  },
  {
   "cell_type": "markdown",
   "id": "0f810a2c",
   "metadata": {},
   "source": [
    "# Interpret model"
   ]
  },
  {
   "cell_type": "markdown",
   "id": "04fc7b92",
   "metadata": {},
   "source": [
    "### Retrieve examples of specific function name"
   ]
  },
  {
   "cell_type": "code",
   "execution_count": null,
   "id": "6810f7b0",
   "metadata": {},
   "outputs": [],
   "source": [
    "def exact_str_match(x,y):\n",
    "    return x==y\n",
    "def str_contains(x,y):\n",
    "    return x in y\n",
    "\n",
    "def trim(filt, trim_value=0., trim='fb'):\n",
    "    \"\"\"\n",
    "    Copied from np.trim_zeros, but allows the trim value to be specified\n",
    "    \"\"\"\n",
    "    first = 0\n",
    "    trim = trim.upper()\n",
    "    if 'F' in trim:\n",
    "        for i in filt:\n",
    "            if i != trim_value:\n",
    "                break\n",
    "            else:\n",
    "                first = first + 1\n",
    "    last = len(filt)\n",
    "    if 'B' in trim:\n",
    "        for i in filt[::-1]:\n",
    "            if i != trim_value:\n",
    "                break\n",
    "            else:\n",
    "                last = last - 1\n",
    "    return filt[first:last]\n",
    "\n",
    "# pass comparator which (x,y) where x is needle and y is haystack\n",
    "def retrieve_func_examples(dataset, function_name, comparator=exact_str_match):\n",
    "    return dataset.filter(lambda trace: comparator(function_name, trace['method_name']), num_proc=64)\n",
    "\n",
    "def retrieve_func_examples_len(dataset, function_name, length, comparator=exact_str_match):\n",
    "    return dataset.filter(lambda trace: comparator(function_name, trace['method_name']) and len(trim(trace['input_ids'],trim_value=3)) > length, num_proc=64)"
   ]
  },
  {
   "cell_type": "code",
   "execution_count": null,
   "id": "c6a67c76",
   "metadata": {},
   "outputs": [],
   "source": [
    "func_compare_google = retrieve_func_examples(\n",
    "                            google_train_dataset_enc,\n",
    "                            'compare',\n",
    "                            comparator=exact_str_match\n",
    "                        )"
   ]
  },
  {
   "cell_type": "code",
   "execution_count": null,
   "id": "5d1518cc-565e-4a82-8306-8162c49576de",
   "metadata": {},
   "outputs": [],
   "source": [
    "trim(google_train_dataset_enc[0]['input_ids'],trim_value=3)"
   ]
  },
  {
   "cell_type": "code",
   "execution_count": null,
   "id": "09355043-4389-414d-8dc6-aefe57b5bb2b",
   "metadata": {},
   "outputs": [],
   "source": [
    "func_compare_google"
   ]
  },
  {
   "cell_type": "markdown",
   "id": "62382fdb",
   "metadata": {},
   "source": [
    "#### Load Netty dataset"
   ]
  },
  {
   "cell_type": "code",
   "execution_count": null,
   "id": "b1d4197e",
   "metadata": {},
   "outputs": [],
   "source": [
    "netty_dataset_enc = (\n",
    "                        load_dataset(\n",
    "                            'text',\n",
    "                            data_files='../projsplit/netty.txt',\n",
    "                            split='train[:10000]')\n",
    "                        .map(\n",
    "                        # WARNING: using a tokenizer NOT trained on this dataset\n",
    "                        # could result in poor performance due to UNKs\n",
    "                            tokenize_trace,\n",
    "                            batched=True,\n",
    "                            num_proc=64\n",
    "                        )\n",
    "                    )"
   ]
  },
  {
   "cell_type": "code",
   "execution_count": null,
   "id": "f16b34e8-5a8a-4105-9ac7-40f5ee7eb974",
   "metadata": {},
   "outputs": [],
   "source": [
    "netty_dataset_enc"
   ]
  },
  {
   "cell_type": "markdown",
   "id": "c080b779",
   "metadata": {},
   "source": [
    "### Retrieve all examples of 'compare' function"
   ]
  },
  {
   "cell_type": "code",
   "execution_count": null,
   "id": "fcb78940",
   "metadata": {},
   "outputs": [],
   "source": [
    "func_compare_netty = retrieve_func_examples(\n",
    "                            netty_dataset_enc,\n",
    "                            'compare',\n",
    "                            comparator=exact_str_match\n",
    "                        )"
   ]
  },
  {
   "cell_type": "markdown",
   "id": "f85af3ea",
   "metadata": {},
   "source": [
    "#### Find the minimum number of examples of func in both datasets (class balance)"
   ]
  },
  {
   "cell_type": "code",
   "execution_count": null,
   "id": "23341bfd",
   "metadata": {},
   "outputs": [],
   "source": [
    "minimum_funcs = min(len(func_compare_netty), len(func_compare_google))\n",
    "minimum_funcs"
   ]
  },
  {
   "cell_type": "code",
   "execution_count": null,
   "id": "e13e315f",
   "metadata": {},
   "outputs": [],
   "source": [
    "func_compare_netty = func_compare_netty.select(range(0, minimum_funcs))\n",
    "func_compare_google = func_compare_google.select(range(0, minimum_funcs))"
   ]
  },
  {
   "cell_type": "markdown",
   "id": "a1cdc257",
   "metadata": {},
   "source": [
    "#### Pick another function from Commonsio for comparisons"
   ]
  },
  {
   "cell_type": "code",
   "execution_count": null,
   "id": "f314cd84",
   "metadata": {},
   "outputs": [],
   "source": [
    "func_CPI_google = retrieve_func_examples(\n",
    "                            google_train_dataset_enc,\n",
    "                            'checkPositionIndexes',\n",
    "                            comparator=exact_str_match\n",
    "                        )"
   ]
  },
  {
   "cell_type": "markdown",
   "id": "fb710213",
   "metadata": {},
   "source": [
    "Now we have two datasets with an equal amount of examples for a particular method, we now load these examples into the model and extract the embeddings"
   ]
  },
  {
   "cell_type": "markdown",
   "id": "06f216f7",
   "metadata": {},
   "source": [
    "# (Re)load pretrained model for embeddings"
   ]
  },
  {
   "cell_type": "markdown",
   "id": "9c66479b",
   "metadata": {},
   "source": [
    "If the model is not loaded yet, select a pretrained model to generate embeddings"
   ]
  },
  {
   "cell_type": "code",
   "execution_count": null,
   "id": "0c4296e4",
   "metadata": {},
   "outputs": [],
   "source": [
    "tracebert_model = BertForMaskedLM.from_pretrained('tracebert_009')\n",
    "# or \n",
    "# or BertModel.from_pretrained('path_to_model_dir', add_pooling_layer=True)\n",
    "#tracebert_model"
   ]
  },
  {
   "cell_type": "markdown",
   "id": "e10ee41a",
   "metadata": {},
   "source": [
    "We must ensure/assert that the model class will return the hidden states"
   ]
  },
  {
   "cell_type": "code",
   "execution_count": null,
   "id": "da282063",
   "metadata": {
    "slideshow": {
     "slide_type": "slide"
    },
    "tags": []
   },
   "outputs": [],
   "source": [
    "tracebert_model.config.output_hidden_states = True\n",
    "tracebert_model.config.return_dict = True\n",
    "assert tracebert_model.config.output_hidden_states == True"
   ]
  },
  {
   "cell_type": "markdown",
   "id": "3432bb58",
   "metadata": {},
   "source": [
    "Define a function to load examples and extract hidden states from model as numpy arrays"
   ]
  },
  {
   "cell_type": "code",
   "execution_count": null,
   "id": "179b12ae",
   "metadata": {},
   "outputs": [],
   "source": [
    "from torch.nn.utils.rnn import pad_sequence\n",
    "\n",
    "def calculate_embeddings(examples, method='hidden_state'):\n",
    "    with torch.no_grad(): # no autograd if we don't train\n",
    "        if method == 'hidden_state':\n",
    "            # get the hidden state of the [CLS] token\n",
    "            # we first grab the hidden states from the model,\n",
    "            # then take the last layer, [-1], and convert it to a 3D\n",
    "            # numpy array. N is number of examples in batch.\n",
    "            # L is number of tokens (longest example fixes L)\n",
    "            # D is number of hidden states\n",
    "            # the shape is (N, L, D)\n",
    "            # since [CLS] is always first, if we slice\n",
    "            # (N, L[:1], D) we will get the hidden dim of the [CLS] token.\n",
    "            # since L is now always 1, it is useless, and we can squeeze it out\n",
    "            # now the shape is (N, D) where each example has 512 vectors\n",
    "             # **fast_tokenizer(\n",
    "             #    examples['method_body'],\n",
    "             #    max_length = tracebert_config.hidden_size,\n",
    "             #    truncation=True,\n",
    "             #    padding=True,\n",
    "             #         return_tensors=\"pt\"\n",
    "            #print(f\"input_ids={torch.tensor(examples['input_ids']).shape}, attention_mask={torch.tensor(examples['attention_mask']).shape}, token_type_ids={torch.tensor(examples['token_type_ids']).shape}\")\n",
    "            b = tracebert_model(\n",
    "                        input_ids=pad_sequence([torch.tensor(x) for x in examples['input_ids']], padding_value=3, batch_first=True),\n",
    "                        attention_mask=pad_sequence([torch.tensor(x) for x in examples['attention_mask']], batch_first=True),\n",
    "                        token_type_ids=pad_sequence([torch.tensor(x) for x in examples['token_type_ids']], batch_first=True)\n",
    "                    ).hidden_states[-1].numpy()[:,:1,:].squeeze()\n",
    "            return { 'embedding': b }\n",
    "        elif method == 'pooler_output':\n",
    "            return tracebert_model(examples).pooler_output.numpy() # shape [n, 512]"
   ]
  },
  {
   "cell_type": "code",
   "execution_count": null,
   "id": "9a98128a-8ef2-4125-ae03-4d0a309997b8",
   "metadata": {},
   "outputs": [],
   "source": [
    "longish = google_train_dataset_enc.filter(lambda x: x['len'] > 10, num_proc=32)"
   ]
  },
  {
   "cell_type": "code",
   "execution_count": null,
   "id": "f262bd35-8128-44ab-a8e0-ff0f3ed89878",
   "metadata": {},
   "outputs": [],
   "source": [
    "longish"
   ]
  },
  {
   "cell_type": "code",
   "execution_count": null,
   "id": "7714197f-7a7c-4be8-97da-ca7a858c1c5b",
   "metadata": {
    "tags": []
   },
   "outputs": [],
   "source": [
    "#fast_tokenizer.decode(\n",
    "counts_t = dict(Counter(longish['method_name']))"
   ]
  },
  {
   "cell_type": "code",
   "execution_count": null,
   "id": "1dec1447-a73b-49a6-8332-efa5f818c072",
   "metadata": {
    "tags": []
   },
   "outputs": [],
   "source": [
    "sorted(counts_t)"
   ]
  },
  {
   "cell_type": "code",
   "execution_count": null,
   "id": "dfbc9902-b5f9-49ba-806f-0faf629b1fd4",
   "metadata": {},
   "outputs": [],
   "source": [
    "filtered = dict(filter(lambda elem: elem[1] > 60 and elem[1] < 10000, counts_t.items()))"
   ]
  },
  {
   "cell_type": "code",
   "execution_count": null,
   "id": "31d1929d-70ac-4840-9054-88835567fac4",
   "metadata": {},
   "outputs": [],
   "source": [
    "filtered"
   ]
  },
  {
   "cell_type": "code",
   "execution_count": null,
   "id": "5bdc7cee-6d9e-4c35-8813-0c7d11863e73",
   "metadata": {},
   "outputs": [],
   "source": [
    "sample_ten_func_names = random.sample(sorted(filtered), 10)"
   ]
  },
  {
   "cell_type": "code",
   "execution_count": null,
   "id": "720e04d1-9af8-4a6d-af7a-416376ee8502",
   "metadata": {},
   "outputs": [],
   "source": [
    "import statistics\n",
    "import random\n",
    "statistics.mean(counts_t.values())"
   ]
  },
  {
   "cell_type": "code",
   "execution_count": null,
   "id": "29e1d0c0-1e04-4df7-a562-d0d50933004a",
   "metadata": {},
   "outputs": [],
   "source": [
    "from tqdm.notebook import trange, tqdm"
   ]
  },
  {
   "cell_type": "code",
   "execution_count": null,
   "id": "bd52f12b-37ba-417e-ab1c-a37bc5125983",
   "metadata": {},
   "outputs": [],
   "source": [
    "google_train_dataset_enc = google_train_dataset_enc.map(lambda x: { 'len': len(trim(x['input_ids'],trim_value=3)) },num_proc=8)"
   ]
  },
  {
   "cell_type": "code",
   "execution_count": null,
   "id": "9d4e13f0-b907-4099-ab4e-3efd3e5d38ba",
   "metadata": {},
   "outputs": [],
   "source": [
    "google_train_dataset_enc"
   ]
  },
  {
   "cell_type": "code",
   "execution_count": 284,
   "id": "3c05d379-3100-49ab-8629-0264a3d516a4",
   "metadata": {
    "scrolled": true,
    "tags": []
   },
   "outputs": [
    {
     "data": {
      "application/vnd.jupyter.widget-view+json": {
       "model_id": "d459ac648f754ccdad6e6f9d1441f70d",
       "version_major": 2,
       "version_minor": 0
      },
      "text/plain": [
       "  0%|          | 0/10 [00:00<?, ?it/s]"
      ]
     },
     "metadata": {},
     "output_type": "display_data"
    },
    {
     "name": "stderr",
     "output_type": "stream",
     "text": [
      "Setting TOKENIZERS_PARALLELISM=false for forked processes.\n",
      "Loading cached processed dataset at datasets/google_train_dataset_enc_no_name/cache-4de48c58df055239_00000_of_00032.arrow\n",
      "Loading cached processed dataset at datasets/google_train_dataset_enc_no_name/cache-4de48c58df055239_00001_of_00032.arrow\n",
      "Loading cached processed dataset at datasets/google_train_dataset_enc_no_name/cache-4de48c58df055239_00002_of_00032.arrow\n",
      "Loading cached processed dataset at datasets/google_train_dataset_enc_no_name/cache-4de48c58df055239_00003_of_00032.arrow\n",
      "Loading cached processed dataset at datasets/google_train_dataset_enc_no_name/cache-4de48c58df055239_00004_of_00032.arrow\n",
      "Loading cached processed dataset at datasets/google_train_dataset_enc_no_name/cache-4de48c58df055239_00005_of_00032.arrow\n",
      "Loading cached processed dataset at datasets/google_train_dataset_enc_no_name/cache-4de48c58df055239_00006_of_00032.arrow\n",
      "Loading cached processed dataset at datasets/google_train_dataset_enc_no_name/cache-4de48c58df055239_00007_of_00032.arrow\n",
      "Loading cached processed dataset at datasets/google_train_dataset_enc_no_name/cache-4de48c58df055239_00008_of_00032.arrow\n",
      "Loading cached processed dataset at datasets/google_train_dataset_enc_no_name/cache-4de48c58df055239_00009_of_00032.arrow\n",
      "Loading cached processed dataset at datasets/google_train_dataset_enc_no_name/cache-4de48c58df055239_00010_of_00032.arrow\n",
      "Loading cached processed dataset at datasets/google_train_dataset_enc_no_name/cache-4de48c58df055239_00011_of_00032.arrow\n",
      "Loading cached processed dataset at datasets/google_train_dataset_enc_no_name/cache-4de48c58df055239_00012_of_00032.arrow\n",
      "Loading cached processed dataset at datasets/google_train_dataset_enc_no_name/cache-4de48c58df055239_00013_of_00032.arrow\n",
      "Loading cached processed dataset at datasets/google_train_dataset_enc_no_name/cache-4de48c58df055239_00014_of_00032.arrow\n",
      "Loading cached processed dataset at datasets/google_train_dataset_enc_no_name/cache-4de48c58df055239_00015_of_00032.arrow\n",
      "Loading cached processed dataset at datasets/google_train_dataset_enc_no_name/cache-4de48c58df055239_00016_of_00032.arrow\n",
      "Loading cached processed dataset at datasets/google_train_dataset_enc_no_name/cache-4de48c58df055239_00017_of_00032.arrow\n",
      "Loading cached processed dataset at datasets/google_train_dataset_enc_no_name/cache-4de48c58df055239_00018_of_00032.arrow\n",
      "Loading cached processed dataset at datasets/google_train_dataset_enc_no_name/cache-4de48c58df055239_00019_of_00032.arrow\n",
      "Loading cached processed dataset at datasets/google_train_dataset_enc_no_name/cache-4de48c58df055239_00020_of_00032.arrow\n",
      "Loading cached processed dataset at datasets/google_train_dataset_enc_no_name/cache-4de48c58df055239_00021_of_00032.arrow\n",
      "Loading cached processed dataset at datasets/google_train_dataset_enc_no_name/cache-4de48c58df055239_00022_of_00032.arrow\n",
      "Loading cached processed dataset at datasets/google_train_dataset_enc_no_name/cache-4de48c58df055239_00023_of_00032.arrow\n",
      "Loading cached processed dataset at datasets/google_train_dataset_enc_no_name/cache-4de48c58df055239_00024_of_00032.arrow\n",
      "Loading cached processed dataset at datasets/google_train_dataset_enc_no_name/cache-4de48c58df055239_00025_of_00032.arrow\n",
      "Loading cached processed dataset at datasets/google_train_dataset_enc_no_name/cache-4de48c58df055239_00026_of_00032.arrow\n",
      "Loading cached processed dataset at datasets/google_train_dataset_enc_no_name/cache-4de48c58df055239_00027_of_00032.arrow\n",
      "Loading cached processed dataset at datasets/google_train_dataset_enc_no_name/cache-4de48c58df055239_00028_of_00032.arrow\n",
      "Loading cached processed dataset at datasets/google_train_dataset_enc_no_name/cache-4de48c58df055239_00029_of_00032.arrow\n",
      "Loading cached processed dataset at datasets/google_train_dataset_enc_no_name/cache-4de48c58df055239_00030_of_00032.arrow\n",
      "Loading cached processed dataset at datasets/google_train_dataset_enc_no_name/cache-4de48c58df055239_00031_of_00032.arrow\n",
      "Loading cached processed dataset at datasets/google_train_dataset_enc_no_name/cache-5e4d4d7a88b712bd_00000_of_00032.arrow\n",
      "Loading cached processed dataset at datasets/google_train_dataset_enc_no_name/cache-5e4d4d7a88b712bd_00001_of_00032.arrow\n",
      "Loading cached processed dataset at datasets/google_train_dataset_enc_no_name/cache-5e4d4d7a88b712bd_00002_of_00032.arrow\n",
      "Loading cached processed dataset at datasets/google_train_dataset_enc_no_name/cache-5e4d4d7a88b712bd_00003_of_00032.arrow\n",
      "Loading cached processed dataset at datasets/google_train_dataset_enc_no_name/cache-5e4d4d7a88b712bd_00004_of_00032.arrow\n",
      "Loading cached processed dataset at datasets/google_train_dataset_enc_no_name/cache-5e4d4d7a88b712bd_00005_of_00032.arrow\n",
      "Loading cached processed dataset at datasets/google_train_dataset_enc_no_name/cache-5e4d4d7a88b712bd_00006_of_00032.arrow\n",
      "Loading cached processed dataset at datasets/google_train_dataset_enc_no_name/cache-5e4d4d7a88b712bd_00007_of_00032.arrow\n",
      "Loading cached processed dataset at datasets/google_train_dataset_enc_no_name/cache-5e4d4d7a88b712bd_00008_of_00032.arrow\n",
      "Loading cached processed dataset at datasets/google_train_dataset_enc_no_name/cache-5e4d4d7a88b712bd_00009_of_00032.arrow\n",
      "Loading cached processed dataset at datasets/google_train_dataset_enc_no_name/cache-5e4d4d7a88b712bd_00010_of_00032.arrow\n",
      "Loading cached processed dataset at datasets/google_train_dataset_enc_no_name/cache-5e4d4d7a88b712bd_00011_of_00032.arrow\n",
      "Loading cached processed dataset at datasets/google_train_dataset_enc_no_name/cache-5e4d4d7a88b712bd_00012_of_00032.arrow\n",
      "Loading cached processed dataset at datasets/google_train_dataset_enc_no_name/cache-5e4d4d7a88b712bd_00013_of_00032.arrow\n",
      "Loading cached processed dataset at datasets/google_train_dataset_enc_no_name/cache-5e4d4d7a88b712bd_00014_of_00032.arrow\n",
      "Loading cached processed dataset at datasets/google_train_dataset_enc_no_name/cache-5e4d4d7a88b712bd_00015_of_00032.arrow\n",
      "Loading cached processed dataset at datasets/google_train_dataset_enc_no_name/cache-5e4d4d7a88b712bd_00016_of_00032.arrow\n",
      "Loading cached processed dataset at datasets/google_train_dataset_enc_no_name/cache-5e4d4d7a88b712bd_00017_of_00032.arrow\n",
      "Loading cached processed dataset at datasets/google_train_dataset_enc_no_name/cache-5e4d4d7a88b712bd_00018_of_00032.arrow\n",
      "Loading cached processed dataset at datasets/google_train_dataset_enc_no_name/cache-5e4d4d7a88b712bd_00019_of_00032.arrow\n",
      "Loading cached processed dataset at datasets/google_train_dataset_enc_no_name/cache-5e4d4d7a88b712bd_00020_of_00032.arrow\n",
      "Loading cached processed dataset at datasets/google_train_dataset_enc_no_name/cache-5e4d4d7a88b712bd_00021_of_00032.arrow\n",
      "Loading cached processed dataset at datasets/google_train_dataset_enc_no_name/cache-5e4d4d7a88b712bd_00022_of_00032.arrow\n",
      "Loading cached processed dataset at datasets/google_train_dataset_enc_no_name/cache-5e4d4d7a88b712bd_00023_of_00032.arrow\n",
      "Loading cached processed dataset at datasets/google_train_dataset_enc_no_name/cache-5e4d4d7a88b712bd_00024_of_00032.arrow\n",
      "Loading cached processed dataset at datasets/google_train_dataset_enc_no_name/cache-5e4d4d7a88b712bd_00025_of_00032.arrow\n",
      "Loading cached processed dataset at datasets/google_train_dataset_enc_no_name/cache-5e4d4d7a88b712bd_00026_of_00032.arrow\n",
      "Loading cached processed dataset at datasets/google_train_dataset_enc_no_name/cache-5e4d4d7a88b712bd_00027_of_00032.arrow\n",
      "Loading cached processed dataset at datasets/google_train_dataset_enc_no_name/cache-5e4d4d7a88b712bd_00028_of_00032.arrow\n",
      "Loading cached processed dataset at datasets/google_train_dataset_enc_no_name/cache-5e4d4d7a88b712bd_00029_of_00032.arrow\n",
      "Loading cached processed dataset at datasets/google_train_dataset_enc_no_name/cache-5e4d4d7a88b712bd_00030_of_00032.arrow\n",
      "Loading cached processed dataset at datasets/google_train_dataset_enc_no_name/cache-5e4d4d7a88b712bd_00031_of_00032.arrow\n",
      "Loading cached processed dataset at datasets/google_train_dataset_enc_no_name/cache-199faf4c9b8b7b1b_00000_of_00032.arrow\n",
      "Loading cached processed dataset at datasets/google_train_dataset_enc_no_name/cache-199faf4c9b8b7b1b_00001_of_00032.arrow\n",
      "Loading cached processed dataset at datasets/google_train_dataset_enc_no_name/cache-199faf4c9b8b7b1b_00002_of_00032.arrow\n",
      "Loading cached processed dataset at datasets/google_train_dataset_enc_no_name/cache-199faf4c9b8b7b1b_00003_of_00032.arrow\n",
      "Loading cached processed dataset at datasets/google_train_dataset_enc_no_name/cache-199faf4c9b8b7b1b_00004_of_00032.arrow\n",
      "Loading cached processed dataset at datasets/google_train_dataset_enc_no_name/cache-199faf4c9b8b7b1b_00005_of_00032.arrow\n",
      "Loading cached processed dataset at datasets/google_train_dataset_enc_no_name/cache-199faf4c9b8b7b1b_00006_of_00032.arrow\n",
      "Loading cached processed dataset at datasets/google_train_dataset_enc_no_name/cache-199faf4c9b8b7b1b_00007_of_00032.arrow\n",
      "Loading cached processed dataset at datasets/google_train_dataset_enc_no_name/cache-199faf4c9b8b7b1b_00008_of_00032.arrow\n",
      "Loading cached processed dataset at datasets/google_train_dataset_enc_no_name/cache-199faf4c9b8b7b1b_00009_of_00032.arrow\n",
      "Loading cached processed dataset at datasets/google_train_dataset_enc_no_name/cache-199faf4c9b8b7b1b_00010_of_00032.arrow\n",
      "Loading cached processed dataset at datasets/google_train_dataset_enc_no_name/cache-199faf4c9b8b7b1b_00011_of_00032.arrow\n",
      "Loading cached processed dataset at datasets/google_train_dataset_enc_no_name/cache-199faf4c9b8b7b1b_00012_of_00032.arrow\n",
      "Loading cached processed dataset at datasets/google_train_dataset_enc_no_name/cache-199faf4c9b8b7b1b_00013_of_00032.arrow\n",
      "Loading cached processed dataset at datasets/google_train_dataset_enc_no_name/cache-199faf4c9b8b7b1b_00014_of_00032.arrow\n",
      "Loading cached processed dataset at datasets/google_train_dataset_enc_no_name/cache-199faf4c9b8b7b1b_00015_of_00032.arrow\n",
      "Loading cached processed dataset at datasets/google_train_dataset_enc_no_name/cache-199faf4c9b8b7b1b_00016_of_00032.arrow\n",
      "Loading cached processed dataset at datasets/google_train_dataset_enc_no_name/cache-199faf4c9b8b7b1b_00017_of_00032.arrow\n",
      "Loading cached processed dataset at datasets/google_train_dataset_enc_no_name/cache-199faf4c9b8b7b1b_00018_of_00032.arrow\n",
      "Loading cached processed dataset at datasets/google_train_dataset_enc_no_name/cache-199faf4c9b8b7b1b_00019_of_00032.arrow\n",
      "Loading cached processed dataset at datasets/google_train_dataset_enc_no_name/cache-199faf4c9b8b7b1b_00020_of_00032.arrow\n",
      "Loading cached processed dataset at datasets/google_train_dataset_enc_no_name/cache-199faf4c9b8b7b1b_00021_of_00032.arrow\n",
      "Loading cached processed dataset at datasets/google_train_dataset_enc_no_name/cache-199faf4c9b8b7b1b_00022_of_00032.arrow\n",
      "Loading cached processed dataset at datasets/google_train_dataset_enc_no_name/cache-199faf4c9b8b7b1b_00023_of_00032.arrow\n",
      "Loading cached processed dataset at datasets/google_train_dataset_enc_no_name/cache-199faf4c9b8b7b1b_00024_of_00032.arrow\n",
      "Loading cached processed dataset at datasets/google_train_dataset_enc_no_name/cache-199faf4c9b8b7b1b_00025_of_00032.arrow\n",
      "Loading cached processed dataset at datasets/google_train_dataset_enc_no_name/cache-199faf4c9b8b7b1b_00026_of_00032.arrow\n",
      "Loading cached processed dataset at datasets/google_train_dataset_enc_no_name/cache-199faf4c9b8b7b1b_00027_of_00032.arrow\n",
      "Loading cached processed dataset at datasets/google_train_dataset_enc_no_name/cache-199faf4c9b8b7b1b_00028_of_00032.arrow\n",
      "Loading cached processed dataset at datasets/google_train_dataset_enc_no_name/cache-199faf4c9b8b7b1b_00029_of_00032.arrow\n",
      "Loading cached processed dataset at datasets/google_train_dataset_enc_no_name/cache-199faf4c9b8b7b1b_00030_of_00032.arrow\n",
      "Loading cached processed dataset at datasets/google_train_dataset_enc_no_name/cache-199faf4c9b8b7b1b_00031_of_00032.arrow\n",
      "Loading cached processed dataset at datasets/google_train_dataset_enc_no_name/cache-1123ce495a685dea_00000_of_00032.arrow\n",
      "Loading cached processed dataset at datasets/google_train_dataset_enc_no_name/cache-1123ce495a685dea_00001_of_00032.arrow\n",
      "Loading cached processed dataset at datasets/google_train_dataset_enc_no_name/cache-1123ce495a685dea_00002_of_00032.arrow\n",
      "Loading cached processed dataset at datasets/google_train_dataset_enc_no_name/cache-1123ce495a685dea_00003_of_00032.arrow\n",
      "Loading cached processed dataset at datasets/google_train_dataset_enc_no_name/cache-1123ce495a685dea_00004_of_00032.arrow\n",
      "Loading cached processed dataset at datasets/google_train_dataset_enc_no_name/cache-1123ce495a685dea_00005_of_00032.arrow\n",
      "Loading cached processed dataset at datasets/google_train_dataset_enc_no_name/cache-1123ce495a685dea_00006_of_00032.arrow\n",
      "Loading cached processed dataset at datasets/google_train_dataset_enc_no_name/cache-1123ce495a685dea_00007_of_00032.arrow\n",
      "Loading cached processed dataset at datasets/google_train_dataset_enc_no_name/cache-1123ce495a685dea_00008_of_00032.arrow\n",
      "Loading cached processed dataset at datasets/google_train_dataset_enc_no_name/cache-1123ce495a685dea_00009_of_00032.arrow\n",
      "Loading cached processed dataset at datasets/google_train_dataset_enc_no_name/cache-1123ce495a685dea_00010_of_00032.arrow\n",
      "Loading cached processed dataset at datasets/google_train_dataset_enc_no_name/cache-1123ce495a685dea_00011_of_00032.arrow\n",
      "Loading cached processed dataset at datasets/google_train_dataset_enc_no_name/cache-1123ce495a685dea_00012_of_00032.arrow\n",
      "Loading cached processed dataset at datasets/google_train_dataset_enc_no_name/cache-1123ce495a685dea_00013_of_00032.arrow\n",
      "Loading cached processed dataset at datasets/google_train_dataset_enc_no_name/cache-1123ce495a685dea_00014_of_00032.arrow\n",
      "Loading cached processed dataset at datasets/google_train_dataset_enc_no_name/cache-1123ce495a685dea_00015_of_00032.arrow\n",
      "Loading cached processed dataset at datasets/google_train_dataset_enc_no_name/cache-1123ce495a685dea_00016_of_00032.arrow\n",
      "Loading cached processed dataset at datasets/google_train_dataset_enc_no_name/cache-1123ce495a685dea_00017_of_00032.arrow\n",
      "Loading cached processed dataset at datasets/google_train_dataset_enc_no_name/cache-1123ce495a685dea_00018_of_00032.arrow\n",
      "Loading cached processed dataset at datasets/google_train_dataset_enc_no_name/cache-1123ce495a685dea_00019_of_00032.arrow\n",
      "Loading cached processed dataset at datasets/google_train_dataset_enc_no_name/cache-1123ce495a685dea_00020_of_00032.arrow\n",
      "Loading cached processed dataset at datasets/google_train_dataset_enc_no_name/cache-1123ce495a685dea_00021_of_00032.arrow\n",
      "Loading cached processed dataset at datasets/google_train_dataset_enc_no_name/cache-1123ce495a685dea_00022_of_00032.arrow\n",
      "Loading cached processed dataset at datasets/google_train_dataset_enc_no_name/cache-1123ce495a685dea_00023_of_00032.arrow\n",
      "Loading cached processed dataset at datasets/google_train_dataset_enc_no_name/cache-1123ce495a685dea_00024_of_00032.arrow\n",
      "Loading cached processed dataset at datasets/google_train_dataset_enc_no_name/cache-1123ce495a685dea_00025_of_00032.arrow\n",
      "Loading cached processed dataset at datasets/google_train_dataset_enc_no_name/cache-1123ce495a685dea_00026_of_00032.arrow\n",
      "Loading cached processed dataset at datasets/google_train_dataset_enc_no_name/cache-1123ce495a685dea_00027_of_00032.arrow\n",
      "Loading cached processed dataset at datasets/google_train_dataset_enc_no_name/cache-1123ce495a685dea_00028_of_00032.arrow\n",
      "Loading cached processed dataset at datasets/google_train_dataset_enc_no_name/cache-1123ce495a685dea_00029_of_00032.arrow\n",
      "Loading cached processed dataset at datasets/google_train_dataset_enc_no_name/cache-1123ce495a685dea_00030_of_00032.arrow\n",
      "Loading cached processed dataset at datasets/google_train_dataset_enc_no_name/cache-1123ce495a685dea_00031_of_00032.arrow\n",
      "Loading cached processed dataset at datasets/google_train_dataset_enc_no_name/cache-29d401ea51740fd6_00000_of_00032.arrow\n",
      "Loading cached processed dataset at datasets/google_train_dataset_enc_no_name/cache-29d401ea51740fd6_00001_of_00032.arrow\n",
      "Loading cached processed dataset at datasets/google_train_dataset_enc_no_name/cache-29d401ea51740fd6_00002_of_00032.arrow\n",
      "Loading cached processed dataset at datasets/google_train_dataset_enc_no_name/cache-29d401ea51740fd6_00003_of_00032.arrow\n",
      "Loading cached processed dataset at datasets/google_train_dataset_enc_no_name/cache-29d401ea51740fd6_00004_of_00032.arrow\n",
      "Loading cached processed dataset at datasets/google_train_dataset_enc_no_name/cache-29d401ea51740fd6_00005_of_00032.arrow\n",
      "Loading cached processed dataset at datasets/google_train_dataset_enc_no_name/cache-29d401ea51740fd6_00006_of_00032.arrow\n",
      "Loading cached processed dataset at datasets/google_train_dataset_enc_no_name/cache-29d401ea51740fd6_00007_of_00032.arrow\n",
      "Loading cached processed dataset at datasets/google_train_dataset_enc_no_name/cache-29d401ea51740fd6_00008_of_00032.arrow\n",
      "Loading cached processed dataset at datasets/google_train_dataset_enc_no_name/cache-29d401ea51740fd6_00009_of_00032.arrow\n",
      "Loading cached processed dataset at datasets/google_train_dataset_enc_no_name/cache-29d401ea51740fd6_00010_of_00032.arrow\n",
      "Loading cached processed dataset at datasets/google_train_dataset_enc_no_name/cache-29d401ea51740fd6_00011_of_00032.arrow\n",
      "Loading cached processed dataset at datasets/google_train_dataset_enc_no_name/cache-29d401ea51740fd6_00012_of_00032.arrow\n",
      "Loading cached processed dataset at datasets/google_train_dataset_enc_no_name/cache-29d401ea51740fd6_00013_of_00032.arrow\n",
      "Loading cached processed dataset at datasets/google_train_dataset_enc_no_name/cache-29d401ea51740fd6_00014_of_00032.arrow\n",
      "Loading cached processed dataset at datasets/google_train_dataset_enc_no_name/cache-29d401ea51740fd6_00015_of_00032.arrow\n",
      "Loading cached processed dataset at datasets/google_train_dataset_enc_no_name/cache-29d401ea51740fd6_00016_of_00032.arrow\n",
      "Loading cached processed dataset at datasets/google_train_dataset_enc_no_name/cache-29d401ea51740fd6_00017_of_00032.arrow\n",
      "Loading cached processed dataset at datasets/google_train_dataset_enc_no_name/cache-29d401ea51740fd6_00018_of_00032.arrow\n",
      "Loading cached processed dataset at datasets/google_train_dataset_enc_no_name/cache-29d401ea51740fd6_00019_of_00032.arrow\n",
      "Loading cached processed dataset at datasets/google_train_dataset_enc_no_name/cache-29d401ea51740fd6_00020_of_00032.arrow\n",
      "Loading cached processed dataset at datasets/google_train_dataset_enc_no_name/cache-29d401ea51740fd6_00021_of_00032.arrow\n",
      "Loading cached processed dataset at datasets/google_train_dataset_enc_no_name/cache-29d401ea51740fd6_00022_of_00032.arrow\n",
      "Loading cached processed dataset at datasets/google_train_dataset_enc_no_name/cache-29d401ea51740fd6_00023_of_00032.arrow\n",
      "Loading cached processed dataset at datasets/google_train_dataset_enc_no_name/cache-29d401ea51740fd6_00024_of_00032.arrow\n",
      "Loading cached processed dataset at datasets/google_train_dataset_enc_no_name/cache-29d401ea51740fd6_00025_of_00032.arrow\n",
      "Loading cached processed dataset at datasets/google_train_dataset_enc_no_name/cache-29d401ea51740fd6_00026_of_00032.arrow\n",
      "Loading cached processed dataset at datasets/google_train_dataset_enc_no_name/cache-29d401ea51740fd6_00027_of_00032.arrow\n",
      "Loading cached processed dataset at datasets/google_train_dataset_enc_no_name/cache-29d401ea51740fd6_00028_of_00032.arrow\n",
      "Loading cached processed dataset at datasets/google_train_dataset_enc_no_name/cache-29d401ea51740fd6_00029_of_00032.arrow\n",
      "Loading cached processed dataset at datasets/google_train_dataset_enc_no_name/cache-29d401ea51740fd6_00030_of_00032.arrow\n",
      "Loading cached processed dataset at datasets/google_train_dataset_enc_no_name/cache-29d401ea51740fd6_00031_of_00032.arrow\n",
      "Loading cached processed dataset at datasets/google_train_dataset_enc_no_name/cache-0e60554de4e831cb_00000_of_00032.arrow\n",
      "Loading cached processed dataset at datasets/google_train_dataset_enc_no_name/cache-0e60554de4e831cb_00001_of_00032.arrow\n",
      "Loading cached processed dataset at datasets/google_train_dataset_enc_no_name/cache-0e60554de4e831cb_00002_of_00032.arrow\n",
      "Loading cached processed dataset at datasets/google_train_dataset_enc_no_name/cache-0e60554de4e831cb_00003_of_00032.arrow\n",
      "Loading cached processed dataset at datasets/google_train_dataset_enc_no_name/cache-0e60554de4e831cb_00004_of_00032.arrow\n",
      "Loading cached processed dataset at datasets/google_train_dataset_enc_no_name/cache-0e60554de4e831cb_00005_of_00032.arrow\n",
      "Loading cached processed dataset at datasets/google_train_dataset_enc_no_name/cache-0e60554de4e831cb_00006_of_00032.arrow\n",
      "Loading cached processed dataset at datasets/google_train_dataset_enc_no_name/cache-0e60554de4e831cb_00007_of_00032.arrow\n",
      "Loading cached processed dataset at datasets/google_train_dataset_enc_no_name/cache-0e60554de4e831cb_00008_of_00032.arrow\n",
      "Loading cached processed dataset at datasets/google_train_dataset_enc_no_name/cache-0e60554de4e831cb_00009_of_00032.arrow\n",
      "Loading cached processed dataset at datasets/google_train_dataset_enc_no_name/cache-0e60554de4e831cb_00010_of_00032.arrow\n",
      "Loading cached processed dataset at datasets/google_train_dataset_enc_no_name/cache-0e60554de4e831cb_00011_of_00032.arrow\n",
      "Loading cached processed dataset at datasets/google_train_dataset_enc_no_name/cache-0e60554de4e831cb_00012_of_00032.arrow\n",
      "Loading cached processed dataset at datasets/google_train_dataset_enc_no_name/cache-0e60554de4e831cb_00013_of_00032.arrow\n",
      "Loading cached processed dataset at datasets/google_train_dataset_enc_no_name/cache-0e60554de4e831cb_00014_of_00032.arrow\n",
      "Loading cached processed dataset at datasets/google_train_dataset_enc_no_name/cache-0e60554de4e831cb_00015_of_00032.arrow\n",
      "Loading cached processed dataset at datasets/google_train_dataset_enc_no_name/cache-0e60554de4e831cb_00016_of_00032.arrow\n",
      "Loading cached processed dataset at datasets/google_train_dataset_enc_no_name/cache-0e60554de4e831cb_00017_of_00032.arrow\n",
      "Loading cached processed dataset at datasets/google_train_dataset_enc_no_name/cache-0e60554de4e831cb_00018_of_00032.arrow\n",
      "Loading cached processed dataset at datasets/google_train_dataset_enc_no_name/cache-0e60554de4e831cb_00019_of_00032.arrow\n",
      "Loading cached processed dataset at datasets/google_train_dataset_enc_no_name/cache-0e60554de4e831cb_00020_of_00032.arrow\n",
      "Loading cached processed dataset at datasets/google_train_dataset_enc_no_name/cache-0e60554de4e831cb_00021_of_00032.arrow\n",
      "Loading cached processed dataset at datasets/google_train_dataset_enc_no_name/cache-0e60554de4e831cb_00022_of_00032.arrow\n",
      "Loading cached processed dataset at datasets/google_train_dataset_enc_no_name/cache-0e60554de4e831cb_00023_of_00032.arrow\n",
      "Loading cached processed dataset at datasets/google_train_dataset_enc_no_name/cache-0e60554de4e831cb_00024_of_00032.arrow\n",
      "Loading cached processed dataset at datasets/google_train_dataset_enc_no_name/cache-0e60554de4e831cb_00025_of_00032.arrow\n",
      "Loading cached processed dataset at datasets/google_train_dataset_enc_no_name/cache-0e60554de4e831cb_00026_of_00032.arrow\n",
      "Loading cached processed dataset at datasets/google_train_dataset_enc_no_name/cache-0e60554de4e831cb_00027_of_00032.arrow\n",
      "Loading cached processed dataset at datasets/google_train_dataset_enc_no_name/cache-0e60554de4e831cb_00028_of_00032.arrow\n",
      "Loading cached processed dataset at datasets/google_train_dataset_enc_no_name/cache-0e60554de4e831cb_00029_of_00032.arrow\n",
      "Loading cached processed dataset at datasets/google_train_dataset_enc_no_name/cache-0e60554de4e831cb_00030_of_00032.arrow\n",
      "Loading cached processed dataset at datasets/google_train_dataset_enc_no_name/cache-0e60554de4e831cb_00031_of_00032.arrow\n",
      "Loading cached processed dataset at datasets/google_train_dataset_enc_no_name/cache-9af64a0f66b867d6_00000_of_00032.arrow\n",
      "Loading cached processed dataset at datasets/google_train_dataset_enc_no_name/cache-9af64a0f66b867d6_00001_of_00032.arrow\n",
      "Loading cached processed dataset at datasets/google_train_dataset_enc_no_name/cache-9af64a0f66b867d6_00002_of_00032.arrow\n",
      "Loading cached processed dataset at datasets/google_train_dataset_enc_no_name/cache-9af64a0f66b867d6_00003_of_00032.arrow\n",
      "Loading cached processed dataset at datasets/google_train_dataset_enc_no_name/cache-9af64a0f66b867d6_00004_of_00032.arrow\n",
      "Loading cached processed dataset at datasets/google_train_dataset_enc_no_name/cache-9af64a0f66b867d6_00005_of_00032.arrow\n",
      "Loading cached processed dataset at datasets/google_train_dataset_enc_no_name/cache-9af64a0f66b867d6_00006_of_00032.arrow\n",
      "Loading cached processed dataset at datasets/google_train_dataset_enc_no_name/cache-9af64a0f66b867d6_00007_of_00032.arrow\n",
      "Loading cached processed dataset at datasets/google_train_dataset_enc_no_name/cache-9af64a0f66b867d6_00008_of_00032.arrow\n",
      "Loading cached processed dataset at datasets/google_train_dataset_enc_no_name/cache-9af64a0f66b867d6_00009_of_00032.arrow\n",
      "Loading cached processed dataset at datasets/google_train_dataset_enc_no_name/cache-9af64a0f66b867d6_00010_of_00032.arrow\n",
      "Loading cached processed dataset at datasets/google_train_dataset_enc_no_name/cache-9af64a0f66b867d6_00011_of_00032.arrow\n",
      "Loading cached processed dataset at datasets/google_train_dataset_enc_no_name/cache-9af64a0f66b867d6_00012_of_00032.arrow\n",
      "Loading cached processed dataset at datasets/google_train_dataset_enc_no_name/cache-9af64a0f66b867d6_00013_of_00032.arrow\n",
      "Loading cached processed dataset at datasets/google_train_dataset_enc_no_name/cache-9af64a0f66b867d6_00014_of_00032.arrow\n",
      "Loading cached processed dataset at datasets/google_train_dataset_enc_no_name/cache-9af64a0f66b867d6_00015_of_00032.arrow\n",
      "Loading cached processed dataset at datasets/google_train_dataset_enc_no_name/cache-9af64a0f66b867d6_00016_of_00032.arrow\n",
      "Loading cached processed dataset at datasets/google_train_dataset_enc_no_name/cache-9af64a0f66b867d6_00017_of_00032.arrow\n",
      "Loading cached processed dataset at datasets/google_train_dataset_enc_no_name/cache-9af64a0f66b867d6_00018_of_00032.arrow\n",
      "Loading cached processed dataset at datasets/google_train_dataset_enc_no_name/cache-9af64a0f66b867d6_00019_of_00032.arrow\n",
      "Loading cached processed dataset at datasets/google_train_dataset_enc_no_name/cache-9af64a0f66b867d6_00020_of_00032.arrow\n",
      "Loading cached processed dataset at datasets/google_train_dataset_enc_no_name/cache-9af64a0f66b867d6_00021_of_00032.arrow\n",
      "Loading cached processed dataset at datasets/google_train_dataset_enc_no_name/cache-9af64a0f66b867d6_00022_of_00032.arrow\n",
      "Loading cached processed dataset at datasets/google_train_dataset_enc_no_name/cache-9af64a0f66b867d6_00023_of_00032.arrow\n",
      "Loading cached processed dataset at datasets/google_train_dataset_enc_no_name/cache-9af64a0f66b867d6_00024_of_00032.arrow\n",
      "Loading cached processed dataset at datasets/google_train_dataset_enc_no_name/cache-9af64a0f66b867d6_00025_of_00032.arrow\n",
      "Loading cached processed dataset at datasets/google_train_dataset_enc_no_name/cache-9af64a0f66b867d6_00026_of_00032.arrow\n",
      "Loading cached processed dataset at datasets/google_train_dataset_enc_no_name/cache-9af64a0f66b867d6_00027_of_00032.arrow\n",
      "Loading cached processed dataset at datasets/google_train_dataset_enc_no_name/cache-9af64a0f66b867d6_00028_of_00032.arrow\n",
      "Loading cached processed dataset at datasets/google_train_dataset_enc_no_name/cache-9af64a0f66b867d6_00029_of_00032.arrow\n",
      "Loading cached processed dataset at datasets/google_train_dataset_enc_no_name/cache-9af64a0f66b867d6_00030_of_00032.arrow\n",
      "Loading cached processed dataset at datasets/google_train_dataset_enc_no_name/cache-9af64a0f66b867d6_00031_of_00032.arrow\n",
      "Loading cached processed dataset at datasets/google_train_dataset_enc_no_name/cache-a9e26b70385e25c1_00000_of_00032.arrow\n",
      "Loading cached processed dataset at datasets/google_train_dataset_enc_no_name/cache-a9e26b70385e25c1_00001_of_00032.arrow\n",
      "Loading cached processed dataset at datasets/google_train_dataset_enc_no_name/cache-a9e26b70385e25c1_00002_of_00032.arrow\n",
      "Loading cached processed dataset at datasets/google_train_dataset_enc_no_name/cache-a9e26b70385e25c1_00003_of_00032.arrow\n",
      "Loading cached processed dataset at datasets/google_train_dataset_enc_no_name/cache-a9e26b70385e25c1_00004_of_00032.arrow\n",
      "Loading cached processed dataset at datasets/google_train_dataset_enc_no_name/cache-a9e26b70385e25c1_00005_of_00032.arrow\n",
      "Loading cached processed dataset at datasets/google_train_dataset_enc_no_name/cache-a9e26b70385e25c1_00006_of_00032.arrow\n",
      "Loading cached processed dataset at datasets/google_train_dataset_enc_no_name/cache-a9e26b70385e25c1_00007_of_00032.arrow\n",
      "Loading cached processed dataset at datasets/google_train_dataset_enc_no_name/cache-a9e26b70385e25c1_00008_of_00032.arrow\n",
      "Loading cached processed dataset at datasets/google_train_dataset_enc_no_name/cache-a9e26b70385e25c1_00009_of_00032.arrow\n",
      "Loading cached processed dataset at datasets/google_train_dataset_enc_no_name/cache-a9e26b70385e25c1_00010_of_00032.arrow\n",
      "Loading cached processed dataset at datasets/google_train_dataset_enc_no_name/cache-a9e26b70385e25c1_00011_of_00032.arrow\n",
      "Loading cached processed dataset at datasets/google_train_dataset_enc_no_name/cache-a9e26b70385e25c1_00012_of_00032.arrow\n",
      "Loading cached processed dataset at datasets/google_train_dataset_enc_no_name/cache-a9e26b70385e25c1_00013_of_00032.arrow\n",
      "Loading cached processed dataset at datasets/google_train_dataset_enc_no_name/cache-a9e26b70385e25c1_00014_of_00032.arrow\n",
      "Loading cached processed dataset at datasets/google_train_dataset_enc_no_name/cache-a9e26b70385e25c1_00015_of_00032.arrow\n",
      "Loading cached processed dataset at datasets/google_train_dataset_enc_no_name/cache-a9e26b70385e25c1_00016_of_00032.arrow\n",
      "Loading cached processed dataset at datasets/google_train_dataset_enc_no_name/cache-a9e26b70385e25c1_00017_of_00032.arrow\n",
      "Loading cached processed dataset at datasets/google_train_dataset_enc_no_name/cache-a9e26b70385e25c1_00018_of_00032.arrow\n",
      "Loading cached processed dataset at datasets/google_train_dataset_enc_no_name/cache-a9e26b70385e25c1_00019_of_00032.arrow\n",
      "Loading cached processed dataset at datasets/google_train_dataset_enc_no_name/cache-a9e26b70385e25c1_00020_of_00032.arrow\n",
      "Loading cached processed dataset at datasets/google_train_dataset_enc_no_name/cache-a9e26b70385e25c1_00021_of_00032.arrow\n",
      "Loading cached processed dataset at datasets/google_train_dataset_enc_no_name/cache-a9e26b70385e25c1_00022_of_00032.arrow\n",
      "Loading cached processed dataset at datasets/google_train_dataset_enc_no_name/cache-a9e26b70385e25c1_00023_of_00032.arrow\n",
      "Loading cached processed dataset at datasets/google_train_dataset_enc_no_name/cache-a9e26b70385e25c1_00024_of_00032.arrow\n",
      "Loading cached processed dataset at datasets/google_train_dataset_enc_no_name/cache-a9e26b70385e25c1_00025_of_00032.arrow\n",
      "Loading cached processed dataset at datasets/google_train_dataset_enc_no_name/cache-a9e26b70385e25c1_00026_of_00032.arrow\n",
      "Loading cached processed dataset at datasets/google_train_dataset_enc_no_name/cache-a9e26b70385e25c1_00027_of_00032.arrow\n",
      "Loading cached processed dataset at datasets/google_train_dataset_enc_no_name/cache-a9e26b70385e25c1_00028_of_00032.arrow\n",
      "Loading cached processed dataset at datasets/google_train_dataset_enc_no_name/cache-a9e26b70385e25c1_00029_of_00032.arrow\n",
      "Loading cached processed dataset at datasets/google_train_dataset_enc_no_name/cache-a9e26b70385e25c1_00030_of_00032.arrow\n",
      "Loading cached processed dataset at datasets/google_train_dataset_enc_no_name/cache-a9e26b70385e25c1_00031_of_00032.arrow\n",
      "Loading cached processed dataset at datasets/google_train_dataset_enc_no_name/cache-fe7b3a0cc129da33_00000_of_00032.arrow\n",
      "Loading cached processed dataset at datasets/google_train_dataset_enc_no_name/cache-fe7b3a0cc129da33_00001_of_00032.arrow\n",
      "Loading cached processed dataset at datasets/google_train_dataset_enc_no_name/cache-fe7b3a0cc129da33_00002_of_00032.arrow\n",
      "Loading cached processed dataset at datasets/google_train_dataset_enc_no_name/cache-fe7b3a0cc129da33_00003_of_00032.arrow\n",
      "Loading cached processed dataset at datasets/google_train_dataset_enc_no_name/cache-fe7b3a0cc129da33_00004_of_00032.arrow\n",
      "Loading cached processed dataset at datasets/google_train_dataset_enc_no_name/cache-fe7b3a0cc129da33_00005_of_00032.arrow\n",
      "Loading cached processed dataset at datasets/google_train_dataset_enc_no_name/cache-fe7b3a0cc129da33_00006_of_00032.arrow\n",
      "Loading cached processed dataset at datasets/google_train_dataset_enc_no_name/cache-fe7b3a0cc129da33_00007_of_00032.arrow\n",
      "Loading cached processed dataset at datasets/google_train_dataset_enc_no_name/cache-fe7b3a0cc129da33_00008_of_00032.arrow\n",
      "Loading cached processed dataset at datasets/google_train_dataset_enc_no_name/cache-fe7b3a0cc129da33_00009_of_00032.arrow\n",
      "Loading cached processed dataset at datasets/google_train_dataset_enc_no_name/cache-fe7b3a0cc129da33_00010_of_00032.arrow\n",
      "Loading cached processed dataset at datasets/google_train_dataset_enc_no_name/cache-fe7b3a0cc129da33_00011_of_00032.arrow\n",
      "Loading cached processed dataset at datasets/google_train_dataset_enc_no_name/cache-fe7b3a0cc129da33_00012_of_00032.arrow\n",
      "Loading cached processed dataset at datasets/google_train_dataset_enc_no_name/cache-fe7b3a0cc129da33_00013_of_00032.arrow\n",
      "Loading cached processed dataset at datasets/google_train_dataset_enc_no_name/cache-fe7b3a0cc129da33_00014_of_00032.arrow\n",
      "Loading cached processed dataset at datasets/google_train_dataset_enc_no_name/cache-fe7b3a0cc129da33_00015_of_00032.arrow\n",
      "Loading cached processed dataset at datasets/google_train_dataset_enc_no_name/cache-fe7b3a0cc129da33_00016_of_00032.arrow\n",
      "Loading cached processed dataset at datasets/google_train_dataset_enc_no_name/cache-fe7b3a0cc129da33_00017_of_00032.arrow\n",
      "Loading cached processed dataset at datasets/google_train_dataset_enc_no_name/cache-fe7b3a0cc129da33_00018_of_00032.arrow\n",
      "Loading cached processed dataset at datasets/google_train_dataset_enc_no_name/cache-fe7b3a0cc129da33_00019_of_00032.arrow\n",
      "Loading cached processed dataset at datasets/google_train_dataset_enc_no_name/cache-fe7b3a0cc129da33_00020_of_00032.arrow\n",
      "Loading cached processed dataset at datasets/google_train_dataset_enc_no_name/cache-fe7b3a0cc129da33_00021_of_00032.arrow\n",
      "Loading cached processed dataset at datasets/google_train_dataset_enc_no_name/cache-fe7b3a0cc129da33_00022_of_00032.arrow\n",
      "Loading cached processed dataset at datasets/google_train_dataset_enc_no_name/cache-fe7b3a0cc129da33_00023_of_00032.arrow\n",
      "Loading cached processed dataset at datasets/google_train_dataset_enc_no_name/cache-fe7b3a0cc129da33_00024_of_00032.arrow\n",
      "Loading cached processed dataset at datasets/google_train_dataset_enc_no_name/cache-fe7b3a0cc129da33_00025_of_00032.arrow\n",
      "Loading cached processed dataset at datasets/google_train_dataset_enc_no_name/cache-fe7b3a0cc129da33_00026_of_00032.arrow\n",
      "Loading cached processed dataset at datasets/google_train_dataset_enc_no_name/cache-fe7b3a0cc129da33_00027_of_00032.arrow\n",
      "Loading cached processed dataset at datasets/google_train_dataset_enc_no_name/cache-fe7b3a0cc129da33_00028_of_00032.arrow\n",
      "Loading cached processed dataset at datasets/google_train_dataset_enc_no_name/cache-fe7b3a0cc129da33_00029_of_00032.arrow\n",
      "Loading cached processed dataset at datasets/google_train_dataset_enc_no_name/cache-fe7b3a0cc129da33_00030_of_00032.arrow\n",
      "Loading cached processed dataset at datasets/google_train_dataset_enc_no_name/cache-fe7b3a0cc129da33_00031_of_00032.arrow\n",
      "Loading cached processed dataset at datasets/google_train_dataset_enc_no_name/cache-ca54f07706fb6f13_00000_of_00032.arrow\n",
      "Loading cached processed dataset at datasets/google_train_dataset_enc_no_name/cache-ca54f07706fb6f13_00001_of_00032.arrow\n",
      "Loading cached processed dataset at datasets/google_train_dataset_enc_no_name/cache-ca54f07706fb6f13_00002_of_00032.arrow\n",
      "Loading cached processed dataset at datasets/google_train_dataset_enc_no_name/cache-ca54f07706fb6f13_00003_of_00032.arrow\n",
      "Loading cached processed dataset at datasets/google_train_dataset_enc_no_name/cache-ca54f07706fb6f13_00004_of_00032.arrow\n",
      "Loading cached processed dataset at datasets/google_train_dataset_enc_no_name/cache-ca54f07706fb6f13_00005_of_00032.arrow\n",
      "Loading cached processed dataset at datasets/google_train_dataset_enc_no_name/cache-ca54f07706fb6f13_00006_of_00032.arrow\n",
      "Loading cached processed dataset at datasets/google_train_dataset_enc_no_name/cache-ca54f07706fb6f13_00007_of_00032.arrow\n",
      "Loading cached processed dataset at datasets/google_train_dataset_enc_no_name/cache-ca54f07706fb6f13_00008_of_00032.arrow\n",
      "Loading cached processed dataset at datasets/google_train_dataset_enc_no_name/cache-ca54f07706fb6f13_00009_of_00032.arrow\n",
      "Loading cached processed dataset at datasets/google_train_dataset_enc_no_name/cache-ca54f07706fb6f13_00010_of_00032.arrow\n",
      "Loading cached processed dataset at datasets/google_train_dataset_enc_no_name/cache-ca54f07706fb6f13_00011_of_00032.arrow\n",
      "Loading cached processed dataset at datasets/google_train_dataset_enc_no_name/cache-ca54f07706fb6f13_00012_of_00032.arrow\n",
      "Loading cached processed dataset at datasets/google_train_dataset_enc_no_name/cache-ca54f07706fb6f13_00013_of_00032.arrow\n",
      "Loading cached processed dataset at datasets/google_train_dataset_enc_no_name/cache-ca54f07706fb6f13_00014_of_00032.arrow\n",
      "Loading cached processed dataset at datasets/google_train_dataset_enc_no_name/cache-ca54f07706fb6f13_00015_of_00032.arrow\n",
      "Loading cached processed dataset at datasets/google_train_dataset_enc_no_name/cache-ca54f07706fb6f13_00016_of_00032.arrow\n",
      "Loading cached processed dataset at datasets/google_train_dataset_enc_no_name/cache-ca54f07706fb6f13_00017_of_00032.arrow\n",
      "Loading cached processed dataset at datasets/google_train_dataset_enc_no_name/cache-ca54f07706fb6f13_00018_of_00032.arrow\n",
      "Loading cached processed dataset at datasets/google_train_dataset_enc_no_name/cache-ca54f07706fb6f13_00019_of_00032.arrow\n",
      "Loading cached processed dataset at datasets/google_train_dataset_enc_no_name/cache-ca54f07706fb6f13_00020_of_00032.arrow\n",
      "Loading cached processed dataset at datasets/google_train_dataset_enc_no_name/cache-ca54f07706fb6f13_00021_of_00032.arrow\n",
      "Loading cached processed dataset at datasets/google_train_dataset_enc_no_name/cache-ca54f07706fb6f13_00022_of_00032.arrow\n",
      "Loading cached processed dataset at datasets/google_train_dataset_enc_no_name/cache-ca54f07706fb6f13_00023_of_00032.arrow\n",
      "Loading cached processed dataset at datasets/google_train_dataset_enc_no_name/cache-ca54f07706fb6f13_00024_of_00032.arrow\n",
      "Loading cached processed dataset at datasets/google_train_dataset_enc_no_name/cache-ca54f07706fb6f13_00025_of_00032.arrow\n",
      "Loading cached processed dataset at datasets/google_train_dataset_enc_no_name/cache-ca54f07706fb6f13_00026_of_00032.arrow\n",
      "Loading cached processed dataset at datasets/google_train_dataset_enc_no_name/cache-ca54f07706fb6f13_00027_of_00032.arrow\n",
      "Loading cached processed dataset at datasets/google_train_dataset_enc_no_name/cache-ca54f07706fb6f13_00028_of_00032.arrow\n",
      "Loading cached processed dataset at datasets/google_train_dataset_enc_no_name/cache-ca54f07706fb6f13_00029_of_00032.arrow\n",
      "Loading cached processed dataset at datasets/google_train_dataset_enc_no_name/cache-ca54f07706fb6f13_00030_of_00032.arrow\n",
      "Loading cached processed dataset at datasets/google_train_dataset_enc_no_name/cache-ca54f07706fb6f13_00031_of_00032.arrow\n"
     ]
    }
   ],
   "source": [
    "ten_funcs = {\n",
    " }\n",
    "\n",
    "for func in tqdm(sample_ten_func_names):\n",
    "    ten_funcs[func] = google_train_dataset_enc.filter(lambda x: x['method_name'] == func and x['len'] > 10, num_proc=32)\n",
    "                            "
   ]
  },
  {
   "cell_type": "code",
   "execution_count": 285,
   "id": "0c9f8fbb-3791-4cbe-bb9d-a65953b2225a",
   "metadata": {},
   "outputs": [
    {
     "data": {
      "text/plain": [
       "{'test': Dataset({\n",
       "     features: ['method_name', 'method_body', 'input_ids', 'token_type_ids', 'attention_mask', 'len'],\n",
       "     num_rows: 498\n",
       " }),\n",
       " 'appendTo': Dataset({\n",
       "     features: ['method_name', 'method_body', 'input_ids', 'token_type_ids', 'attention_mask', 'len'],\n",
       "     num_rows: 139\n",
       " }),\n",
       " 'repeat': Dataset({\n",
       "     features: ['method_name', 'method_body', 'input_ids', 'token_type_ids', 'attention_mask', 'len'],\n",
       "     num_rows: 83\n",
       " }),\n",
       " 'toString': Dataset({\n",
       "     features: ['method_name', 'method_body', 'input_ids', 'token_type_ids', 'attention_mask', 'len'],\n",
       "     num_rows: 767\n",
       " }),\n",
       " 'testItems': Dataset({\n",
       "     features: ['method_name', 'method_body', 'input_ids', 'token_type_ids', 'attention_mask', 'len'],\n",
       "     num_rows: 498\n",
       " }),\n",
       " 'getInjectionPoints': Dataset({\n",
       "     features: ['method_name', 'method_body', 'input_ids', 'token_type_ids', 'attention_mask', 'len'],\n",
       "     num_rows: 868\n",
       " }),\n",
       " 'compare': Dataset({\n",
       "     features: ['method_name', 'method_body', 'input_ids', 'token_type_ids', 'attention_mask', 'len'],\n",
       "     num_rows: 1491\n",
       " }),\n",
       " 'capitalize': Dataset({\n",
       "     features: ['method_name', 'method_body', 'input_ids', 'token_type_ids', 'attention_mask', 'len'],\n",
       "     num_rows: 98\n",
       " }),\n",
       " 'toStringHelper': Dataset({\n",
       "     features: ['method_name', 'method_body', 'input_ids', 'token_type_ids', 'attention_mask', 'len'],\n",
       "     num_rows: 1552\n",
       " }),\n",
       " 'parse': Dataset({\n",
       "     features: ['method_name', 'method_body', 'input_ids', 'token_type_ids', 'attention_mask', 'len'],\n",
       "     num_rows: 78\n",
       " })}"
      ]
     },
     "execution_count": 285,
     "metadata": {},
     "output_type": "execute_result"
    }
   ],
   "source": [
    "ten_funcs"
   ]
  },
  {
   "cell_type": "code",
   "execution_count": 286,
   "id": "890a69f4-b150-46eb-be5e-749828e0695a",
   "metadata": {},
   "outputs": [
    {
     "data": {
      "application/vnd.jupyter.widget-view+json": {
       "model_id": "31397158b7934e02b95ed38f90b00bba",
       "version_major": 2,
       "version_minor": 0
      },
      "text/plain": [
       "  0%|          | 0/10 [00:00<?, ?it/s]"
      ]
     },
     "metadata": {},
     "output_type": "display_data"
    },
    {
     "name": "stderr",
     "output_type": "stream",
     "text": [
      "Loading cached processed dataset at datasets/google_train_dataset_enc_no_name/cache-c64cbf998cec387d.arrow\n",
      "Loading cached processed dataset at datasets/google_train_dataset_enc_no_name/cache-6be4f923e158c8eb.arrow\n",
      "Loading cached processed dataset at datasets/google_train_dataset_enc_no_name/cache-db92cfc9f3545768.arrow\n",
      "Loading cached processed dataset at datasets/google_train_dataset_enc_no_name/cache-21fd71080cfd5819.arrow\n",
      "Loading cached processed dataset at datasets/google_train_dataset_enc_no_name/cache-629671cfff097c03.arrow\n",
      "Loading cached processed dataset at datasets/google_train_dataset_enc_no_name/cache-faf11a1c328dd8c6.arrow\n",
      "Loading cached processed dataset at datasets/google_train_dataset_enc_no_name/cache-54d84ce823041d22.arrow\n",
      "Loading cached processed dataset at datasets/google_train_dataset_enc_no_name/cache-64b08b755542f4a5.arrow\n",
      "Loading cached processed dataset at datasets/google_train_dataset_enc_no_name/cache-4a8730e22481a519.arrow\n",
      "Loading cached processed dataset at datasets/google_train_dataset_enc_no_name/cache-892f875c8912b469.arrow\n"
     ]
    }
   ],
   "source": [
    "ten_funcs = {k: v.map(calculate_embeddings, batched=True) for k, v in tqdm(ten_funcs.items())}"
   ]
  },
  {
   "cell_type": "code",
   "execution_count": null,
   "id": "0b204402-4780-46f9-bd5a-528e6b070d15",
   "metadata": {},
   "outputs": [],
   "source": [
    "ten_funcs_three = {k: v.select(range(0,3)) for k, v in ten_funcs.items()} # ten_funcs.map(lambda x: x.select(0,3))"
   ]
  },
  {
   "cell_type": "code",
   "execution_count": null,
   "id": "8c501d9e-c729-4631-9c53-09226397c6d8",
   "metadata": {},
   "outputs": [],
   "source": [
    "np.array(ten_funcs_three['test'][0]['embedding']).shape"
   ]
  },
  {
   "cell_type": "code",
   "execution_count": 287,
   "id": "cc826f5d-eff7-4c06-91fa-97be75a01734",
   "metadata": {},
   "outputs": [
    {
     "data": {
      "text/plain": [
       "Dataset({\n",
       "    features: ['method_name', 'method_body', 'input_ids', 'token_type_ids', 'attention_mask', 'len', 'embedding'],\n",
       "    num_rows: 3\n",
       "})"
      ]
     },
     "execution_count": 287,
     "metadata": {},
     "output_type": "execute_result"
    }
   ],
   "source": [
    "ten_funcs_three['test']"
   ]
  },
  {
   "cell_type": "markdown",
   "id": "dce56c4b-e2e3-4bfa-9400-86b570b120c7",
   "metadata": {},
   "source": [
    "Prem: 10 functions, with 2-3 traces for each function, between traces of same function and traces of different functions (the mean distance of samples from same function should be lower than from different functions)"
   ]
  },
  {
   "cell_type": "markdown",
   "id": "d6b5b302-52da-4a68-9fd3-ae2a59b53d52",
   "metadata": {},
   "source": [
    "Approaches: "
   ]
  },
  {
   "cell_type": "code",
   "execution_count": null,
   "id": "33ae2591-6727-4d37-9447-88f88d292ebf",
   "metadata": {
    "tags": []
   },
   "outputs": [],
   "source": [
    "#distances = {}\n",
    "#for function_name,function_dataset in ten_funcs_three.items():\n",
    "#    print(function_dataset)\n",
    "#for entry in function_dataset['test']:\n",
    "fifty_tests = ten_funcs['test'].select(range(1,51))"
   ]
  },
  {
   "cell_type": "code",
   "execution_count": 297,
   "id": "c3a9a29c-186f-4d36-8d48-dfc30b7e5b81",
   "metadata": {},
   "outputs": [],
   "source": []
  },
  {
   "cell_type": "code",
   "execution_count": 300,
   "id": "2dd93e67-901f-4223-afee-e7104229e9c7",
   "metadata": {
    "collapsed": true,
    "jupyter": {
     "outputs_hidden": true
    },
    "tags": []
   },
   "outputs": [
    {
     "data": {
      "text/plain": [
       "{'test': Dataset({\n",
       "     features: ['method_name', 'method_body', 'input_ids', 'token_type_ids', 'attention_mask', 'len', 'embedding'],\n",
       "     num_rows: 498\n",
       " }),\n",
       " 'appendTo': Dataset({\n",
       "     features: ['method_name', 'method_body', 'input_ids', 'token_type_ids', 'attention_mask', 'len', 'embedding'],\n",
       "     num_rows: 139\n",
       " }),\n",
       " 'repeat': Dataset({\n",
       "     features: ['method_name', 'method_body', 'input_ids', 'token_type_ids', 'attention_mask', 'len', 'embedding'],\n",
       "     num_rows: 83\n",
       " }),\n",
       " 'toString': Dataset({\n",
       "     features: ['method_name', 'method_body', 'input_ids', 'token_type_ids', 'attention_mask', 'len', 'embedding'],\n",
       "     num_rows: 767\n",
       " }),\n",
       " 'testItems': Dataset({\n",
       "     features: ['method_name', 'method_body', 'input_ids', 'token_type_ids', 'attention_mask', 'len', 'embedding'],\n",
       "     num_rows: 498\n",
       " }),\n",
       " 'getInjectionPoints': Dataset({\n",
       "     features: ['method_name', 'method_body', 'input_ids', 'token_type_ids', 'attention_mask', 'len', 'embedding'],\n",
       "     num_rows: 868\n",
       " }),\n",
       " 'compare': Dataset({\n",
       "     features: ['method_name', 'method_body', 'input_ids', 'token_type_ids', 'attention_mask', 'len', 'embedding'],\n",
       "     num_rows: 1491\n",
       " }),\n",
       " 'capitalize': Dataset({\n",
       "     features: ['method_name', 'method_body', 'input_ids', 'token_type_ids', 'attention_mask', 'len', 'embedding'],\n",
       "     num_rows: 98\n",
       " }),\n",
       " 'toStringHelper': Dataset({\n",
       "     features: ['method_name', 'method_body', 'input_ids', 'token_type_ids', 'attention_mask', 'len', 'embedding'],\n",
       "     num_rows: 1552\n",
       " }),\n",
       " 'parse': Dataset({\n",
       "     features: ['method_name', 'method_body', 'input_ids', 'token_type_ids', 'attention_mask', 'len', 'embedding'],\n",
       "     num_rows: 78\n",
       " })}"
      ]
     },
     "execution_count": 300,
     "metadata": {},
     "output_type": "execute_result"
    }
   ],
   "source": [
    "ten_funcs"
   ]
  },
  {
   "cell_type": "code",
   "execution_count": 339,
   "id": "5f705c46-20e8-4196-a151-c3c675e1eb40",
   "metadata": {},
   "outputs": [
    {
     "name": "stdout",
     "output_type": "stream",
     "text": [
      "(6, 512)\n",
      "(6, 512)\n",
      "(6, 512)\n",
      "(6, 512)\n",
      "(6, 512)\n",
      "(6, 512)\n",
      "(6, 512)\n",
      "(6, 512)\n",
      "(6, 512)\n"
     ]
    }
   ],
   "source": [
    "def get_fifty_others(ignore):\n",
    "    fifty_others = [] #np.array([])\n",
    "    for function_name,function_dataset in ten_funcs.items():\n",
    "        if function_name == ignore:\n",
    "            continue\n",
    "        #print(len(function_dataset))\n",
    "        #print(len(\n",
    "        sample = function_dataset.select(range(0,6))\n",
    "        emb = np.array(sample['embedding'])\n",
    "        print(emb.shape)\n",
    "        #['embedding']\n",
    "        #fifty_others = np.append(fifty_others, emb, axis=1)\n",
    "        fifty_others.extend(emb)\n",
    "    return np.array(fifty_others[:50])"
   ]
  },
  {
   "cell_type": "code",
   "execution_count": 360,
   "id": "0457cba5-b1a5-40c0-93e7-4db2f0ee4428",
   "metadata": {},
   "outputs": [],
   "source": [
    "import seaborn as sns\n",
    "import matplotlib.pyplot as plt"
   ]
  },
  {
   "cell_type": "code",
   "execution_count": 384,
   "id": "561d93a1-8031-4d5c-9cc5-391a328776dd",
   "metadata": {
    "tags": []
   },
   "outputs": [],
   "source": [
    "def t_test_method(method, off, ax):\n",
    "    fifty_one_test = np.array([ten_funcs_three[method][off]['embedding'] for x in range(0,50)])\n",
    "    fifty_test_emb = np.array(ten_funcs[method]['embedding'][(off+1):(51+off)])\n",
    "    f_test_others = np.linalg.norm(fifty_one_test-fifty_others,axis=1)\n",
    "    f_test_self = np.linalg.norm(fifty_one_test-fifty_test_emb,axis=1)\n",
    "    df = pd.concat([pd.DataFrame({'test': 'Same method names', 'score': f_test_self}), pd.DataFrame({'test': 'Different method names', 'score': f_test_others})])\n",
    "    sns.boxplot(x='test',y='score',data=df, ax = ax)\n",
    "    ttest = stats.ttest_rel(f_test_self, f_test_others)\n",
    "    statistic, pvalue = ttest\n",
    "    ax.set(xlabel=f\"Group of \\\"{method}\\\" method sample {off+1} (T: {round(statistic,2)}, p-val: {round(pvalue,10)})\", ylabel='Norms')\n",
    "    #plt.savefig(f\"{method}_{off}_boxplot.pdf\")\n",
    "    return ttest"
   ]
  },
  {
   "cell_type": "code",
   "execution_count": 366,
   "id": "b97d6fee-726c-406c-bd08-6fe4e593e7e2",
   "metadata": {},
   "outputs": [
    {
     "data": {
      "text/plain": [
       "Ttest_relResult(statistic=-9.543713794405777, pvalue=9.268954296736632e-13)"
      ]
     },
     "execution_count": 366,
     "metadata": {},
     "output_type": "execute_result"
    },
    {
     "data": {
      "image/png": "[encoded data removed]",
      "text/plain": [
       "<Figure size 432x288 with 1 Axes>"
      ]
     },
     "metadata": {
      "needs_background": "light"
     },
     "output_type": "display_data"
    }
   ],
   "source": [
    "t_test_method('test', 0)"
   ]
  },
  {
   "cell_type": "code",
   "execution_count": null,
   "id": "2f56c46e-dc35-4e60-8a2e-0e14cb7d2b88",
   "metadata": {},
   "outputs": [],
   "source": [
    "\n",
    "\n",
    "sns.distplot(df.Principal,ax=ax)\n",
    "ax = fig.add_subplot(2, 2, 2)\n",
    "sns.distplot(df.terms,ax=ax)\n",
    "ax = fig.add_subplot(2, 2, 3)\n",
    "sns.barplot(data = df[['Less_than_College', 'college', 'Bachelor']],ax=ax)\n",
    "ax.set_xticklabels(ax.get_xticklabels(), rotation=90)\n",
    "ax = fig.add_subplot(2, 2, 4)\n",
    "sns.boxplot(df['age'],ax=ax)\n",
    "plt.show()"
   ]
  },
  {
   "cell_type": "code",
   "execution_count": 385,
   "id": "0f75cc44-fbc9-4e4a-8b44-95814b577381",
   "metadata": {
    "tags": []
   },
   "outputs": [
    {
     "name": "stdout",
     "output_type": "stream",
     "text": [
      "Testing method test:\n",
      "    Testing 1/2: Ttest_relResult(statistic=-9.543713794405777, pvalue=9.268954296736632e-13)\n",
      "    Testing 2/2: Ttest_relResult(statistic=-9.543713919150173, pvalue=9.268950396846466e-13)\n",
      "Testing method appendTo:\n",
      "    Testing 1/2: Ttest_relResult(statistic=2.6669609425840384, pvalue=0.010342807238237052)\n",
      "    Testing 2/2: Ttest_relResult(statistic=2.3786131567248185, pvalue=0.02131987233509723)\n",
      "Testing method repeat:\n",
      "    Testing 1/2: Ttest_relResult(statistic=2.6687452614811087, pvalue=0.01029509246283518)\n",
      "    Testing 2/2: Ttest_relResult(statistic=2.9077677107554325, pvalue=0.005455570993049884)\n",
      "Testing method toString:\n",
      "    Testing 1/2: Ttest_relResult(statistic=-3.919437537740421, pvalue=0.0002755198325268055)\n",
      "    Testing 2/2: Ttest_relResult(statistic=-3.864153199661207, pvalue=0.00032781517954054814)\n",
      "Testing method testItems:\n",
      "    Testing 1/2: Ttest_relResult(statistic=-10.588232399695254, pvalue=2.917261275391741e-14)\n",
      "    Testing 2/2: Ttest_relResult(statistic=-10.588232399695254, pvalue=2.917261275391741e-14)\n",
      "Testing method getInjectionPoints:\n",
      "    Testing 1/2: Ttest_relResult(statistic=3.419738972773913, pvalue=0.0012717120228628554)\n",
      "    Testing 2/2: Ttest_relResult(statistic=3.053719803632627, pvalue=0.003648241097697186)\n",
      "Testing method compare:\n",
      "    Testing 1/2: Ttest_relResult(statistic=-2.354033797624836, pvalue=0.022624619443682242)\n",
      "    Testing 2/2: Ttest_relResult(statistic=-5.201806453399386, pvalue=3.858364965434186e-06)\n",
      "Testing method capitalize:\n",
      "    Testing 1/2: Ttest_relResult(statistic=-8.581214466546744, pvalue=2.5029083380068043e-11)\n",
      "    Testing 2/2: Ttest_relResult(statistic=-8.581214385734437, pvalue=2.5029090403423327e-11)\n",
      "Testing method toStringHelper:\n",
      "    Testing 1/2: Ttest_relResult(statistic=-9.587322835946608, pvalue=8.00199200807259e-13)\n",
      "    Testing 2/2: Ttest_relResult(statistic=-9.595950650404117, pvalue=7.772850381325331e-13)\n",
      "Testing method parse:\n",
      "    Testing 1/2: Ttest_relResult(statistic=1.6192885984819805, pvalue=0.11180448217496719)\n",
      "    Testing 2/2: Ttest_relResult(statistic=-5.364233231287573, pvalue=2.1941773132923287e-06)\n"
     ]
    },
    {
     "data": {
      "image/png": "[encoded data removed]",
      "text/plain": [
       "<Figure size 864x1800 with 20 Axes>"
      ]
     },
     "metadata": {
      "needs_background": "light"
     },
     "output_type": "display_data"
    }
   ],
   "source": [
    "fig = plt.figure()\n",
    "fig.set_size_inches(12, 25)\n",
    "fig.subplots_adjust(hspace=0.4, wspace=0.4)\n",
    "row = 1\n",
    "for method,function_dataset in ten_funcs.items():\n",
    "    \n",
    "    print(f\"Testing method {method}:\")\n",
    "    for i in range(0,2):\n",
    "        ax = fig.add_subplot(10, 2, row)\n",
    "        r = t_test_method(method, i, ax)\n",
    "        row += 1\n",
    "        print(f\"    Testing {i+1}/2: {r}\")\n",
    "plt.savefig(\"test.pdf\")"
   ]
  },
  {
   "cell_type": "code",
   "execution_count": null,
   "id": "5fbe1067-6eee-462d-b365-3f8cdca4d281",
   "metadata": {},
   "outputs": [],
   "source": []
  },
  {
   "cell_type": "code",
   "execution_count": null,
   "id": "86cb10ae-4577-4c94-b8a0-33144260f34c",
   "metadata": {},
   "outputs": [],
   "source": [
    "x = ten_funcs['test'].unique('method_body')"
   ]
  },
  {
   "cell_type": "code",
   "execution_count": null,
   "id": "c6df5539-e1f4-42a9-aab5-bcf145c05aeb",
   "metadata": {},
   "outputs": [],
   "source": [
    "x "
   ]
  },
  {
   "cell_type": "code",
   "execution_count": null,
   "id": "64f5911c-b53a-408a-b910-60dd615aba2d",
   "metadata": {},
   "outputs": [],
   "source": [
    "[(a, b) for idx, a in enumerate(test_list) for b in test_list[idx + 1:]]"
   ]
  },
  {
   "cell_type": "code",
   "execution_count": null,
   "id": "4ebabf0d-b98d-44b1-8297-7856e75eeb79",
   "metadata": {},
   "outputs": [],
   "source": [
    "google_compare_emb = func_compare_google.select(range(0,250)).map(calculate_embeddings, batched=True)"
   ]
  },
  {
   "cell_type": "code",
   "execution_count": null,
   "id": "d2d03a74-e41b-4f72-b460-f03e128271c5",
   "metadata": {},
   "outputs": [],
   "source": [
    "netty_compare_emb = func_compare_netty.map(calculate_embeddings, batched=True)"
   ]
  },
  {
   "cell_type": "code",
   "execution_count": null,
   "id": "7a1b22ef-ec1e-4e36-b9e5-0c57afde83fa",
   "metadata": {},
   "outputs": [],
   "source": [
    "func_CPI_google_emb = func_CPI_google.select(range(0,250)).map(calculate_embeddings, batched=True)"
   ]
  },
  {
   "cell_type": "markdown",
   "id": "091e7638",
   "metadata": {},
   "source": [
    "Sanity check that shapes match"
   ]
  },
  {
   "cell_type": "code",
   "execution_count": null,
   "id": "67ab36eb",
   "metadata": {},
   "outputs": [],
   "source": [
    "assert np.array(google_compare_emb['embedding']).shape[0] == np.array(netty_compare_emb['embedding']).shape[0]\n",
    "assert np.array(google_compare_emb['embedding']).shape[1] == np.array(netty_compare_emb['embedding']).shape[1]\n",
    "assert np.array(google_compare_emb['embedding']).shape[0] == minimum_funcs\n",
    "assert np.array(google_compare_emb['embedding']).shape[1] == tracebert_model.config.hidden_size"
   ]
  },
  {
   "cell_type": "markdown",
   "id": "6a348bb3",
   "metadata": {},
   "source": [
    "## Add embeddings to dataset and search"
   ]
  },
  {
   "cell_type": "markdown",
   "id": "c8ff1328",
   "metadata": {},
   "source": [
    "We start by selecting a more workable subset of the Google dataset"
   ]
  },
  {
   "cell_type": "code",
   "execution_count": null,
   "id": "fe9a6906",
   "metadata": {},
   "outputs": [],
   "source": [
    "ten_k_google = (\n",
    "                google_train_dataset_enc\n",
    "                .select(range(0,10000))\n",
    "                .map(\n",
    "                      calculate_embeddings,\n",
    "                      batched=True\n",
    "                    )\n",
    "                )"
   ]
  },
  {
   "cell_type": "code",
   "execution_count": null,
   "id": "cf9c9360-3b49-4a11-ab1d-026043826a0f",
   "metadata": {},
   "outputs": [],
   "source": [
    "ten_k_google = ten_k_google.map(lambda x: {'len': len(x['method_body']) })"
   ]
  },
  {
   "cell_type": "code",
   "execution_count": null,
   "id": "22caa94c-a8c6-4c08-a4f7-abb01ad98649",
   "metadata": {
    "tags": []
   },
   "outputs": [],
   "source": [
    "ten_k_google.filter(lambda x: x['len'] > 350 and x['method_name'] == 'compare')[0]"
   ]
  },
  {
   "cell_type": "code",
   "execution_count": null,
   "id": "d92137cc-ba58-4b6d-8ac5-f6dc51e766fe",
   "metadata": {},
   "outputs": [],
   "source": [
    "ten_k_google.load_faiss_index('index_flat_ip', 'ten_k_google_ip.faiss')"
   ]
  },
  {
   "cell_type": "code",
   "execution_count": null,
   "id": "4b1cd8cf-0a77-48f1-8610-053130cf7218",
   "metadata": {},
   "outputs": [],
   "source": [
    "ten_k_google.load_faiss_index('index_flat_l2', 'ten_k_google_l2.faiss')"
   ]
  },
  {
   "cell_type": "markdown",
   "id": "f44bed37",
   "metadata": {
    "slideshow": {
     "slide_type": "slide"
    },
    "tags": []
   },
   "source": [
    "We add a FAISS index to make this dataset searchable\n",
    "\n",
    "TODO: A custom index can/should be used to improve performance. There are many, many indexes to choose from and have complexity and space considerations, and exhaustion considerations. We can probably handle much, much more traces if we figure this out. Upfront compute is probably higher as well."
   ]
  },
  {
   "cell_type": "code",
   "execution_count": null,
   "id": "057a5606",
   "metadata": {
    "tags": []
   },
   "outputs": [],
   "source": [
    "# this is the DEFAULT config, seems to be flat index with IP metric\n",
    "# note there is a problem with this index: the vectors are supposed to be\n",
    "# normalized for inner product if we want to find cosine similarity\n",
    "ten_k_google.add_faiss_index(\n",
    "    column='embedding',\n",
    "    index_name='index_flat_ip',\n",
    "    #device=0, # GPU index\n",
    "    # passed to faiss.index_factory(), defaults to IndexFlatIP\n",
    "    string_factory='Flat',\n",
    "    metric_type=faiss.METRIC_INNER_PRODUCT, # or faiss.METRIC_INNER_PRODUCT\n",
    "    #custom_index= can specify a custom index object for more power\n",
    "    #train_size: Optional[int] = None,\n",
    "    faiss_verbose=True\n",
    ")"
   ]
  },
  {
   "cell_type": "code",
   "execution_count": null,
   "id": "ac1659e7",
   "metadata": {
    "tags": []
   },
   "outputs": [],
   "source": [
    "# let's add an index with L2 distance\n",
    "ten_k_google.add_faiss_index(\n",
    "    column='embedding',\n",
    "    index_name='index_flat_l2',\n",
    "    #device=0, # GPU index\n",
    "    string_factory='Flat',\n",
    "    metric_type=faiss.METRIC_L2,\n",
    "    #custom_index= can specify a custom index object for more power\n",
    "    #train_size: Optional[int] = None,\n",
    "    faiss_verbose=True\n",
    ")"
   ]
  },
  {
   "cell_type": "markdown",
   "id": "7eb857d3",
   "metadata": {},
   "source": [
    "Let's check if we can access our index directly..."
   ]
  },
  {
   "cell_type": "code",
   "execution_count": null,
   "id": "945104fc",
   "metadata": {},
   "outputs": [],
   "source": [
    "faiss_index = ten_k_google.get_index('index_flat_ip') # this should return a FAISS object\n",
    "faiss_index"
   ]
  },
  {
   "cell_type": "markdown",
   "id": "269c13ce",
   "metadata": {},
   "source": [
    "We save the index so that we don't have to recalculate next time"
   ]
  },
  {
   "cell_type": "code",
   "execution_count": null,
   "id": "2999b80a",
   "metadata": {},
   "outputs": [],
   "source": [
    "ten_k_google.save_faiss_index('index_flat_ip', 'ten_k_google_ip.faiss')\n",
    "ten_k_google.save_faiss_index('index_flat_l2', 'ten_k_google_l2.faiss')"
   ]
  },
  {
   "cell_type": "markdown",
   "id": "1c347f83",
   "metadata": {},
   "source": [
    "As a sanity check, we search for an example in the dataset/index and evaluate the top ten results"
   ]
  },
  {
   "cell_type": "code",
   "execution_count": null,
   "id": "489f3469-f1db-467b-9649-58e283685c1f",
   "metadata": {
    "tags": []
   },
   "outputs": [],
   "source": [
    "random_example_in = ten_k_google[np.random.randint(0, len(ten_k_google))]\n",
    "random_example_in"
   ]
  },
  {
   "cell_type": "code",
   "execution_count": null,
   "id": "64aab5b1-b958-4e95-989c-2c0df2ee3066",
   "metadata": {},
   "outputs": [],
   "source": [
    "np.array(random_example_in['embedding']).shape"
   ]
  },
  {
   "cell_type": "code",
   "execution_count": null,
   "id": "be981fb4",
   "metadata": {},
   "outputs": [],
   "source": [
    "scores, examples = ten_k_google.get_nearest_examples('index_flat_ip',\n",
    "                                  np.array(random_example_in['embedding']).astype('float32'),\n",
    "                                  k=10)"
   ]
  },
  {
   "cell_type": "code",
   "execution_count": null,
   "id": "b068797a-f871-4ad5-8607-5781af1a90d8",
   "metadata": {},
   "outputs": [],
   "source": [
    "random_example_in['text']"
   ]
  },
  {
   "cell_type": "code",
   "execution_count": null,
   "id": "3ff4f30d-8998-4b50-9297-39c32a68a5ac",
   "metadata": {},
   "outputs": [],
   "source": [
    "# so why are traces with the exact same 'text' not the same distance?"
   ]
  },
  {
   "cell_type": "code",
   "execution_count": null,
   "id": "b0d7fe22-fbdc-4deb-9115-8e21948226e2",
   "metadata": {},
   "outputs": [],
   "source": [
    "list(zip(scores, np.sqrt(scores), examples['text']))"
   ]
  },
  {
   "cell_type": "markdown",
   "id": "4cbc14c5",
   "metadata": {},
   "source": [
    "We then load one example not in the smaller dataset"
   ]
  },
  {
   "cell_type": "code",
   "execution_count": null,
   "id": "ecce019f-6d85-4135-82a8-b403fa1e6eba",
   "metadata": {},
   "outputs": [],
   "source": [
    "random_example_out = google_train_dataset_enc[np.random.randint(10000, len(google_train_dataset_enc))]"
   ]
  },
  {
   "cell_type": "code",
   "execution_count": null,
   "id": "5d920fcb-5237-4799-996a-247a3a916684",
   "metadata": {},
   "outputs": [],
   "source": [
    "random_example_out['embedding'] = np.array(calculate_embeddings({'input_ids': [random_example_out['input_ids']],\n",
    "                                                        'token_type_ids': [random_example_out['token_type_ids']],\n",
    "                                                        'attention_mask': [random_example_out['attention_mask']] })['embedding'])"
   ]
  },
  {
   "cell_type": "code",
   "execution_count": null,
   "id": "e5afc676",
   "metadata": {},
   "outputs": [],
   "source": [
    "# Sanity check on embedding dim\n",
    "assert random_example_out['embedding'].shape == (512,)\n",
    "random_example_out['embedding'].shape"
   ]
  },
  {
   "cell_type": "markdown",
   "id": "2daea4ab",
   "metadata": {},
   "source": [
    "We then search for the example outside of the dataset and evaluate the top 10 results"
   ]
  },
  {
   "cell_type": "code",
   "execution_count": null,
   "id": "d1389638",
   "metadata": {},
   "outputs": [],
   "source": [
    "# inner product\n",
    "scores, results = ten_k_google.get_nearest_examples('index_flat_ip', np.array(random_example_out['embedding']).astype('float32'), k=10)\n"
   ]
  },
  {
   "cell_type": "code",
   "execution_count": null,
   "id": "da7907dd-b3b6-46e9-a86d-58519548aec9",
   "metadata": {},
   "outputs": [],
   "source": [
    "random_example_out['func_name']"
   ]
  },
  {
   "cell_type": "code",
   "execution_count": null,
   "id": "9a498141-c8fc-4311-9ee3-8da1b2cf3637",
   "metadata": {},
   "outputs": [],
   "source": [
    "list(zip(scores, examples['func_name']))"
   ]
  },
  {
   "cell_type": "code",
   "execution_count": null,
   "id": "cc27793a",
   "metadata": {},
   "outputs": [],
   "source": [
    "# l2\n",
    "ten_k_google.get_nearest_examples('ten_k_google_l2', np.array(random_example_out['embedding']).astype('float32'), k=3)\n"
   ]
  },
  {
   "cell_type": "code",
   "execution_count": null,
   "id": "b780a139",
   "metadata": {},
   "outputs": [],
   "source": [
    "# l2 search/distance\n",
    "distance, index = ten_k_google.get_index('index_flat_l2').search(np.array(random_example_out['embedding']).astype('float32'), k=3)\n",
    "print(f\"Distance by FAISS: {np.sqrt(distance)}, index: {index}\")"
   ]
  },
  {
   "cell_type": "markdown",
   "id": "6714b966",
   "metadata": {},
   "source": [
    "#### Cosine similarity index + search"
   ]
  },
  {
   "cell_type": "markdown",
   "id": "f08d635d",
   "metadata": {},
   "source": [
    "Let's create a new index so we can calculate cosine similarity"
   ]
  },
  {
   "cell_type": "code",
   "execution_count": null,
   "id": "a2f860ea",
   "metadata": {},
   "outputs": [],
   "source": [
    "random_example_emb = np.array(random_example_out['embedding']).astype('float32')\n",
    "#x = np.array([random_example_emb])#.astype(np.float32)\n",
    "#q = np.array([random_example_emb])#.astype(np.float32)\n",
    "faiss_l2_index = faiss.index_factory(512, \"Flat\", faiss.METRIC_L2)"
   ]
  },
  {
   "cell_type": "markdown",
   "id": "d02804e0",
   "metadata": {},
   "source": [
    "For cosine similarity, we *must* normalize the index vectors and the search vectors"
   ]
  },
  {
   "cell_type": "code",
   "execution_count": null,
   "id": "de847ddc",
   "metadata": {},
   "outputs": [],
   "source": [
    "ten_k_emb_norm = np.array(ten_k_google['embedding']).astype('float32')\n",
    "random_example_emb_in = np.array([random_example_in['embedding']]).astype('float32')\n",
    "faiss.normalize_L2(ten_k_emb_norm) # must normalize ALL vectors for this index\n",
    "faiss_l2_index.train(ten_k_emb_norm)\n",
    "# faiss.normalize_L2(random_example_emb)\n",
    "faiss_l2_index.add(ten_k_emb_norm)"
   ]
  },
  {
   "cell_type": "markdown",
   "id": "f2055301",
   "metadata": {},
   "source": [
    "Sanity check:"
   ]
  },
  {
   "cell_type": "code",
   "execution_count": null,
   "id": "abb36b99",
   "metadata": {},
   "outputs": [],
   "source": [
    "faiss_l2_index.is_trained"
   ]
  },
  {
   "cell_type": "code",
   "execution_count": null,
   "id": "7498d6e4",
   "metadata": {},
   "outputs": [],
   "source": [
    "faiss_l2_index.ntotal # should be one\n",
    "#faiss_l2_index.train(training_vectors)\n",
    "faiss_l2_index.add(random_example_emb)\n",
    "distance, index = faiss_l2_index.search(random_example_emb, 1)\n",
    "print(f\"Distance by FAISS: {np.sqrt(distance)}, index: {index}\")"
   ]
  },
  {
   "cell_type": "code",
   "execution_count": null,
   "id": "47512906",
   "metadata": {},
   "outputs": [],
   "source": [
    "distance, index = faiss_inner_prod_index.search(random_example_emb, 1)\n",
    "print(f\"Distance by FAISS: {distance}, index: {index}\")"
   ]
  },
  {
   "cell_type": "code",
   "execution_count": null,
   "id": "8e0df349",
   "metadata": {},
   "outputs": [],
   "source": [
    "# calculate cosine similarity\n",
    "from scipy import spatial, stats"
   ]
  },
  {
   "cell_type": "code",
   "execution_count": null,
   "id": "7dcf2f9a",
   "metadata": {},
   "outputs": [],
   "source": [
    "result = 1 - spatial.distance.cosine(ten_k_emb_norm[index[0]], random_example_emb)\n",
    "print(f\"Distance by scipy: {result}\")"
   ]
  },
  {
   "cell_type": "code",
   "execution_count": null,
   "id": "c35ce9a2-fe69-41bc-ab10-90546a10b6dc",
   "metadata": {},
   "outputs": [],
   "source": [
    "np.array(google_compare_emb['embedding']).shape"
   ]
  },
  {
   "cell_type": "code",
   "execution_count": null,
   "id": "d8380f28-c7a8-4872-9467-9e28a4e83164",
   "metadata": {
    "tags": []
   },
   "outputs": [],
   "source": [
    "np.linspace(0, 1, np.array(google_compare_emb['embedding']).shape[0])"
   ]
  },
  {
   "cell_type": "code",
   "execution_count": null,
   "id": "4ec55908-3f4e-4c0d-bb1d-a213c300b6b2",
   "metadata": {},
   "outputs": [],
   "source": [
    "import pandas as pd"
   ]
  },
  {
   "cell_type": "code",
   "execution_count": null,
   "id": "fac11c77-2a72-43e5-8ab9-70070348ad3b",
   "metadata": {},
   "outputs": [],
   "source": [
    "ax1 = np.linalg.norm(np.array(google_compare_emb['embedding'][:125])-np.array(func_CPI_google_emb['embedding'][125:250]), axis=1)"
   ]
  },
  {
   "cell_type": "code",
   "execution_count": null,
   "id": "3109856a-06e4-4b66-9821-4eea4f765f11",
   "metadata": {},
   "outputs": [],
   "source": [
    "ax2 = np.linalg.norm(np.array(google_compare_emb['embedding'][:125]),axis=1) - np.linalg.norm(np.array(func_CPI_google_emb['embedding'][125:250]),axis=1)"
   ]
  },
  {
   "cell_type": "code",
   "execution_count": null,
   "id": "2ee460a9-56e4-4fdc-8834-7f8aa0120d50",
   "metadata": {},
   "outputs": [],
   "source": [
    "ax2 = np.linalg.norm(np.array(google_compare_emb['embedding'][:125]),axis=1) - np.linalg.norm(np.array(func_CPI_google_emb['embedding'][125:250]),axis=1)\n",
    "pd.DataFrame(ax2).hist(grid=False,\n",
    "       figsize=(10, 6),\n",
    "       )\n",
    "stats.ttest_rel(ax1, ax2)"
   ]
  },
  {
   "cell_type": "code",
   "execution_count": null,
   "id": "b2312298-0ae5-4218-bc95-78a88e4bb4cc",
   "metadata": {},
   "outputs": [],
   "source": [
    "stats.ttest_rel(ax1, ax2)"
   ]
  },
  {
   "cell_type": "code",
   "execution_count": null,
   "id": "eaaab879-00d6-4c3b-a369-b24b0e04d005",
   "metadata": {},
   "outputs": [],
   "source": [
    "ax1 = np.linalg.norm(np.array(google_compare_emb['embedding'][:125])-np.array(func_CPI_google_emb['embedding'][125:250]), axis=1)"
   ]
  },
  {
   "cell_type": "code",
   "execution_count": null,
   "id": "3ec40252-5ee3-4453-885d-89ae5dd065a2",
   "metadata": {},
   "outputs": [],
   "source": [
    "ax2 = np.linalg.norm(np.array(google_compare_emb['embedding'][:125]),axis=1) - np.linalg.norm(np.array(func_CPI_google_emb['embedding'][125:250]),axis=1)"
   ]
  },
  {
   "cell_type": "code",
   "execution_count": null,
   "id": "5a210f70-2bde-4a8b-b81b-8be00c014d9b",
   "metadata": {},
   "outputs": [],
   "source": [
    "stats.ttest_rel(ax1, ax2)"
   ]
  },
  {
   "cell_type": "code",
   "execution_count": null,
   "id": "77f00972-4062-401b-8314-721dba09a2c7",
   "metadata": {
    "tags": []
   },
   "outputs": [],
   "source": [
    "np.linalg.norm(np.array(func_CPI_google_emb['embedding'][125:250]),axis=1)"
   ]
  },
  {
   "cell_type": "code",
   "execution_count": null,
   "id": "864a297f-75c2-4aae-b22e-b8b551de4ff0",
   "metadata": {},
   "outputs": [],
   "source": [
    "np.mean(np.linalg.norm(np.array(func_CPI_google_emb['embedding'][125:250]),axis=1))"
   ]
  },
  {
   "cell_type": "code",
   "execution_count": null,
   "id": "6a05e7a1-b02e-4e30-9050-f3396da1bf91",
   "metadata": {},
   "outputs": [],
   "source": [
    "np.mean(np.linalg.norm(np.array(google_compare_emb['embedding'][:125]),axis=1))"
   ]
  },
  {
   "cell_type": "code",
   "execution_count": null,
   "id": "dc20b6a2-2b9a-4155-833e-bb2fd5e0b5ad",
   "metadata": {
    "tags": []
   },
   "outputs": [],
   "source": [
    "np.linalg.norm(np.array(google_compare_emb['embedding'][:250])-np.array(func_CPI_google_emb['embedding'][:250]),axis=1)"
   ]
  },
  {
   "cell_type": "code",
   "execution_count": null,
   "id": "651c1386-3307-431e-96b7-8f906f77a39e",
   "metadata": {
    "tags": []
   },
   "outputs": [],
   "source": [
    "np.array(func_CPI_google_emb['embedding'][:125])"
   ]
  },
  {
   "cell_type": "code",
   "execution_count": null,
   "id": "a63f79d8-1a5c-4f90-a3e6-77348e1d636b",
   "metadata": {
    "tags": []
   },
   "outputs": [],
   "source": [
    "np.array(func_CPI_google_emb['embedding'][125:250])"
   ]
  },
  {
   "cell_type": "code",
   "execution_count": null,
   "id": "f8b9b97e-65af-4e38-bb3d-fe7695155c2d",
   "metadata": {
    "tags": []
   },
   "outputs": [],
   "source": [
    "np.array(google_compare_emb['embedding'][:125])-np.array(func_CPI_google_emb['embedding'][:125])"
   ]
  },
  {
   "cell_type": "code",
   "execution_count": null,
   "id": "3926053f-9c83-4bc4-9fbe-1c1c2a2f659e",
   "metadata": {
    "tags": []
   },
   "outputs": [],
   "source": [
    "np.linalg.norm(np.array(google_compare_emb['embedding'][:125])-np.array(func_CPI_google_emb['embedding'][:125]),axis=1)"
   ]
  },
  {
   "cell_type": "markdown",
   "id": "0eed7805",
   "metadata": {},
   "source": [
    "## t Test"
   ]
  },
  {
   "cell_type": "code",
   "execution_count": null,
   "id": "91d81145-ab9c-4465-b85d-b6f7c1416272",
   "metadata": {},
   "outputs": [],
   "source": [
    "np.array(google_compare_emb['embedding'][:50])"
   ]
  },
  {
   "cell_type": "code",
   "execution_count": null,
   "id": "6c22e098-b587-4463-a345-064cbcbf27a3",
   "metadata": {},
   "outputs": [],
   "source": [
    "np.linalg.norm(np.array(google_compare_emb['embedding'][:125])-np.array(google_compare_emb['embedding'][125:250]))"
   ]
  },
  {
   "cell_type": "code",
   "execution_count": null,
   "id": "8808e12c-a041-4ef2-a89b-c799dfdb3ac3",
   "metadata": {},
   "outputs": [],
   "source": [
    "np.linalg.norm(np.array(google_compare_emb['embedding'][:250])-np.array(func_CPI_google_emb['embedding'][:250]))"
   ]
  },
  {
   "cell_type": "code",
   "execution_count": null,
   "id": "2102061b",
   "metadata": {},
   "outputs": [],
   "source": [
    "a = np.linalg.norm(np.array(google_compare_emb['embedding'][:125])-np.array(google_compare_emb['embedding'][125:250]), axis=1)\n",
    "b = np.linalg.norm(np.array(google_compare_emb['embedding'][125:250])-np.array(func_CPI_google_emb['embedding'][:125]), axis=1)\n",
    "t, p = stats.ttest_rel(a, b)\n",
    "(t, p)"
   ]
  },
  {
   "cell_type": "markdown",
   "id": "9b33a038",
   "metadata": {},
   "source": [
    "# tSNE: Are the embeddings really capturing something useful?"
   ]
  },
  {
   "cell_type": "code",
   "execution_count": 386,
   "id": "847292ac",
   "metadata": {},
   "outputs": [],
   "source": [
    "from MulticoreTSNE import MulticoreTSNE as TSNE\n",
    "#from tsnecuda import TSNE # pkg: tsnecuda\n",
    "from matplotlib import cm\n",
    "import matplotlib"
   ]
  },
  {
   "cell_type": "code",
   "execution_count": 405,
   "id": "ff59480b",
   "metadata": {},
   "outputs": [],
   "source": [
    "def draw_tsne(embeddings, colors):\n",
    "    fig = matplotlib.pyplot.gcf()\n",
    "    fig.set_size_inches(18.5, 10.5)\n",
    "    embeddings_tsne = TSNE(n_jobs=16).fit_transform(embeddings)\n",
    "    vis_x_cb = embeddings_tsne[:, 0]\n",
    "    vis_y_cb = embeddings_tsne[:, 1]\n",
    "    fig = plt.figure(figsize=(36,24))\n",
    "    ax = fig.add_subplot(111)\n",
    "    ax.scatter(vis_x_cb, vis_y_cb, c=colors, marker='.')\n",
    "    ax.set_aspect('equal', adjustable='datalim')\n",
    "    plt.show()"
   ]
  },
  {
   "cell_type": "code",
   "execution_count": null,
   "id": "7e6d1e7a-de3c-4377-baa1-6ce8fcebbf99",
   "metadata": {},
   "outputs": [],
   "source": [
    "np.concatenate([np.array(netty_compare_emb['embedding']), np.array(google_compare_emb['embedding'])]).shape"
   ]
  },
  {
   "cell_type": "code",
   "execution_count": null,
   "id": "ce329de2",
   "metadata": {},
   "outputs": [],
   "source": [
    "draw_tsne(\n",
    "    np.concatenate([np.array(netty_compare_emb['embedding']), np.array(google_compare_emb['embedding'])]),\n",
    "    cm.rainbow(np.concatenate((np.zeros(netty_compare_emb.shape[0]), np.ones(google_compare_emb.shape[0]))))\n",
    ")"
   ]
  },
  {
   "cell_type": "code",
   "execution_count": 388,
   "id": "29a8d387-8ca7-44f7-97e0-3e53b0dcbd4b",
   "metadata": {},
   "outputs": [
    {
     "data": {
      "text/plain": [
       "(6072, 512)"
      ]
     },
     "execution_count": 388,
     "metadata": {},
     "output_type": "execute_result"
    }
   ],
   "source": [
    "np.concatenate([np.array(value['embedding']) for (key,value) in ten_funcs.items()]).shape"
   ]
  },
  {
   "cell_type": "code",
   "execution_count": 394,
   "id": "fe76c6de-7b2c-4819-b508-fa5701d27e5f",
   "metadata": {},
   "outputs": [
    {
     "data": {
      "application/vnd.jupyter.widget-view+json": {
       "model_id": "d63c01db66474f7c894660b8a46009ad",
       "version_major": 2,
       "version_minor": 0
      },
      "text/plain": [
       "  0%|          | 0/10 [00:00<?, ?it/s]"
      ]
     },
     "metadata": {},
     "output_type": "display_data"
    },
    {
     "data": {
      "text/plain": [
       "array([0, 0, 0, ..., 9, 9, 9])"
      ]
     },
     "execution_count": 394,
     "metadata": {},
     "output_type": "execute_result"
    }
   ],
   "source": [
    "color_indices = []\n",
    "j = 0\n",
    "for key,value in tqdm(ten_funcs.items()):\n",
    "    color_indices.extend([j for k in range(len(value))])\n",
    "    j += 1\n",
    "np.array(color_indices)"
   ]
  },
  {
   "cell_type": "code",
   "execution_count": 404,
   "id": "ae4709a5-8e4a-4a66-92bf-bee3968e26d0",
   "metadata": {},
   "outputs": [
    {
     "data": {
      "text/plain": [
       "(6072,)"
      ]
     },
     "execution_count": 404,
     "metadata": {},
     "output_type": "execute_result"
    }
   ],
   "source": [
    "np.array(color_indices).shape"
   ]
  },
  {
   "cell_type": "code",
   "execution_count": 406,
   "id": "0c821a60-571a-4828-a417-d4a65d9585f4",
   "metadata": {},
   "outputs": [
    {
     "data": {
      "text/plain": [
       "<Figure size 1332x756 with 0 Axes>"
      ]
     },
     "metadata": {},
     "output_type": "display_data"
    },
    {
     "data": {
      "image/png": "[encoded data removed]",
      "text/plain": [
       "<Figure size 2592x1728 with 1 Axes>"
      ]
     },
     "metadata": {
      "needs_background": "light"
     },
     "output_type": "display_data"
    }
   ],
   "source": [
    "draw_tsne(\n",
    "    np.concatenate([np.array(value['embedding']) for (key,value) in ten_funcs.items()]),\n",
    "    np.array(color_indices)\n",
    ")"
   ]
  },
  {
   "cell_type": "code",
   "execution_count": 407,
   "id": "7b1cfddb-8256-4155-bbf0-f558da67704e",
   "metadata": {},
   "outputs": [
    {
     "data": {
      "text/plain": [
       "<Figure size 1332x756 with 0 Axes>"
      ]
     },
     "metadata": {},
     "output_type": "display_data"
    }
   ],
   "source": [
    "fig = matplotlib.pyplot.gcf()\n",
    "fig.set_size_inches(18.5, 10.5)\n",
    "embeddings_tsne = TSNE(n_jobs=16).fit_transform(np.concatenate([np.array(value['embedding']) for (key,value) in ten_funcs.items()]))\n",
    "vis_x_cb = embeddings_tsne[:, 0]\n",
    "vis_y_cb = embeddings_tsne[:, 1]"
   ]
  },
  {
   "cell_type": "code",
   "execution_count": 418,
   "id": "af10899d-4546-4a9d-9953-bdb3476240f9",
   "metadata": {},
   "outputs": [],
   "source": [
    "def reject_outliers(data, m=2):\n",
    "    return data[abs(data - np.mean(data)) < m * np.std(data)]"
   ]
  },
  {
   "cell_type": "code",
   "execution_count": 419,
   "id": "d8dcca16-35cf-45fb-b67a-657c86f6d851",
   "metadata": {},
   "outputs": [
    {
     "data": {
      "application/vnd.jupyter.widget-view+json": {
       "model_id": "9259bcc7c6ed488a9b54b38b1f488dfb",
       "version_major": 2,
       "version_minor": 0
      },
      "text/plain": [
       "  0%|          | 0/10 [00:00<?, ?it/s]"
      ]
     },
     "metadata": {},
     "output_type": "display_data"
    },
    {
     "data": {
      "text/plain": [
       "array({'test': [14.042239563819784, -17.22681932891949], 'appendTo': [-19.702780888061902, 28.80548964431794], 'repeat': [7.755993815579448, -1.2687331454973425], 'toString': [7.240084970353981, -8.10494877904555], 'testItems': [15.488890170161092, 2.1581688152981315], 'getInjectionPoints': [0.06951852096895174, -14.294558103395081], 'compare': [-1.7394039913004045, 5.868466555601717], 'capitalize': [41.174447882483854, 3.837310377272883], 'toStringHelper': [-11.795246056317326, 0.42077471081978907], 'parse': [-27.506340105181437, 19.09373375885983]},\n",
       "      dtype=object)"
      ]
     },
     "execution_count": 419,
     "metadata": {},
     "output_type": "execute_result"
    }
   ],
   "source": [
    "cluster_centers = {}\n",
    "offset = 0\n",
    "for key,value in tqdm(ten_funcs.items()):\n",
    "    setlength = len(value)\n",
    "    cluster_centers[key] = [np.mean(reject_outliers(embeddings_tsne[offset:offset+setlength, 0])), np.mean(reject_outliers(embeddings_tsne[offset:offset+setlength, 1]))]\n",
    "    offset += setlength\n",
    "np.array(cluster_centers)"
   ]
  },
  {
   "cell_type": "code",
   "execution_count": 413,
   "id": "bef7be61-3a5c-40c7-9a13-5517b07c5850",
   "metadata": {},
   "outputs": [
    {
     "data": {
      "text/plain": [
       "(6072, 2)"
      ]
     },
     "execution_count": 413,
     "metadata": {},
     "output_type": "execute_result"
    }
   ],
   "source": [
    "embeddings_tsne.shape"
   ]
  },
  {
   "cell_type": "code",
   "execution_count": 431,
   "id": "c0f26a78-7643-41a5-a28c-cb67ed8cf018",
   "metadata": {},
   "outputs": [
    {
     "data": {
      "image/png": "[encoded data removed]",
      "text/plain": [
       "<Figure size 1440x1152 with 1 Axes>"
      ]
     },
     "metadata": {
      "needs_background": "light"
     },
     "output_type": "display_data"
    }
   ],
   "source": [
    "fig = plt.figure(figsize=(20,16))\n",
    "ax = fig.add_subplot(111)\n",
    "ax.scatter(vis_x_cb, vis_y_cb, c=np.array(color_indices), marker='.', cmap='tab10')\n",
    "for key,cluster in cluster_centers.items():\n",
    "    ax.text(cluster[0], cluster[1], key)\n",
    "ax.set_aspect('equal', adjustable='datalim')\n",
    "plt.savefig('tsne_labeled.pdf')\n",
    "plt.show()"
   ]
  },
  {
   "cell_type": "code",
   "execution_count": 416,
   "id": "9b86bde0",
   "metadata": {
    "tags": []
   },
   "outputs": [
    {
     "data": {
      "text/plain": [
       "<Figure size 1332x756 with 0 Axes>"
      ]
     },
     "metadata": {},
     "output_type": "display_data"
    },
    {
     "data": {
      "image/png": "[encoded data removed]",
      "text/plain": [
       "<Figure size 2592x1728 with 1 Axes>"
      ]
     },
     "metadata": {
      "needs_background": "light"
     },
     "output_type": "display_data"
    }
   ],
   "source": [
    "draw_tsne(\n",
    "    np.concatenate([np.concatenate([np.array(google_compare_emb['embedding']), np.array(func_CPI_google_emb['embedding'])])]),\n",
    "    cm.rainbow(np.concatenate((np.zeros(google_compare_emb.shape[0]), np.ones(func_CPI_google_emb.shape[0]))))\n",
    ")"
   ]
  },
  {
   "cell_type": "code",
   "execution_count": 426,
   "id": "2750d15f-6239-454e-8462-5202933672f4",
   "metadata": {},
   "outputs": [],
   "source": [
    "ten_k_emb = np.unique(np.array(ten_k_google['embedding']), axis=0)"
   ]
  },
  {
   "cell_type": "code",
   "execution_count": 429,
   "id": "3a5e3455-0b70-4b73-8aab-fd8ed2b9c09e",
   "metadata": {},
   "outputs": [
    {
     "data": {
      "text/plain": [
       "<Figure size 1332x756 with 0 Axes>"
      ]
     },
     "metadata": {},
     "output_type": "display_data"
    },
    {
     "data": {
      "image/png": "[encoded data removed]",
      "text/plain": [
       "<Figure size 2592x1728 with 1 Axes>"
      ]
     },
     "metadata": {
      "needs_background": "light"
     },
     "output_type": "display_data"
    }
   ],
   "source": [
    "draw_tsne(\n",
    "    ten_k_emb,\n",
    "    cm.rainbow(np.linspace(0, 1, ten_k_emb.shape[0])) # what /exactly/ do the colors represent?\n",
    ")"
   ]
  },
  {
   "cell_type": "markdown",
   "id": "f758f027",
   "metadata": {},
   "source": [
    "# Does our model return something useful when asked to fill a mask?"
   ]
  },
  {
   "cell_type": "code",
   "execution_count": null,
   "id": "926af0b4",
   "metadata": {},
   "outputs": [],
   "source": [
    "from transformers import pipeline\n",
    "from pprint import pprint\n",
    "\n",
    "unmasker = pipeline(\n",
    "    \"fill-mask\",\n",
    "    model=tracebert_model,\n",
    "    tokenizer=fast_tokenizer\n",
    ")"
   ]
  },
  {
   "cell_type": "code",
   "execution_count": null,
   "id": "e0427087-34e4-497b-858d-dc3740a3317d",
   "metadata": {},
   "outputs": [],
   "source": [
    "pprint(\n",
    "    unmasker((\n",
    "        \"setSuccessorInMultimap \"\n",
    "        \"[ENTRY] void com.google.common.collect.LinkedHashMultimap$ValueEntry \"\n",
    "        f\"{unmasker.tokenizer.mask_token} \"\n",
    "        \"[EXIT]\"\n",
    "    )))"
   ]
  },
  {
   "cell_type": "code",
   "execution_count": null,
   "id": "89053a12-1153-4061-9a17-6c2e77b06bd7",
   "metadata": {},
   "outputs": [],
   "source": [
    "pprint(\n",
    "    unmasker((\n",
    "        f\"{unmasker.tokenizer.mask_token} \"\n",
    "        \"[ENTRY] void com.google.common.collect.LinkedHashMultimap$ValueEntry \"\n",
    "        \"[EXIT]\"\n",
    "    ))\n",
    ")"
   ]
  },
  {
   "cell_type": "markdown",
   "id": "6877e403",
   "metadata": {},
   "source": [
    "# Misc leftovers"
   ]
  },
  {
   "cell_type": "markdown",
   "id": "636ea1e6",
   "metadata": {},
   "source": [
    "#### L2 distance index + search"
   ]
  },
  {
   "cell_type": "code",
   "execution_count": null,
   "id": "491f97c4",
   "metadata": {},
   "outputs": [],
   "source": [
    "random_example_emb = random_example_out['embedding']\n",
    "#x = np.array([random_example_emb])#.astype(np.float32)\n",
    "#q = np.array([random_example_emb])#.astype(np.float32)\n",
    "faiss_l2_index = faiss.index_factory(512, \"Flat\", faiss.METRIC_L2)"
   ]
  },
  {
   "cell_type": "code",
   "execution_count": null,
   "id": "8f470ed1",
   "metadata": {},
   "outputs": [],
   "source": [
    "faiss_l2_index.is_trained"
   ]
  },
  {
   "cell_type": "code",
   "execution_count": null,
   "id": "d879032f",
   "metadata": {},
   "outputs": [],
   "source": [
    "faiss_l2_index.ntotal # should be one\n",
    "#faiss_l2_index.train(training_vectors)\n",
    "faiss_l2_index.add(random_example_emb)\n",
    "distance, index = faiss_l2_index.search(random_example_emb, 1)\n",
    "print(f\"Distance by FAISS: {np.sqrt(distance)}, index: {index}\")"
   ]
  },
  {
   "cell_type": "code",
   "execution_count": null,
   "id": "3742f48d",
   "metadata": {},
   "outputs": [],
   "source": [
    "ds_with_embeddings = encoded_dataset_test.map(lambda example:\n",
    "                            {'embeddings': np.array([0])})\n",
    "                             #bertmodel(**fast_tokenizer(example[\"text\"], max_length = 512, truncation=True, padding=True, return_tensors=\"pt\")).hidden_states[-1][0].numpy()},\n",
    "                                      #  batched=True)\n",
    "\n",
    "# ds_with_embeddings = encoded_dataset_train.map(lambda example:\n",
    "#                             {'embeddings': \n",
    "#                              bertmodel(**{'attention_mask': torch.tensor(example['attention_mask']),\n",
    "#                                          'input_ids': torch.tensor(example['input_ids']),\n",
    "#                                          'token_type_ids': torch.tensor(example['token_type_ids'])})[0].numpy()},\n",
    "#                                         batched=True)\n",
    "\n",
    "#    e = np.save(\"google_ex\", bertmodel(**fast_tokenizer(ten_k_google.select(range(0,222))[\"text\"],\n",
    "#                                  max_length = 512, truncation=True, padding=True, return_tensors=\"pt\",\n",
    "#                                  )).hidden_states[-1].detach().numpy())\n",
    "# print(e.shape)\n",
    "\n",
    "    \n",
    "    bertmodel(**fast_tokenizer(ten_examples_google[\"text\"],\n",
    "                                   max_length = 512, truncation=True, padding=True, return_tensors=\"pt\",\n",
    "                                  )).hidden_states[-1].shape\n",
    "\n",
    " netty = np.save(\"netty_ex\", bertmodel(**fast_tokenizer(ten_k_netty[\"text\"],\n",
    "  max_length = 512, truncation=True, padding=True, return_tensors=\"pt\"\n",
    " )).hidden_states[-1].detach().numpy())\n",
    "index = faiss.IndexFlatL2(512)   # build the index\n",
    "print(index.is_trained)\n",
    "index.search(hidden_states.detach().numpy(),k=1)\n",
    "from torch.nn import functional as F\n",
    "import torch\n",
    "#subset = \n",
    "smaller_dataset = encoded_dataset_test.shard(num_shards=4000, index=0)\n",
    "text = \"The capital of France, \" + fast_tokenizer.mask_token + \",contains the Eiffel Tower.\"\n",
    "input = fast_tokenizer.encode_plus(text, return_tensors = \"pt\").to(\"cuda\")\n",
    "mask_index = torch.where(input[\"input_ids\"][0] == fast_tokenizer.mask_token_id)\n",
    "logits = model(**input)\n",
    "logits = logits.logits\n",
    "softmax = F.softmax(logits, dim = -1)\n",
    "mask_word = softmax[0, mask_index, :]\n",
    "top_word = torch.argmax(mask_word, dim=1)\n",
    "print(fast_tokenizer.decode(top_word))\n",
    "\n",
    "softmax = F.softmax(logits, dim = -1)\n",
    "mask_word = softmax[0, mask_index, :]\n",
    "top_10 = torch.topk(mask_word, 10, dim = 1)[1][0]\n",
    "for token in top_10:\n",
    "   word = fast_tokenizer.decode([token])\n",
    "   new_sentence = text.replace(fast_tokenizer.mask_token, word)\n",
    "   print(new_sentence)\n",
    "smaller_dataset\n",
    "trainer_eval = trainer.evaluate(smaller_dataset, metric_key_prefix='no')\n",
    "\n",
    "print(trainer_eval)\n",
    "metrics = train_result.metrics\n",
    "print(metrics)\n",
    "#trainer.log_metrics(\"train\", compute_metrics)\n",
    "#trainer.save_metrics(\"train\", compute_metrics)\n",
    "#trainer.save_state()\n",
    "\n",
    "print(metric.inputs_description)\n",
    "model_predictions = model(smaller_dataset)\n",
    "final_score = metric.compute(predictions=model_predictions, references=gold_references)"
   ]
  },
  {
   "cell_type": "code",
   "execution_count": null,
   "id": "ea634d09",
   "metadata": {},
   "outputs": [],
   "source": [
    "test_input = fast_tokenizer([\"performExpensiveLogSetup [ENTRY] void [CALL] java.io.PrintStream println java.lang.String void [EXIT] [CALL] java.lang.Math pow double|double double [CALL] java.lang.Math sqrt double double [CALL] java.io.PrintStream println java.lang.String void [EXIT]\", \"[EXIT]\", \"\"], max_length = 512, truncation=True, padding=True, return_tensors=\"pt\")\n",
    "#fast_tokenizer.encode(\"performExpensiveLogSetup [ENTRY] void [CALL] java.io.PrintStream println java.lang.String void [EXIT] [CALL] java.lang.Math pow double|double double [CALL] java.lang.Math sqrt double double [CALL] java.io.PrintStream println java.lang.String void [EXIT]\", max_length = 512, truncation=True, padding=True, return_tensors=\"pt\")\n",
    "hidden_states = bertmodel(**test_input).hidden_states\n",
    "\n",
    "last_four_layers = [hidden_states[i] for i in (-1, -2, -3, -4)]\n",
    "# cast layers to a tuple and concatenate over the last dimension\n",
    "cat_hidden_states = torch.cat(tuple(last_four_layers), dim=-1)\n",
    "print(cat_hidden_states.size())\n",
    "\n",
    "# take the mean of the concatenated vector over the token dimension\n",
    "cat_sentence_embedding = torch.mean(cat_hidden_states, dim=1).squeeze()\n",
    "print(cat_sentence_embedding.size())\n",
    "bertmodel(**fast_tokenizer(\"performExpensiveLogSetup [ENTRY] void [CALL] java.io.PrintStream println java.lang.String void [EXIT] [CALL] java.lang.Math pow double|double double [CALL] java.lang.Math sqrt double double [CALL] java.io.PrintStream println java.lang.String void [EXIT]\", max_length = 512, truncation=True, padding=True, return_tensors=\"pt\"))[1][0].numpy().shape\n",
    "inputs = {\n",
    "    \"input_ids\": encoded_dataset_test[0],\n",
    "   #\"attention_mask\": batch[1]\n",
    "}\n",
    "input_sentence = torch.tensor(fast_tokenizer.encode(\"performExpensiveLogSetup [ENTRY] void [CALL] java.io.PrintStream println java.lang.String void [EXIT] [CALL] java.lang.Math pow double|double double [CALL] java.lang.Math sqrt double double [CALL] java.io.PrintStream println java.lang.String void [EXIT]\", max_length = 512, truncation=True, padding=True)).unsqueeze(0)\n",
    "output = bertmodel(input_sentence)\n",
    "logits = output[0]\n",
    "hidden_states = output[1]"
   ]
  },
  {
   "cell_type": "code",
   "execution_count": null,
   "id": "3f635831",
   "metadata": {},
   "outputs": [],
   "source": [
    "#assert both_embeddings.shape == (444, 512)"
   ]
  },
  {
   "cell_type": "code",
   "execution_count": null,
   "id": "61101e49",
   "metadata": {},
   "outputs": [],
   "source": [
    "#colors = cm.rainbow(np.linspace(0, 1, len(both_embeddings)))\n",
    "colors = cm.rainbow(np.concatenate((np.zeros(222), np.ones(222)))) # TODO"
   ]
  },
  {
   "cell_type": "code",
   "execution_count": null,
   "id": "4e6414bc",
   "metadata": {},
   "outputs": [],
   "source": [
    "embeddings_tsne = TSNE(n_jobs=16).fit_transform(both_embeddings)"
   ]
  },
  {
   "cell_type": "markdown",
   "id": "a275bada",
   "metadata": {},
   "source": [
    "point_of_interest = [46,27] # what are these?\n",
    "\n",
    "def find_idx(e):\n",
    "    return np.linalg.norm(point_of_interest-e)\n",
    "\n",
    "def get_idx(e):\n",
    "    return np.argsort(np.linalg.norm(point_of_interest-e, axis=1))\n",
    "\n",
    "points = 100\n",
    "test_embeddings = sorted(embeddings_tsne, key=find_idx)\n",
    "test_points = np.array(test_embeddings)\n",
    "center = test_points[0:points].mean(axis=0)\n",
    "width = np.linalg.norm(point_of_interest-test_points[0:points][-1], axis=-1)\n",
    "test_embedding_indexs = get_idx(np.array(embeddings_tsne))[:points]\n",
    "equivalent_points = np.array(embeddings_tsne)[test_embedding_indexs]\n",
    "center = equivalent_points.mean(axis=0)\n",
    "cir = plt.Circle(center, width, color='r', fill=False)"
   ]
  },
  {
   "cell_type": "code",
   "execution_count": null,
   "id": "37880e4c",
   "metadata": {},
   "outputs": [],
   "source": [
    "vis_x_cb = embeddings_tsne[:, 0]\n",
    "vis_y_cb = embeddings_tsne[:, 1]"
   ]
  },
  {
   "cell_type": "code",
   "execution_count": null,
   "id": "e0a3a7fd",
   "metadata": {},
   "outputs": [],
   "source": [
    "fig = plt.figure(figsize=(36,24))\n",
    "ax = fig.add_subplot(111)\n",
    "ax.scatter(vis_x_cb, vis_y_cb, color=colors, marker='.')\n",
    "ax.set_aspect('equal', adjustable='datalim')\n",
    "#ax.add_patch(cir)\n",
    "plt.show()"
   ]
  },
  {
   "cell_type": "code",
   "execution_count": null,
   "id": "6f31b270",
   "metadata": {},
   "outputs": [],
   "source": [
    "# embedding comes from bertmodel(**fast_tokenizer(ten_k_netty[\"text\"],\n",
    " # max_length = 512, truncation=True, padding=True, return_tensors=\"pt\"\n",
    " #)).hidden_states[-1].detach().numpy()\n",
    "# embeddings[:,:1,:].squeeze()\n",
    "#    both_embeddings = np.concatenate([embeddings_a, embeddings_b])\n",
    "# both_embeddings.shape should be (444, 512) because 222 examples * 2 * 512 dimensions"
   ]
  }
 ],
 "metadata": {
  "kernelspec": {
   "display_name": "Python 3 (ipykernel)",
   "language": "python",
   "name": "python3"
  },
  "language_info": {
   "codemirror_mode": {
    "name": "ipython",
    "version": 3
   },
   "file_extension": ".py",
   "mimetype": "text/x-python",
   "name": "python",
   "nbconvert_exporter": "python",
   "pygments_lexer": "ipython3",
   "version": "3.9.7"
  }
 },
 "nbformat": 4,
 "nbformat_minor": 5
}
