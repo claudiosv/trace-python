{
 "cells": [
  {
   "cell_type": "code",
   "execution_count": 1,
   "id": "e06760db",
   "metadata": {},
   "outputs": [],
   "source": [
    "import pandas as pd\n",
    "import seaborn as sns\n",
    "import matplotlib.pyplot as plt"
   ]
  },
  {
   "cell_type": "code",
   "execution_count": 2,
   "id": "5fc1aba4",
   "metadata": {},
   "outputs": [],
   "source": [
    "existing = pd.read_csv(\"test.csv\", index_col='fqn')"
   ]
  },
  {
   "cell_type": "code",
   "execution_count": 3,
   "id": "dfdee24c",
   "metadata": {},
   "outputs": [
    {
     "data": {
      "text/html": [
       "<div>\n",
       "<style scoped>\n",
       "    .dataframe tbody tr th:only-of-type {\n",
       "        vertical-align: middle;\n",
       "    }\n",
       "\n",
       "    .dataframe tbody tr th {\n",
       "        vertical-align: top;\n",
       "    }\n",
       "\n",
       "    .dataframe thead th {\n",
       "        text-align: right;\n",
       "    }\n",
       "</style>\n",
       "<table border=\"1\" class=\"dataframe\">\n",
       "  <thead>\n",
       "    <tr style=\"text-align: right;\">\n",
       "      <th></th>\n",
       "      <th>num_calls</th>\n",
       "      <th>span</th>\n",
       "      <th>executed</th>\n",
       "    </tr>\n",
       "  </thead>\n",
       "  <tbody>\n",
       "    <tr>\n",
       "      <th>count</th>\n",
       "      <td>253.000000</td>\n",
       "      <td>253.000000</td>\n",
       "      <td>253.000000</td>\n",
       "    </tr>\n",
       "    <tr>\n",
       "      <th>mean</th>\n",
       "      <td>0.833992</td>\n",
       "      <td>3.438735</td>\n",
       "      <td>2.486166</td>\n",
       "    </tr>\n",
       "    <tr>\n",
       "      <th>std</th>\n",
       "      <td>1.599885</td>\n",
       "      <td>4.869854</td>\n",
       "      <td>2.815209</td>\n",
       "    </tr>\n",
       "    <tr>\n",
       "      <th>min</th>\n",
       "      <td>0.000000</td>\n",
       "      <td>1.000000</td>\n",
       "      <td>1.000000</td>\n",
       "    </tr>\n",
       "    <tr>\n",
       "      <th>25%</th>\n",
       "      <td>0.000000</td>\n",
       "      <td>1.000000</td>\n",
       "      <td>1.000000</td>\n",
       "    </tr>\n",
       "    <tr>\n",
       "      <th>50%</th>\n",
       "      <td>0.000000</td>\n",
       "      <td>2.000000</td>\n",
       "      <td>2.000000</td>\n",
       "    </tr>\n",
       "    <tr>\n",
       "      <th>75%</th>\n",
       "      <td>1.000000</td>\n",
       "      <td>4.000000</td>\n",
       "      <td>3.000000</td>\n",
       "    </tr>\n",
       "    <tr>\n",
       "      <th>max</th>\n",
       "      <td>11.000000</td>\n",
       "      <td>36.000000</td>\n",
       "      <td>22.000000</td>\n",
       "    </tr>\n",
       "  </tbody>\n",
       "</table>\n",
       "</div>"
      ],
      "text/plain": [
       "        num_calls        span    executed\n",
       "count  253.000000  253.000000  253.000000\n",
       "mean     0.833992    3.438735    2.486166\n",
       "std      1.599885    4.869854    2.815209\n",
       "min      0.000000    1.000000    1.000000\n",
       "25%      0.000000    1.000000    1.000000\n",
       "50%      0.000000    2.000000    2.000000\n",
       "75%      1.000000    4.000000    3.000000\n",
       "max     11.000000   36.000000   22.000000"
      ]
     },
     "execution_count": 3,
     "metadata": {},
     "output_type": "execute_result"
    }
   ],
   "source": [
    "existing.describe()"
   ]
  },
  {
   "cell_type": "code",
   "execution_count": 4,
   "id": "4c920950",
   "metadata": {},
   "outputs": [
    {
     "data": {
      "text/html": [
       "<div>\n",
       "<style scoped>\n",
       "    .dataframe tbody tr th:only-of-type {\n",
       "        vertical-align: middle;\n",
       "    }\n",
       "\n",
       "    .dataframe tbody tr th {\n",
       "        vertical-align: top;\n",
       "    }\n",
       "\n",
       "    .dataframe thead th {\n",
       "        text-align: right;\n",
       "    }\n",
       "</style>\n",
       "<table border=\"1\" class=\"dataframe\">\n",
       "  <thead>\n",
       "    <tr style=\"text-align: right;\">\n",
       "      <th></th>\n",
       "      <th>num_calls</th>\n",
       "      <th>span</th>\n",
       "      <th>executed</th>\n",
       "    </tr>\n",
       "    <tr>\n",
       "      <th>fqn</th>\n",
       "      <th></th>\n",
       "      <th></th>\n",
       "      <th></th>\n",
       "    </tr>\n",
       "  </thead>\n",
       "  <tbody>\n",
       "    <tr>\n",
       "      <th>org.apache.commons.io.input.UnsynchronizedByteArrayInputStream:UnsynchronizedByteArrayInputStream</th>\n",
       "      <td>1</td>\n",
       "      <td>6</td>\n",
       "      <td>6</td>\n",
       "    </tr>\n",
       "    <tr>\n",
       "      <th>org.apache.commons.io.input.UnsynchronizedByteArrayInputStream:read</th>\n",
       "      <td>0</td>\n",
       "      <td>1</td>\n",
       "      <td>1</td>\n",
       "    </tr>\n",
       "    <tr>\n",
       "      <th>org.apache.commons.io.input.UnsynchronizedByteArrayInputStream:available</th>\n",
       "      <td>0</td>\n",
       "      <td>1</td>\n",
       "      <td>1</td>\n",
       "    </tr>\n",
       "    <tr>\n",
       "      <th>org.apache.commons.io.input.UnsynchronizedByteArrayInputStream:skip</th>\n",
       "      <td>0</td>\n",
       "      <td>11</td>\n",
       "      <td>6</td>\n",
       "    </tr>\n",
       "    <tr>\n",
       "      <th>org.apache.commons.io.input.UnsynchronizedByteArrayInputStream:markSupported</th>\n",
       "      <td>0</td>\n",
       "      <td>1</td>\n",
       "      <td>1</td>\n",
       "    </tr>\n",
       "    <tr>\n",
       "      <th>...</th>\n",
       "      <td>...</td>\n",
       "      <td>...</td>\n",
       "      <td>...</td>\n",
       "    </tr>\n",
       "    <tr>\n",
       "      <th>org.apache.commons.io.file.CountingPathVisitor:getPathCounters</th>\n",
       "      <td>0</td>\n",
       "      <td>1</td>\n",
       "      <td>1</td>\n",
       "    </tr>\n",
       "    <tr>\n",
       "      <th>org.apache.commons.io.file.Counters$LongCounter:get</th>\n",
       "      <td>0</td>\n",
       "      <td>1</td>\n",
       "      <td>1</td>\n",
       "    </tr>\n",
       "    <tr>\n",
       "      <th>org.apache.commons.io.file.PathUtils:deleteFile</th>\n",
       "      <td>4</td>\n",
       "      <td>14</td>\n",
       "      <td>10</td>\n",
       "    </tr>\n",
       "    <tr>\n",
       "      <th>org.apache.commons.io.file.PathUtils:overrideReadOnly</th>\n",
       "      <td>2</td>\n",
       "      <td>4</td>\n",
       "      <td>2</td>\n",
       "    </tr>\n",
       "    <tr>\n",
       "      <th>org.apache.commons.io.file.PathUtils:lambda$overrideReadOnly$1</th>\n",
       "      <td>0</td>\n",
       "      <td>1</td>\n",
       "      <td>1</td>\n",
       "    </tr>\n",
       "  </tbody>\n",
       "</table>\n",
       "<p>253 rows × 3 columns</p>\n",
       "</div>"
      ],
      "text/plain": [
       "                                                    num_calls  span  executed\n",
       "fqn                                                                          \n",
       "org.apache.commons.io.input.UnsynchronizedByteA...          1     6         6\n",
       "org.apache.commons.io.input.UnsynchronizedByteA...          0     1         1\n",
       "org.apache.commons.io.input.UnsynchronizedByteA...          0     1         1\n",
       "org.apache.commons.io.input.UnsynchronizedByteA...          0    11         6\n",
       "org.apache.commons.io.input.UnsynchronizedByteA...          0     1         1\n",
       "...                                                       ...   ...       ...\n",
       "org.apache.commons.io.file.CountingPathVisitor:...          0     1         1\n",
       "org.apache.commons.io.file.Counters$LongCounter...          0     1         1\n",
       "org.apache.commons.io.file.PathUtils:deleteFile             4    14        10\n",
       "org.apache.commons.io.file.PathUtils:overrideRe...          2     4         2\n",
       "org.apache.commons.io.file.PathUtils:lambda$ove...          0     1         1\n",
       "\n",
       "[253 rows x 3 columns]"
      ]
     },
     "execution_count": 4,
     "metadata": {},
     "output_type": "execute_result"
    }
   ],
   "source": [
    "existing"
   ]
  },
  {
   "cell_type": "code",
   "execution_count": 5,
   "id": "74272137",
   "metadata": {},
   "outputs": [
    {
     "data": {
      "text/plain": [
       "<AxesSubplot:>"
      ]
     },
     "execution_count": 5,
     "metadata": {},
     "output_type": "execute_result"
    },
    {
     "data": {
      "image/png": "[encoded data removed]",
      "text/plain": [
       "<Figure size 432x288 with 1 Axes>"
      ]
     },
     "metadata": {
      "needs_background": "light"
     },
     "output_type": "display_data"
    }
   ],
   "source": [
    "existing.plot.box()"
   ]
  },
  {
   "cell_type": "code",
   "execution_count": 6,
   "id": "a9816592",
   "metadata": {},
   "outputs": [
    {
     "data": {
      "text/plain": [
       "<AxesSubplot:title={'center':'Number of java calls vs LOC span'}, xlabel='Number of java calls', ylabel='LOC span'>"
      ]
     },
     "execution_count": 6,
     "metadata": {},
     "output_type": "execute_result"
    },
    {
     "data": {
      "image/png": "[encoded data removed]",
      "text/plain": [
       "<Figure size 432x288 with 1 Axes>"
      ]
     },
     "metadata": {
      "needs_background": "light"
     },
     "output_type": "display_data"
    }
   ],
   "source": [
    "existing.plot.scatter('num_calls', 'span', title='Number of java calls vs LOC span', xlabel='Number of java calls', ylabel='LOC span')"
   ]
  },
  {
   "cell_type": "code",
   "execution_count": 7,
   "id": "e32a53e9",
   "metadata": {},
   "outputs": [
    {
     "data": {
      "text/plain": [
       "<AxesSubplot:title={'center':'Number of java calls vs LOC executed'}, xlabel='Number of java calls', ylabel='LOC executed'>"
      ]
     },
     "execution_count": 7,
     "metadata": {},
     "output_type": "execute_result"
    },
    {
     "data": {
      "image/png": "[encoded data removed]",
      "text/plain": [
       "<Figure size 432x288 with 1 Axes>"
      ]
     },
     "metadata": {
      "needs_background": "light"
     },
     "output_type": "display_data"
    }
   ],
   "source": [
    "existing.plot.scatter('num_calls', 'executed', title='Number of java calls vs LOC executed', xlabel='Number of java calls', ylabel='LOC executed')"
   ]
  },
  {
   "cell_type": "code",
   "execution_count": 8,
   "id": "e5091c30",
   "metadata": {},
   "outputs": [
    {
     "data": {
      "text/plain": [
       "<AxesSubplot:xlabel='num_calls', ylabel='span'>"
      ]
     },
     "execution_count": 8,
     "metadata": {},
     "output_type": "execute_result"
    },
    {
     "data": {
      "image/png": "[encoded data removed]",
      "text/plain": [
       "<Figure size 432x288 with 1 Axes>"
      ]
     },
     "metadata": {
      "needs_background": "light"
     },
     "output_type": "display_data"
    }
   ],
   "source": [
    "sns.regplot(x=existing[\"num_calls\"], y=existing[\"span\"], line_kws={\"color\":\"r\",\"alpha\":0.7,\"lw\":5})"
   ]
  },
  {
   "cell_type": "code",
   "execution_count": 9,
   "id": "56106b27",
   "metadata": {},
   "outputs": [],
   "source": [
    "existing.reset_index(inplace=True)"
   ]
  },
  {
   "cell_type": "code",
   "execution_count": 10,
   "id": "2f8157d1",
   "metadata": {},
   "outputs": [
    {
     "data": {
      "image/png": "[encoded data removed]",
      "text/plain": [
       "<Figure size 432x288 with 1 Axes>"
      ]
     },
     "metadata": {
      "needs_background": "light"
     },
     "output_type": "display_data"
    }
   ],
   "source": [
    "sns.kdeplot(x=existing[\"num_calls\"], y=existing[\"span\"], cmap=\"Reds\", shade=True)\n",
    "ax = sns.regplot(x=existing[\"num_calls\"], y=existing[\"span\"], line_kws={\"color\":\"g\",\"alpha\":0.7,\"lw\":5})\n",
    "ax.set_xlabel('Number of java.* calls')\n",
    "ax.set_ylabel('LOC Span')\n",
    "plt.title('Number of java calls vs LOC span')\n",
    "plt.show()"
   ]
  },
  {
   "cell_type": "code",
   "execution_count": null,
   "id": "5aed1e90",
   "metadata": {},
   "outputs": [],
   "source": []
  },
  {
   "cell_type": "code",
   "execution_count": null,
   "id": "bc36571a",
   "metadata": {},
   "outputs": [],
   "source": []
  }
 ],
 "metadata": {
  "kernelspec": {
   "display_name": "Python 3 (ipykernel)",
   "language": "python",
   "name": "python3"
  },
  "language_info": {
   "codemirror_mode": {
    "name": "ipython",
    "version": 3
   },
   "file_extension": ".py",
   "mimetype": "text/x-python",
   "name": "python",
   "nbconvert_exporter": "python",
   "pygments_lexer": "ipython3",
   "version": "3.9.10"
  }
 },
 "nbformat": 4,
 "nbformat_minor": 5
}
