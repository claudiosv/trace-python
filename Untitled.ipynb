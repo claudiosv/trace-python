{
 "cells": [
  {
   "cell_type": "code",
   "execution_count": 1,
   "id": "61d8b615",
   "metadata": {},
   "outputs": [],
   "source": [
    "import numpy as np"
   ]
  },
  {
   "cell_type": "code",
   "execution_count": 11,
   "id": "cf79bf59",
   "metadata": {},
   "outputs": [],
   "source": [
    "x = np.array([[1,1],[2,2],[3,3],[4,4]])"
   ]
  },
  {
   "cell_type": "code",
   "execution_count": 57,
   "id": "ce4a624e",
   "metadata": {},
   "outputs": [
    {
     "data": {
      "text/plain": [
       "array([[1, 1],\n",
       "       [2, 2],\n",
       "       [3, 3],\n",
       "       [4, 4]])"
      ]
     },
     "execution_count": 57,
     "metadata": {},
     "output_type": "execute_result"
    }
   ],
   "source": [
    "x"
   ]
  },
  {
   "cell_type": "code",
   "execution_count": 63,
   "id": "3995e910",
   "metadata": {},
   "outputs": [],
   "source": [
    "y = np.array([[1],[1],[-1],[-1]])"
   ]
  },
  {
   "cell_type": "code",
   "execution_count": 64,
   "id": "79666de9",
   "metadata": {},
   "outputs": [
    {
     "data": {
      "text/plain": [
       "array([[ 1],\n",
       "       [ 1],\n",
       "       [-1],\n",
       "       [-1]])"
      ]
     },
     "execution_count": 64,
     "metadata": {},
     "output_type": "execute_result"
    }
   ],
   "source": [
    "y"
   ]
  },
  {
   "cell_type": "code",
   "execution_count": 42,
   "id": "5b2686f0",
   "metadata": {},
   "outputs": [
    {
     "data": {
      "text/plain": [
       "array([[ 1,  1],\n",
       "       [ 2,  2],\n",
       "       [-3, -3],\n",
       "       [-4, -4]])"
      ]
     },
     "execution_count": 42,
     "metadata": {},
     "output_type": "execute_result"
    }
   ],
   "source": [
    "x*y"
   ]
  },
  {
   "cell_type": "code",
   "execution_count": 16,
   "id": "684b816c",
   "metadata": {},
   "outputs": [],
   "source": [
    "x = np.array([[1,1],[2,2],[3,3],[4,4]])"
   ]
  },
  {
   "cell_type": "code",
   "execution_count": 21,
   "id": "ddc92966",
   "metadata": {},
   "outputs": [
    {
     "data": {
      "text/plain": [
       "array([[1, 1],\n",
       "       [2, 2],\n",
       "       [3, 3],\n",
       "       [4, 4]])"
      ]
     },
     "execution_count": 21,
     "metadata": {},
     "output_type": "execute_result"
    }
   ],
   "source": [
    "x"
   ]
  },
  {
   "cell_type": "code",
   "execution_count": 23,
   "id": "415869a2",
   "metadata": {},
   "outputs": [
    {
     "data": {
      "text/plain": [
       "array([[ 2,  4,  6,  8],\n",
       "       [ 4,  8, 12, 16],\n",
       "       [ 6, 12, 18, 24],\n",
       "       [ 8, 16, 24, 32]])"
      ]
     },
     "execution_count": 23,
     "metadata": {},
     "output_type": "execute_result"
    }
   ],
   "source": [
    "np.dot(x,x.T)"
   ]
  },
  {
   "cell_type": "code",
   "execution_count": 24,
   "id": "4ab0b2ac",
   "metadata": {},
   "outputs": [],
   "source": [
    "ex = np.array([[1,2],[-1,2],[-1,-2]])"
   ]
  },
  {
   "cell_type": "code",
   "execution_count": 25,
   "id": "b1a99fb4",
   "metadata": {},
   "outputs": [
    {
     "data": {
      "text/plain": [
       "array([[ 1,  2],\n",
       "       [-1,  2],\n",
       "       [-1, -2]])"
      ]
     },
     "execution_count": 25,
     "metadata": {},
     "output_type": "execute_result"
    }
   ],
   "source": [
    "ex"
   ]
  },
  {
   "cell_type": "code",
   "execution_count": 31,
   "id": "e5b52416",
   "metadata": {},
   "outputs": [],
   "source": [
    "ey = np.array([[-1],[-1],[1]])"
   ]
  },
  {
   "cell_type": "code",
   "execution_count": 32,
   "id": "49e71ad0",
   "metadata": {},
   "outputs": [
    {
     "data": {
      "text/plain": [
       "array([[-1],\n",
       "       [-1],\n",
       "       [ 1]])"
      ]
     },
     "execution_count": 32,
     "metadata": {},
     "output_type": "execute_result"
    }
   ],
   "source": [
    "ey"
   ]
  },
  {
   "cell_type": "code",
   "execution_count": 44,
   "id": "3ec14fd4",
   "metadata": {},
   "outputs": [],
   "source": [
    "np.dot(ex,ex.T)"
   ]
  },
  {
   "cell_type": "code",
   "execution_count": 35,
   "id": "1c1f788f",
   "metadata": {},
   "outputs": [
    {
     "ename": "ValueError",
     "evalue": "shapes (3,2) and (3,1) not aligned: 2 (dim 1) != 3 (dim 0)",
     "output_type": "error",
     "traceback": [
      "\u001b[0;31m---------------------------------------------------------------------------\u001b[0m",
      "\u001b[0;31mValueError\u001b[0m                                Traceback (most recent call last)",
      "\u001b[0;32m/var/folders/w4/w5bq_xjs67g3ft70hr5_572c0000gn/T/ipykernel_25348/2759805705.py\u001b[0m in \u001b[0;36m<module>\u001b[0;34m\u001b[0m\n\u001b[0;32m----> 1\u001b[0;31m \u001b[0mnp\u001b[0m\u001b[0;34m.\u001b[0m\u001b[0mdot\u001b[0m\u001b[0;34m(\u001b[0m\u001b[0mex\u001b[0m\u001b[0;34m,\u001b[0m\u001b[0mey\u001b[0m\u001b[0;34m)\u001b[0m\u001b[0;34m\u001b[0m\u001b[0;34m\u001b[0m\u001b[0m\n\u001b[0m",
      "\u001b[0;32m<__array_function__ internals>\u001b[0m in \u001b[0;36mdot\u001b[0;34m(*args, **kwargs)\u001b[0m\n",
      "\u001b[0;31mValueError\u001b[0m: shapes (3,2) and (3,1) not aligned: 2 (dim 1) != 3 (dim 0)"
     ]
    }
   ],
   "source": [
    "np.dot(ex,ey)"
   ]
  },
  {
   "cell_type": "code",
   "execution_count": 45,
   "id": "b78d3027",
   "metadata": {},
   "outputs": [],
   "source": [
    "xp = ex*ey"
   ]
  },
  {
   "cell_type": "code",
   "execution_count": 46,
   "id": "0b726ad1",
   "metadata": {},
   "outputs": [
    {
     "data": {
      "text/plain": [
       "array([[5, 3, 5],\n",
       "       [3, 5, 3],\n",
       "       [5, 3, 5]])"
      ]
     },
     "execution_count": 46,
     "metadata": {},
     "output_type": "execute_result"
    }
   ],
   "source": [
    "np.dot(xp,xp.T)"
   ]
  },
  {
   "cell_type": "code",
   "execution_count": 61,
   "id": "3ef6143a",
   "metadata": {},
   "outputs": [
    {
     "data": {
      "text/plain": [
       "array([-1, -1, -1,  1,  1,  1])"
      ]
     },
     "execution_count": 61,
     "metadata": {},
     "output_type": "execute_result"
    }
   ],
   "source": [
    "y"
   ]
  },
  {
   "cell_type": "code",
   "execution_count": 65,
   "id": "ef451201",
   "metadata": {},
   "outputs": [
    {
     "name": "stdout",
     "output_type": "stream",
     "text": [
      "w =  [[-1. -1.]]\n",
      "b =  [5.]\n",
      "Indices of support vectors =  [2 1]\n",
      "Support vectors =  [[3. 3.]\n",
      " [2. 2.]]\n",
      "Number of support vectors for each class =  [1 1]\n",
      "Coefficients of the support vector in the decision function =  [[1. 1.]]\n"
     ]
    }
   ],
   "source": [
    "from sklearn.svm import SVC\n",
    "\n",
    "#X = np.array([[3,4],[1,4],[2,3],[6,-1],[7,-1],[5,-3]] )\n",
    "#y = np.array([-1,-1, -1, 1, 1 , 1 ])\n",
    "\n",
    "clf = SVC(C = 1e5, kernel = 'linear')\n",
    "clf.fit(x, y.flatten()) \n",
    "w=clf.coef_\n",
    "print('w = ',clf.coef_)\n",
    "print('b = ',clf.intercept_)\n",
    "print('Indices of support vectors = ', clf.support_)\n",
    "print('Support vectors = ', clf.support_vectors_)\n",
    "print('Number of support vectors for each class = ', clf.n_support_)\n",
    "print('Coefficients of the support vector in the decision function = ', np.abs(clf.dual_coef_))"
   ]
  },
  {
   "cell_type": "code",
   "execution_count": 73,
   "id": "2beb504a",
   "metadata": {},
   "outputs": [
    {
     "data": {
      "text/plain": [
       "2.0"
      ]
     },
     "execution_count": 73,
     "metadata": {},
     "output_type": "execute_result"
    }
   ],
   "source": [
    "1 / np.sqrt(np.sum(clf.coef_ ** 2))"
   ]
  },
  {
   "cell_type": "code",
   "execution_count": 70,
   "id": "5b9de135",
   "metadata": {},
   "outputs": [
    {
     "data": {
      "text/plain": [
       "array([[1, 1],\n",
       "       [2, 2],\n",
       "       [3, 3],\n",
       "       [4, 4]])"
      ]
     },
     "execution_count": 70,
     "metadata": {},
     "output_type": "execute_result"
    }
   ],
   "source": [
    "x"
   ]
  },
  {
   "cell_type": "code",
   "execution_count": 72,
   "id": "7ead49e7",
   "metadata": {},
   "outputs": [
    {
     "data": {
      "text/plain": [
       "0.7071067811865475"
      ]
     },
     "execution_count": 72,
     "metadata": {},
     "output_type": "execute_result"
    }
   ],
   "source": [
    "1/np.linalg.norm(w)"
   ]
  },
  {
   "cell_type": "code",
   "execution_count": 48,
   "id": "9ffdc1e6",
   "metadata": {},
   "outputs": [
    {
     "name": "stdout",
     "output_type": "stream",
     "text": [
      "Collecting scikit-learn\n",
      "  Using cached scikit_learn-1.0.2-cp39-cp39-macosx_10_13_x86_64.whl (8.0 MB)\n",
      "Collecting joblib>=0.11\n",
      "  Using cached joblib-1.1.0-py2.py3-none-any.whl (306 kB)\n",
      "Requirement already satisfied: numpy>=1.14.6 in /Users/claudio/Library/Caches/pypoetry/virtualenvs/trace-python-SyleCPbL-py3.9/lib/python3.9/site-packages (from scikit-learn) (1.21.1)\n",
      "Collecting threadpoolctl>=2.0.0\n",
      "  Using cached threadpoolctl-3.1.0-py3-none-any.whl (14 kB)\n",
      "Requirement already satisfied: scipy>=1.1.0 in /Users/claudio/Library/Caches/pypoetry/virtualenvs/trace-python-SyleCPbL-py3.9/lib/python3.9/site-packages (from scikit-learn) (1.6.1)\n",
      "Installing collected packages: threadpoolctl, joblib, scikit-learn\n",
      "Successfully installed joblib-1.1.0 scikit-learn-1.0.2 threadpoolctl-3.1.0\n",
      "\u001b[33mWARNING: You are using pip version 21.2.4; however, version 22.0.4 is available.\n",
      "You should consider upgrading via the '/Users/claudio/Library/Caches/pypoetry/virtualenvs/trace-python-SyleCPbL-py3.9/bin/python -m pip install --upgrade pip' command.\u001b[0m\n"
     ]
    }
   ],
   "source": [
    "!pip install scikit-learn"
   ]
  },
  {
   "cell_type": "code",
   "execution_count": 74,
   "id": "e96ef31c",
   "metadata": {},
   "outputs": [],
   "source": [
    "import numpy as np\n",
    "import pandas as pd\n",
    "from matplotlib import pyplot as plt\n",
    "import seaborn as sns\n",
    "sns.set()"
   ]
  },
  {
   "cell_type": "code",
   "execution_count": 75,
   "id": "7bc1be07",
   "metadata": {},
   "outputs": [],
   "source": [
    "def geo_margin(y,w,b,x):\n",
    "    return y*(w / np.linalg.norm(w)).T @ x + (b / np.linalg.norm(w)).flatten()\n",
    "\n",
    "def functional_margin(y,w,b,x):\n",
    "    return y*(w.T @ x + b).flatten()\n",
    "\n",
    "def f(x, w, b, c=0):\n",
    "    # given x1, return x2 such that [x1,x2] are on the line w.x + b = c\n",
    "    return (-w[0] * x - b + c) / w[1]"
   ]
  },
  {
   "cell_type": "code",
   "execution_count": 142,
   "id": "bdd8d519",
   "metadata": {},
   "outputs": [
    {
     "data": {
      "image/png": "[encoded data removed]",
      "text/plain": [
       "<Figure size 720x720 with 1 Axes>"
      ]
     },
     "metadata": {},
     "output_type": "display_data"
    }
   ],
   "source": [
    "#Data set\n",
    "x_neg = np.array([[3,3],[4,4]])\n",
    "y_neg = np.array([-1,-1])\n",
    "x_pos = np.array([[1,1],[2,2]])\n",
    "y_pos = np.array([1,1])\n",
    "x1 = np.linspace(0,5)\n",
    "y1 = np.linspace(5,0)\n",
    "x = np.vstack((np.linspace(0,5),np.linspace(0,5)))\n",
    "\n",
    "#Parameters guessed by inspection\n",
    "w = np.array([-1,-1]).reshape(-1,1)\n",
    "b = -3\n",
    "\n",
    "#Plot\n",
    "fig = plt.figure(figsize = (10,10))\n",
    "plt.scatter(x_neg[:,0], x_neg[:,1], marker = '_', color = 'b', label = 'Negative -1')\n",
    "plt.scatter(x_pos[:,0], x_pos[:,1], marker = '+', color = 'r',label = 'Positive +1')\n",
    "plt.plot(x1, y1, color = 'darkblue')\n",
    "plt.plot(x1, y1  - 1, linestyle = '--', alpha = .3, color = 'r')\n",
    "plt.plot(x1, y1  + 1, linestyle = '--', alpha = .3, color = 'b')\n",
    "plt.xlim(0,5)\n",
    "plt.ylim(0,5)\n",
    "plt.xticks(np.arange(0, 6, step=1))\n",
    "plt.yticks(np.arange(0, 6, step=1))\n",
    "\n",
    "#Lines\n",
    "plt.axvline(0, color = 'black', alpha = .5)\n",
    "plt.axhline(0,color = 'black', alpha = .5)\n",
    "plt.plot([2,3],[2,3], linestyle = '-', color = 'darkblue', alpha = .5 )\n",
    "# plt.plot([2.5,3],[3,3],[2.5,2.5],[3,2.5], linestyle = ':', color = 'darkblue', alpha = .5 )\n",
    "plt.plot([0,2.5],[0,2.5], linestyle = ':', color = 'darkblue', alpha = .5 )\n",
    "#\n",
    "##Annotations\n",
    "#plt.annotate(text = '$A \\ (6,-1)$', xy = (5,-1), xytext = (6,-1.5))\n",
    "#plt.annotate(text = '$B \\ (2,3)$', xy = (2,3), xytext = (2,3.5))#, arrowprops = {'width':.2, 'headwidth':8})\n",
    "#plt.annotate(text = '$2$', xy = (5,1.2), xytext = (5,1.2) )\n",
    "#plt.annotate(text = '$2$', xy = (6.2,.5), xytext = (6.2,.5))\n",
    "#plt.annotate(text = '$2\\sqrt{2}$', xy = (4.5,-.5), xytext = (4.5,-.5))\n",
    "#plt.annotate(text = '$2\\sqrt{2}$', xy = (2.5,1.5), xytext = (2.5,1.5))\n",
    "#plt.annotate(text = '$w^Tx + b = 0$', xy = (8,4.5), xytext = (8,4.5))\n",
    "#plt.annotate(text = '$(\\\\frac{1}{4},-\\\\frac{1}{4}) \\\\binom{x_1}{x_2}- \\\\frac{3}{4} = 0$', xy = (7.5,4), xytext = (7.5,4))\n",
    "#plt.annotate(text = '$\\\\frac{3}{\\sqrt{2}}$', xy = (.5,-1), xytext = (.5,-1))\n",
    "\n",
    "#Labels and show\n",
    "plt.xlabel('$x_1$')\n",
    "plt.ylabel('$x_2$')\n",
    "plt.legend(loc = 'upper right')\n",
    "plt.show()"
   ]
  },
  {
   "cell_type": "code",
   "execution_count": 125,
   "id": "af863a46",
   "metadata": {},
   "outputs": [
    {
     "data": {
      "image/png": "[encoded data removed]",
      "text/plain": [
       "<Figure size 720x720 with 1 Axes>"
      ]
     },
     "metadata": {},
     "output_type": "display_data"
    }
   ],
   "source": [
    "#Data set\n",
    "x_neg = np.array([[3,4],[1,4],[2,3]])\n",
    "y_neg = np.array([-1,-1,-1])\n",
    "x_pos = np.array([[6,-1],[7,-1],[5,-3]])\n",
    "y_pos = np.array([1,1,1])\n",
    "x1 = np.linspace(-10,10)\n",
    "x = np.vstack((np.linspace(-10,10),np.linspace(-10,10)))\n",
    "\n",
    "#Parameters guessed by inspection\n",
    "w = np.array([1,-1]).reshape(-1,1)\n",
    "b = -3\n",
    "\n",
    "#Plot\n",
    "fig = plt.figure(figsize = (10,10))\n",
    "plt.scatter(x_neg[:,0], x_neg[:,1], marker = 'x', color = 'r', label = 'Negative -1')\n",
    "plt.scatter(x_pos[:,0], x_pos[:,1], marker = 'o', color = 'b',label = 'Positive +1')\n",
    "plt.plot(x1, x1  - 3, color = 'darkblue')\n",
    "plt.plot(x1, x1  - 7, linestyle = '--', alpha = .3, color = 'b')\n",
    "plt.plot(x1, x1  + 1, linestyle = '--', alpha = .3, color = 'r')\n",
    "plt.xlim(0,10)\n",
    "plt.ylim(-5,5)\n",
    "plt.xticks(np.arange(0, 10, step=1))\n",
    "plt.yticks(np.arange(-5, 5, step=1))\n",
    "\n",
    "#Lines\n",
    "plt.axvline(0, color = 'black', alpha = .5)\n",
    "plt.axhline(0,color = 'black', alpha = .5)\n",
    "plt.plot([2,6],[3,-1], linestyle = '-', color = 'darkblue', alpha = .5 )\n",
    "plt.plot([4,6],[1,1],[6,6],[1,-1], linestyle = ':', color = 'darkblue', alpha = .5 )\n",
    "plt.plot([0,1.5],[0,-1.5],[6,6],[1,-1], linestyle = ':', color = 'darkblue', alpha = .5 )\n",
    "\n",
    "#Annotations\n",
    "plt.annotate(text = '$A \\ (6,-1)$', xy = (5,-1), xytext = (6,-1.5))\n",
    "plt.annotate(text = '$B \\ (2,3)$', xy = (2,3), xytext = (2,3.5))#, arrowprops = {'width':.2, 'headwidth':8})\n",
    "plt.annotate(text = '$2$', xy = (5,1.2), xytext = (5,1.2) )\n",
    "plt.annotate(text = '$2$', xy = (6.2,.5), xytext = (6.2,.5))\n",
    "plt.annotate(text = '$2\\sqrt{2}$', xy = (4.5,-.5), xytext = (4.5,-.5))\n",
    "plt.annotate(text = '$2\\sqrt{2}$', xy = (2.5,1.5), xytext = (2.5,1.5))\n",
    "plt.annotate(text = '$w^Tx + b = 0$', xy = (8,4.5), xytext = (8,4.5))\n",
    "plt.annotate(text = '$(\\\\frac{1}{4},-\\\\frac{1}{4}) \\\\binom{x_1}{x_2}- \\\\frac{3}{4} = 0$', xy = (7.5,4), xytext = (7.5,4))\n",
    "plt.annotate(text = '$\\\\frac{3}{\\sqrt{2}}$', xy = (.5,-1), xytext = (.5,-1))\n",
    "\n",
    "#Labels and show\n",
    "plt.xlabel('$x_1$')\n",
    "plt.ylabel('$x_2$')\n",
    "plt.legend(loc = 'lower right')\n",
    "plt.show()"
   ]
  },
  {
   "cell_type": "code",
   "execution_count": null,
   "id": "007d60d6",
   "metadata": {},
   "outputs": [],
   "source": []
  }
 ],
 "metadata": {
  "kernelspec": {
   "display_name": "Python 3 (ipykernel)",
   "language": "python",
   "name": "python3"
  },
  "language_info": {
   "codemirror_mode": {
    "name": "ipython",
    "version": 3
   },
   "file_extension": ".py",
   "mimetype": "text/x-python",
   "name": "python",
   "nbconvert_exporter": "python",
   "pygments_lexer": "ipython3",
   "version": "3.9.12"
  }
 },
 "nbformat": 4,
 "nbformat_minor": 5
}
