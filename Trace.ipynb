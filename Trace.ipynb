{
 "cells": [
  {
   "cell_type": "code",
   "execution_count": 1,
   "metadata": {},
   "outputs": [],
   "source": [
    "import json\n",
    "import glob\n",
    "import os\n",
    "import gzip\n",
    "from pathlib import Path\n",
    "import re"
   ]
  },
  {
   "cell_type": "code",
   "execution_count": 3,
   "metadata": {},
   "outputs": [],
   "source": [
    "root_dir = \"/Users/claudio/projects/binarydecomp/Jackal/repos/\"\n",
    "dumps = {}\n",
    "dump_counter = {}\n",
    "for filename in glob.iglob(root_dir + '**/*.gz', recursive=True):\n",
    "    if os.path.getsize(filename) > 0:\n",
    "        stem = Path(filename).stem\n",
    "        traces_in_dump = []\n",
    "        with gzip.open(filename, 'rb') as f:\n",
    "            for line in f:\n",
    "                if stem in dump_counter:\n",
    "                    dump_counter[stem] += 1\n",
    "                else:\n",
    "                    dump_counter[stem] = 0\n",
    "                traces_in_dump.append(json.loads(line))\n",
    "        dumps[stem] = traces_in_dump"
   ]
  },
  {
   "cell_type": "code",
   "execution_count": 4,
   "metadata": {},
   "outputs": [
    {
     "data": {
      "text/plain": [
       "{'hw1_Test1LibraryLogger_java1': 667,\n",
       " 'org_apache_commons_io_FileUtilsDeleteDirectoryLinuxTest_java': 1549,\n",
       " 'org_apache_commons_io_output_TaggedOutputStreamTest_java': 1077,\n",
       " 'org_apache_commons_io_input_RandomAccessFileInputStreamTest_java': 1072,\n",
       " 'org_apache_commons_io_input_ReversedLinesFileReaderTestSimple_java': 1443,\n",
       " 'org_apache_commons_io_FileUtilsDeleteDirectoryWindowsTest_java': 980,\n",
       " 'org_apache_commons_io_filefilter_AndFileFilterTest_java': 2307,\n",
       " 'org_apache_commons_io_input_SequenceReaderTest_java': 1178,\n",
       " 'org_apache_commons_io_output_NullAppendableTest_java': 985,\n",
       " 'org_apache_commons_io_file_DirectoryStreamFilterTest_java': 2087,\n",
       " 'org_apache_commons_io_input_CharacterFilterReaderTest_java': 1041,\n",
       " 'org_apache_commons_io_input_UncheckedFilterReaderTest_java': 1175,\n",
       " 'org_apache_commons_io_output_DeferredFileOutputStreamTest_java': 6697,\n",
       " 'org_apache_commons_io_comparator_SizeFileComparatorTest_java': 1210,\n",
       " 'org_apache_commons_io_input_StringInputStreamTest_java': 971,\n",
       " 'org_apache_commons_io_input_AutoCloseInputStreamTest_java': 1003,\n",
       " 'org_apache_commons_io_output_UncheckedFilterWriterTest_java': 1231,\n",
       " 'org_apache_commons_io_jmh_jmh_generated_IOUtilsContentEqualsReadersBenchmark_testFilePr118_jmhTest_java': 970,\n",
       " 'org_apache_commons_io_filefilter_AbstractFilterTest_java': 922,\n",
       " 'org_apache_commons_io_input_UnsynchronizedByteArrayInputStreamTest_java': 1164}"
      ]
     },
     "execution_count": 4,
     "metadata": {},
     "output_type": "execute_result"
    }
   ],
   "source": [
    "dump_counter"
   ]
  },
  {
   "cell_type": "code",
   "execution_count": 5,
   "metadata": {},
   "outputs": [],
   "source": [
    "sample_dump = 'hw1_Test1LibraryLogger_java1'\n",
    "sample_trace = dumps['hw1_Test1LibraryLogger_java1'][3]"
   ]
  },
  {
   "cell_type": "code",
   "execution_count": 11,
   "metadata": {},
   "outputs": [
    {
     "data": {
      "text/plain": [
       "'performExpensiveLogSetup [ENTRY] void [CALL] java.io.PrintStream println java.lang.String void [CALL] java.lang.Math pow double|double double [CALL] java.lang.Math sqrt double double [CALL] java.io.PrintStream println java.lang.String void [EXIT]'"
      ]
     },
     "execution_count": 11,
     "metadata": {},
     "output_type": "execute_result"
    }
   ],
   "source": [
    "indexed_traces = {} # dump: []\n",
    "vocab_counter = {}\n",
    "distinct_calls = {}\n",
    "calls_per_trace = {} # dump_name.trace: \\d\n",
    "recursions_per_trace = {} # dump_name.trace: \\d\n",
    "api_counter = {}\n",
    "junit = []\n",
    "def type_list(types):\n",
    "    value = \" \"\n",
    "    for t in types:\n",
    "        value += (t + '|')\n",
    "    return value[:-1]\n",
    "def event_to_str(event, trace_root_fqn, dump_name):\n",
    "    #print(event)\n",
    "    e_k = event['event_kind']\n",
    "    string = ''\n",
    "    if e_k == 'method_entry':\n",
    "      # entry\n",
    "        string += \"[ENTRY] \" + event['return_type'] + type_list(event['parameter_types']) + ' '\n",
    "        if re.match(\".*junit.*\", string):\n",
    "            junit.append(dump_name + ': ' + trace_root_fqn)\n",
    "    elif e_k == 'method_call':\n",
    "       # oo\n",
    "        intermediate = \"[CALL] \" + event['called_class_name'] + ' ' + event['called_method_name'] + type_list(event['parameter_types']) + ' ' + event['return_type'] + ' '\n",
    "        string += intermediate\n",
    "        if intermediate in distinct_calls:\n",
    "            distinct_calls[intermediate] += 1\n",
    "        else:\n",
    "            distinct_calls[intermediate] = 1\n",
    "        \n",
    "        if trace_root_fqn in calls_per_trace:\n",
    "            calls_per_trace[trace_root_fqn] += 1\n",
    "        else:\n",
    "            calls_per_trace[trace_root_fqn] = 1\n",
    "        \n",
    "        called_class_name = event['called_class_name']\n",
    "        if called_class_name.startswith('java'):\n",
    "            class_stems = event['called_class_name'].split('.')\n",
    "            class_stem = '.'.join(class_stems[:3])\n",
    "            if class_stem in api_counter:\n",
    "                api_counter[class_stem] += 1\n",
    "            else:\n",
    "                api_counter[class_stem] = 1\n",
    "            \n",
    "    elif e_k == 'method_exit':\n",
    "       # oo\n",
    "        if 'return_type' in event:\n",
    "            string += \"[EXIT] \" + event['return_type']\n",
    "        else:\n",
    "            string += \"[EXIT] \"\n",
    "    else:\n",
    "        pass\n",
    "    return string\n",
    "def trace_to_string(dump_name, trace, trace_root_fqn, recursive=True):\n",
    "    string = trace['method_name'] + ' '\n",
    "    if not trace_root_fqn:\n",
    "            trace_root_fqn = dump_name + '.' + trace['method_name']\n",
    "    for event in trace['method_events']:\n",
    "        if recursive and type(event) is int:\n",
    "            #print('Trace indexed')\n",
    "            #pass\n",
    "            if dump_name in indexed_traces and event in indexed_traces[dump_name]:\n",
    "                if trace_root_fqn in recursions_per_trace:\n",
    "                    recursions_per_trace[trace_root_fqn] += 1\n",
    "                else:\n",
    "                    recursions_per_trace[trace_root_fqn] = 1\n",
    "                string += trace_to_string(dump_name, indexed_traces[dump_name][event], trace_root_fqn)\n",
    "            else:\n",
    "                pass\n",
    "                #print('Trace not indexed')\n",
    "        else:\n",
    "            event_string = event_to_str(event, trace_root_fqn, dump_name)\n",
    "            #if not trace_root_fqn in recursions_per_trace:\n",
    "            #    recursions_per_trace[trace_root_fqn] = 0\n",
    "            if event_string in vocab_counter:\n",
    "                vocab_counter[event_string] += 1\n",
    "            else:\n",
    "                vocab_counter[event_string] = 1\n",
    "            string += event_string\n",
    "    if dump_name in indexed_traces:\n",
    "        indexed_traces[dump_name][trace['index']] = trace\n",
    "    else:\n",
    "        indexed_traces[dump_name] = {}\n",
    "        indexed_traces[dump_name][trace['index']] = trace\n",
    "    return string\n",
    "trace_to_string(sample_dump, sample_trace, '')[:-1]"
   ]
  },
  {
   "cell_type": "code",
   "execution_count": 12,
   "metadata": {
    "scrolled": false
   },
   "outputs": [],
   "source": [
    "string_traces = []\n",
    "for dump_name,traces in dumps.items():\n",
    "    for trace in traces:\n",
    "        string_traces.append(trace_to_string(dump_name,trace, ''))\n",
    "longest_string = max(string_traces, key=len)\n",
    "#print(longest_string)"
   ]
  },
  {
   "cell_type": "code",
   "execution_count": 13,
   "metadata": {},
   "outputs": [
    {
     "data": {
      "text/plain": [
       "[]"
      ]
     },
     "execution_count": 13,
     "metadata": {},
     "output_type": "execute_result"
    }
   ],
   "source": [
    "junit"
   ]
  },
  {
   "cell_type": "code",
   "execution_count": 8,
   "metadata": {},
   "outputs": [
    {
     "data": {
      "text/plain": [
       "{'hw1_Test1LibraryLogger_java1.LibraryLogger': 1,\n",
       " 'org_apache_commons_io_input_CharacterFilterReaderTest_java.lambda$testReadFilteringEOF$0': 51,\n",
       " 'org_apache_commons_io_input_CharacterFilterReaderTest_java.CharacterFilterReader': 5,\n",
       " 'org_apache_commons_io_input_CharacterFilterReaderTest_java.read': 66,\n",
       " 'org_apache_commons_io_input_CharacterFilterReaderTest_java.filter': 60}"
      ]
     },
     "execution_count": 8,
     "metadata": {},
     "output_type": "execute_result"
    }
   ],
   "source": [
    "recursions_per_trace"
   ]
  },
  {
   "cell_type": "code",
   "execution_count": 9,
   "metadata": {},
   "outputs": [],
   "source": [
    "sort_vocab = {k: v for k, v in sorted(vocab_counter.items(), key=lambda item: item[1])}"
   ]
  },
  {
   "cell_type": "code",
   "execution_count": 10,
   "metadata": {},
   "outputs": [],
   "source": [
    "from matplotlib import pyplot as plt"
   ]
  },
  {
   "cell_type": "code",
   "execution_count": 11,
   "metadata": {},
   "outputs": [
    {
     "data": {
      "text/plain": [
       "230"
      ]
     },
     "execution_count": 11,
     "metadata": {},
     "output_type": "execute_result"
    }
   ],
   "source": [
    "len(distinct_calls.keys()) # 230 distinct calls"
   ]
  },
  {
   "cell_type": "code",
   "execution_count": 12,
   "metadata": {},
   "outputs": [
    {
     "data": {
      "text/plain": [
       "[<matplotlib.lines.Line2D at 0x15ef94b50>]"
      ]
     },
     "execution_count": 12,
     "metadata": {},
     "output_type": "execute_result"
    },
    {
     "data": {
      "image/png": "[encoded data removed]",
      "text/plain": [
       "<Figure size 432x288 with 1 Axes>"
      ]
     },
     "metadata": {
      "needs_background": "light"
     },
     "output_type": "display_data"
    }
   ],
   "source": [
    "plt.plot({k: v for k, v in sorted(distinct_calls.items(), key=lambda item: item[1])}.values())"
   ]
  },
  {
   "cell_type": "code",
   "execution_count": 13,
   "metadata": {
    "scrolled": true
   },
   "outputs": [
    {
     "data": {
      "text/plain": [
       "dict_values([1, 1, 1, 1, 1, 1, 1, 1, 1, 1, 1, 1, 1, 1, 1, 1, 1, 1, 1, 1, 1, 1, 1, 1, 2, 2, 2, 2, 2, 2, 2, 2, 2, 2, 2, 2, 2, 2, 2, 2, 2, 2, 2, 2, 2, 2, 2, 2, 2, 2, 2, 2, 2, 2, 2, 2, 2, 2, 2, 2, 2, 2, 2, 2, 2, 2, 2, 2, 2, 2, 2, 2, 2, 2, 3, 3, 3, 3, 3, 3, 3, 3, 3, 3, 3, 3, 3, 3, 3, 3, 3, 3, 3, 3, 3, 3, 3, 3, 4, 4, 4, 4, 4, 4, 4, 4, 4, 4, 4, 4, 4, 4, 4, 4, 4, 4, 4, 4, 4, 4, 4, 4, 4, 4, 4, 4, 4, 4, 4, 4, 4, 5, 5, 5, 5, 5, 5, 5, 5, 5, 5, 5, 5, 5, 5, 5, 5, 5, 5, 5, 5, 5, 5, 5, 5, 6, 6, 6, 6, 6, 6, 6, 6, 6, 6, 6, 6, 6, 6, 6, 6, 7, 7, 7, 7, 7, 7, 7, 7, 7, 7, 7, 7, 7, 7, 8, 8, 8, 8, 8, 8, 8, 8, 8, 8, 8, 9, 9, 9, 9, 9, 9, 9, 9, 10, 10, 10, 10, 10, 10, 10, 10, 10, 10, 10, 11, 11, 11, 11, 11, 11, 11, 11, 11, 11, 11, 11, 12, 12, 12, 12, 12, 12, 12, 12, 12, 12, 13, 13, 13, 13, 13, 13, 13, 13, 13, 13, 13, 13, 13, 13, 13, 13, 13, 13, 14, 14, 14, 14, 14, 14, 14, 15, 15, 15, 16, 16, 16, 16, 16, 17, 17, 17, 17, 18, 18, 18, 18, 19, 19, 19, 20, 20, 20, 20, 21, 21, 21, 21, 21, 21, 21, 21, 21, 21, 21, 21, 21, 21, 21, 21, 21, 21, 22, 22, 22, 22, 22, 22, 23, 24, 25, 26, 26, 26, 26, 26, 26, 26, 26, 27, 27, 27, 27, 28, 29, 30, 30, 31, 32, 32, 32, 32, 36, 36, 36, 36, 36, 38, 39, 39, 39, 39, 39, 40, 40, 40, 41, 42, 42, 44, 44, 44, 46, 46, 46, 48, 48, 49, 51, 52, 52, 52, 54, 54, 55, 56, 60, 65, 71, 78, 81, 81, 81, 81, 82, 91, 91, 91, 91, 91, 92, 92, 95, 99, 102, 103, 111, 117, 118, 121, 125, 125, 127, 130, 139, 144, 145, 147, 147, 154, 162, 162, 162, 166, 170, 172, 175, 180, 183, 183, 199, 210, 218, 232, 240, 240, 249, 256, 272, 282, 284, 287, 288, 289, 300, 302, 308, 346, 407, 430, 441, 469, 471, 489, 489, 489, 489, 489, 489, 489, 500, 508, 532, 537, 611, 944, 950, 950, 951, 978, 978, 978, 978, 999, 1000, 1020, 1146, 1274, 1299, 1655, 1728, 1740, 2019, 2184, 28459, 29933])"
      ]
     },
     "execution_count": 13,
     "metadata": {},
     "output_type": "execute_result"
    }
   ],
   "source": [
    "sort_vocab.values()"
   ]
  },
  {
   "cell_type": "code",
   "execution_count": 14,
   "metadata": {},
   "outputs": [
    {
     "data": {
      "text/plain": [
       "[<matplotlib.lines.Line2D at 0x15f0e2310>]"
      ]
     },
     "execution_count": 14,
     "metadata": {},
     "output_type": "execute_result"
    },
    {
     "data": {
      "image/png": "[encoded data removed]",
      "text/plain": [
       "<Figure size 432x288 with 1 Axes>"
      ]
     },
     "metadata": {
      "needs_background": "light"
     },
     "output_type": "display_data"
    }
   ],
   "source": [
    "plt.plot(sort_vocab.values())"
   ]
  },
  {
   "cell_type": "code",
   "execution_count": 15,
   "metadata": {},
   "outputs": [
    {
     "data": {
      "text/plain": [
       "[<matplotlib.lines.Line2D at 0x15f149a00>]"
      ]
     },
     "execution_count": 15,
     "metadata": {},
     "output_type": "execute_result"
    },
    {
     "data": {
      "image/png": "[encoded data removed]",
      "text/plain": [
       "<Figure size 432x288 with 1 Axes>"
      ]
     },
     "metadata": {
      "needs_background": "light"
     },
     "output_type": "display_data"
    }
   ],
   "source": [
    "plt.semilogy(sort_vocab.values())#, title=\"Vocab frequency distribution (log scaled)\")"
   ]
  },
  {
   "cell_type": "code",
   "execution_count": 16,
   "metadata": {},
   "outputs": [],
   "source": [
    "with open(\"data_set.txt\", \"w\") as out:\n",
    "    out.writelines(string_traces)"
   ]
  },
  {
   "cell_type": "code",
   "execution_count": 17,
   "metadata": {},
   "outputs": [
    {
     "data": {
      "text/plain": [
       "29749"
      ]
     },
     "execution_count": 17,
     "metadata": {},
     "output_type": "execute_result"
    }
   ],
   "source": [
    "len(string_traces)"
   ]
  },
  {
   "cell_type": "code",
   "execution_count": 18,
   "metadata": {
    "scrolled": true
   },
   "outputs": [
    {
     "data": {
      "text/plain": [
       "20"
      ]
     },
     "execution_count": 18,
     "metadata": {},
     "output_type": "execute_result"
    }
   ],
   "source": [
    "len(indexed_traces)"
   ]
  },
  {
   "cell_type": "code",
   "execution_count": 19,
   "metadata": {},
   "outputs": [
    {
     "data": {
      "text/plain": [
       "1165"
      ]
     },
     "execution_count": 19,
     "metadata": {},
     "output_type": "execute_result"
    }
   ],
   "source": [
    "len(traces)"
   ]
  },
  {
   "cell_type": "code",
   "execution_count": 22,
   "metadata": {},
   "outputs": [],
   "source": [
    "from statistics import mean"
   ]
  },
  {
   "cell_type": "markdown",
   "metadata": {},
   "source": [
    "## Do we have a useful Java-specific angle for the project?\n",
    "We envision 2 usecases for this approach. Our approach captures the runtime behaviour of a piece of given Java code, and can therefore be used for:\n",
    "* Clone detection: similar or identical pieces of code violate DRY principles. While state of the art NLM approaches such as CodeT5 do well, they lack understanding of runtime semantics.\n",
    "* Code similarity calculation: Similar to the above task, our approach allows us to calculate how similar a given set of code is based on runtime behaviour. Our trace embedding approach allows us to cluster similar pieces of code in an n-dimensional space."
   ]
  },
  {
   "cell_type": "markdown",
   "metadata": {},
   "source": [
    "## What's the distribution of trace lengths i.e. calls? How long is the average trace? "
   ]
  },
  {
   "cell_type": "markdown",
   "metadata": {},
   "source": [
    "# todo: log scale version, 95th percentile\n",
    "are reflect calls being made by junit internally i.e. before test case runs?\n",
    "- stick to traces processable under 1hr each\n",
    "- find the root of the trace\n",
    "- more filtering (esp regarding junit)\n",
    "- setup the model, train transformer\n",
    "- is it meaningful to know how deep the call to java.util (eg) is?\n",
    "- is stateformer useful for learning about program structure? eg how deep the call is\n",
    "- diversity of data. revisit next week.\n",
    "conf Automated SE end April"
   ]
  },
  {
   "cell_type": "code",
   "execution_count": 23,
   "metadata": {},
   "outputs": [
    {
     "data": {
      "text/plain": [
       "31.44485981308411"
      ]
     },
     "execution_count": 23,
     "metadata": {},
     "output_type": "execute_result"
    },
    {
     "data": {
      "image/png": "[encoded data removed]",
      "text/plain": [
       "<Figure size 432x288 with 1 Axes>"
      ]
     },
     "metadata": {
      "needs_background": "light"
     },
     "output_type": "display_data"
    }
   ],
   "source": [
    "sorted_calls_per_trace = {k: v for k, v in sorted(calls_per_trace.items(), reverse=True, key=lambda item: item[1])}.values()\n",
    "plt.plot(sorted_calls_per_trace)\n",
    "mean(sorted_calls_per_trace)\n"
   ]
  },
  {
   "cell_type": "markdown",
   "metadata": {},
   "source": [
    "## What's the distribution of distinct calls?"
   ]
  },
  {
   "cell_type": "code",
   "execution_count": 24,
   "metadata": {},
   "outputs": [
    {
     "data": {
      "text/plain": [
       "[<matplotlib.lines.Line2D at 0x16b6c06d0>]"
      ]
     },
     "execution_count": 24,
     "metadata": {},
     "output_type": "execute_result"
    },
    {
     "data": {
      "image/png": "[encoded data removed]",
      "text/plain": [
       "<Figure size 432x288 with 1 Axes>"
      ]
     },
     "metadata": {
      "needs_background": "light"
     },
     "output_type": "display_data"
    }
   ],
   "source": [
    "sorted_distinct = {k: v for k, v in sorted(distinct_calls.items(), reverse=True, key=lambda item: item[1])}.values()\n",
    "plt.plot(sorted_distinct)\n"
   ]
  },
  {
   "cell_type": "markdown",
   "metadata": {},
   "source": [
    "There are about 260 distinct calls (i.e. the exact FQN, arg types, and return types are identical). Exponential."
   ]
  },
  {
   "cell_type": "markdown",
   "metadata": {},
   "source": [
    "## What if we prune everything but the top 20%?"
   ]
  },
  {
   "cell_type": "code",
   "execution_count": 25,
   "metadata": {},
   "outputs": [
    {
     "data": {
      "text/plain": [
       "16823"
      ]
     },
     "execution_count": 25,
     "metadata": {},
     "output_type": "execute_result"
    }
   ],
   "source": [
    "sum(list(sorted_distinct))"
   ]
  },
  {
   "cell_type": "code",
   "execution_count": 26,
   "metadata": {},
   "outputs": [
    {
     "data": {
      "text/plain": [
       "3364.6000000000004"
      ]
     },
     "execution_count": 26,
     "metadata": {},
     "output_type": "execute_result"
    }
   ],
   "source": [
    "sum(list(sorted_distinct))*0.2 # 20% of the mass is located in values less than"
   ]
  },
  {
   "cell_type": "code",
   "execution_count": 27,
   "metadata": {
    "scrolled": true
   },
   "outputs": [
    {
     "data": {
      "text/plain": [
       "3298"
      ]
     },
     "execution_count": 27,
     "metadata": {},
     "output_type": "execute_result"
    }
   ],
   "source": [
    "sum(list(sorted_distinct)[:3])"
   ]
  },
  {
   "cell_type": "markdown",
   "metadata": {},
   "source": [
    "We see that the top-3 make up almost 20% of the values."
   ]
  },
  {
   "cell_type": "markdown",
   "metadata": {},
   "source": [
    "## How many invocations does the average test case (the whole class) in our dataset make?"
   ]
  },
  {
   "cell_type": "code",
   "execution_count": 28,
   "metadata": {},
   "outputs": [
    {
     "data": {
      "text/plain": [
       "[<matplotlib.lines.Line2D at 0x16b71eca0>]"
      ]
     },
     "execution_count": 28,
     "metadata": {},
     "output_type": "execute_result"
    },
    {
     "data": {
      "image/png": "[encoded data removed]",
      "text/plain": [
       "<Figure size 432x288 with 1 Axes>"
      ]
     },
     "metadata": {
      "needs_background": "light"
     },
     "output_type": "display_data"
    }
   ],
   "source": [
    "sorted_dumps_counter = {k: v for k, v in sorted(dump_counter.items(), reverse=True, key=lambda item: item[1])}.values()\n",
    "ax = plt.gca()\n",
    "ax.axes.xaxis.set_visible(False)\n",
    "plt.plot(sorted_dumps_counter)"
   ]
  },
  {
   "cell_type": "code",
   "execution_count": 29,
   "metadata": {},
   "outputs": [
    {
     "data": {
      "text/plain": [
       "1486.45"
      ]
     },
     "execution_count": 29,
     "metadata": {},
     "output_type": "execute_result"
    }
   ],
   "source": [
    "\n",
    "mean(sorted_dumps_counter)"
   ]
  },
  {
   "cell_type": "markdown",
   "metadata": {},
   "source": [
    "This graph represents the number of traces per test case, which is equal to the number of method invocations per test case. The average test case makes 1486 method invocations."
   ]
  },
  {
   "cell_type": "markdown",
   "metadata": {},
   "source": [
    "## How deep does the average trace go?\n",
    "This is counted by incrementing a counter per test case/method FQN each time an indexed trace is called."
   ]
  },
  {
   "cell_type": "code",
   "execution_count": 30,
   "metadata": {},
   "outputs": [],
   "source": [
    "for k in calls_per_trace.keys():\n",
    "    if not k in recursions_per_trace:\n",
    "        recursions_per_trace[k] = 0"
   ]
  },
  {
   "cell_type": "code",
   "execution_count": 31,
   "metadata": {},
   "outputs": [
    {
     "data": {
      "text/plain": [
       "0.34205607476635513"
      ]
     },
     "execution_count": 31,
     "metadata": {},
     "output_type": "execute_result"
    },
    {
     "data": {
      "image/png": "[encoded data removed]",
      "text/plain": [
       "<Figure size 432x288 with 1 Axes>"
      ]
     },
     "metadata": {
      "needs_background": "light"
     },
     "output_type": "display_data"
    }
   ],
   "source": [
    "recursions_per_trace_counter = {k: v for k, v in sorted(recursions_per_trace.items(), reverse=True, key=lambda item: item[1])}.values()\n",
    "ax = plt.gca()\n",
    "#ax.axes.xaxis.set_visible(False)\n",
    "plt.plot(recursions_per_trace_counter)\n",
    "from statistics import mean\n",
    "mean(recursions_per_trace_counter)"
   ]
  },
  {
   "cell_type": "markdown",
   "metadata": {},
   "source": [
    "The average trace has a very low depth. In fact, there are only 4 traced methods that refer to other traces i.e. are recursive. We believe this is due to the limited dev dataset."
   ]
  },
  {
   "cell_type": "markdown",
   "metadata": {},
   "source": [
    "## What is the namespace distribution of the calls?\n",
    "How many are java.util, java.core etc"
   ]
  },
  {
   "cell_type": "code",
   "execution_count": 32,
   "metadata": {},
   "outputs": [],
   "source": [
    "api_counter_sort = {k: v for k, v in sorted(api_counter.items(), reverse=True, key=lambda item: item[1])}\n",
    "import itertools\n",
    "api_counter_sorted = dict(itertools.islice(api_counter_sort.items(), 30))"
   ]
  },
  {
   "cell_type": "code",
   "execution_count": 33,
   "metadata": {},
   "outputs": [
    {
     "data": {
      "image/png": "[encoded data removed]",
      "text/plain": [
       "<Figure size 720x720 with 1 Axes>"
      ]
     },
     "metadata": {
      "needs_background": "light"
     },
     "output_type": "display_data"
    }
   ],
   "source": [
    "y_pos = range(0, len(api_counter_sorted))\n",
    "fig = plt.figure(figsize=(10,10)) \n",
    "plt.barh(y_pos,api_counter_sorted.values(), align='center', alpha=0.5)\n",
    "plt.yticks(y_pos, api_counter_sorted.keys())\n",
    "plt.xlabel('Usage')\n",
    "plt.title('Calls to java.*')\n",
    "\n",
    "plt.show()"
   ]
  },
  {
   "cell_type": "markdown",
   "metadata": {},
   "source": [
    "We see that the distribution quickly tapers off: the majority of calls to the java namespace are to a couple classes."
   ]
  },
  {
   "cell_type": "markdown",
   "metadata": {},
   "source": [
    "## Does it make sense to ignore traces with more than 100 calls or more than a depth of 100?\n",
    "No, the majority of traces have well over 100 calls, and most are very shallow (<4)."
   ]
  },
  {
   "cell_type": "markdown",
   "metadata": {},
   "source": [
    "## How many API calls are made along the way on average?\n",
    "Given the very shallow depth of traces in this dataset, I have not analyzed the amount of calls along a recursive descent. Instead, I look at how many API calls are made per traced method."
   ]
  }
 ],
 "metadata": {
  "kernelspec": {
   "display_name": "Python 3 (ipykernel)",
   "language": "python",
   "name": "python3"
  },
  "language_info": {
   "codemirror_mode": {
    "name": "ipython",
    "version": 3
   },
   "file_extension": ".py",
   "mimetype": "text/x-python",
   "name": "python",
   "nbconvert_exporter": "python",
   "pygments_lexer": "ipython3",
   "version": "3.9.9"
  }
 },
 "nbformat": 4,
 "nbformat_minor": 4
}
